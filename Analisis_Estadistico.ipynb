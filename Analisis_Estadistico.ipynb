{
 "cells": [
  {
   "cell_type": "markdown",
   "metadata": {
    "id": "3rYiDeEH0q0f"
   },
   "source": [
    "# ¿Cuál es la mejor tarifa?\n",
    "\n",
    "Trabajas como analista para el operador de telecomunicaciones Megaline. La empresa ofrece a sus clientes dos tarifas de prepago, Surf y Ultimate. El departamento comercial quiere saber cuál de las tarifas genera más ingresos para poder ajustar el presupuesto de publicidad.\n",
    "\n",
    "Vas a realizar un análisis preliminar de las tarifas basado en una selección de clientes relativamente pequeña. Tendrás los datos de 500 clientes de Megaline: quiénes son los clientes, de dónde son, qué tarifa usan, así como la cantidad de llamadas que hicieron y los mensajes de texto que enviaron en 2018. Tu trabajo es analizar el comportamiento de los clientes y determinar qué tarifa de prepago genera más ingresos."
   ]
  },
  {
   "cell_type": "markdown",
   "metadata": {},
   "source": [
    "## Propósito\n",
    "\n",
    "El propósito es entender el comportamiento de los usuarios de dos planes diferentes (surf, ultimate) para poder tomar desiciones acerca de marketing, promoción e inversión. El propísito es entender el uso que los usuarios le dan a las llamadas, los mensajes y el uso de los GB para cada data frame.\n",
    "Se hará un preprocesamiento de cada data frame para observar datos nulos, duplicados y enriquecer los datos.\n",
    "Se usarán técnicas estadísticas como el promedio, la varianza, el graficado de barras, histogramas y gráfico de cajas para una mejor visualización"
   ]
  },
  {
   "cell_type": "markdown",
   "metadata": {
    "id": "MQi4IPy70q0y"
   },
   "source": [
    "## Inicialización"
   ]
  },
  {
   "cell_type": "code",
   "execution_count": 2,
   "metadata": {
    "id": "MtYIuBxu0q0z"
   },
   "outputs": [],
   "source": [
    "# Cargar todas las librerías\n",
    "import pandas as pd\n",
    "import numpy as np\n",
    "import math\n",
    "from matplotlib import pyplot as plt\n",
    "from scipy import stats as st"
   ]
  },
  {
   "cell_type": "markdown",
   "metadata": {
    "id": "4ysWWC5i0q00"
   },
   "source": [
    "## Cargar datos"
   ]
  },
  {
   "cell_type": "code",
   "execution_count": 7,
   "metadata": {
    "id": "CCqPW7rS0q01"
   },
   "outputs": [],
   "source": [
    "# Carga los archivos de datos en diferentes DataFrames\n",
    "# Conjunto 'users'\n",
    "df_users = pd.read_csv('megaline_users.csv')\n",
    "# Conjunto 'calls'\n",
    "df_calls = pd.read_csv('megaline_calls.csv')\n",
    "# Conjunto 'messages'\n",
    "df_messages = pd.read_csv('megaline_messages.csv')\n",
    "# Conjunto 'internet'\n",
    "df_internet = pd.read_csv('megaline_internet.csv')\n",
    "# Conjunto 'plans'\n",
    "df_plans = pd.read_csv('megaline_plans.csv')\n"
   ]
  },
  {
   "cell_type": "markdown",
   "metadata": {
    "id": "69qqoJ3r0q01"
   },
   "source": [
    "## Preparar los datos"
   ]
  },
  {
   "cell_type": "markdown",
   "metadata": {
    "id": "ohBhimvH0q01"
   },
   "source": [
    "## Tarifas"
   ]
  },
  {
   "cell_type": "code",
   "execution_count": 13,
   "metadata": {
    "id": "GptqP3Q40q02"
   },
   "outputs": [
    {
     "name": "stdout",
     "output_type": "stream",
     "text": [
      "<class 'pandas.core.frame.DataFrame'>\n",
      "RangeIndex: 2 entries, 0 to 1\n",
      "Data columns (total 8 columns):\n",
      " #   Column                 Non-Null Count  Dtype  \n",
      "---  ------                 --------------  -----  \n",
      " 0   messages_included      2 non-null      int64  \n",
      " 1   mb_per_month_included  2 non-null      int64  \n",
      " 2   minutes_included       2 non-null      int64  \n",
      " 3   usd_monthly_pay        2 non-null      int64  \n",
      " 4   usd_per_gb             2 non-null      int64  \n",
      " 5   usd_per_message        2 non-null      float64\n",
      " 6   usd_per_minute         2 non-null      float64\n",
      " 7   plan_name              2 non-null      object \n",
      "dtypes: float64(2), int64(5), object(1)\n",
      "memory usage: 260.0+ bytes\n"
     ]
    }
   ],
   "source": [
    "# Imprime la información general/resumida sobre el DataFrame de las tarifas\n",
    "\n",
    "df_plans.info()"
   ]
  },
  {
   "cell_type": "code",
   "execution_count": 17,
   "metadata": {
    "id": "64xzjwL70q02"
   },
   "outputs": [
    {
     "name": "stdout",
     "output_type": "stream",
     "text": [
      "   messages_included  mb_per_month_included  minutes_included  \\\n",
      "0                 50                  15360               500   \n",
      "1               1000                  30720              3000   \n",
      "\n",
      "   usd_monthly_pay  usd_per_gb  usd_per_message  usd_per_minute plan_name  \n",
      "0               20          10             0.03            0.03      surf  \n",
      "1               70           7             0.01            0.01  ultimate  \n"
     ]
    },
    {
     "data": {
      "text/html": [
       "<div>\n",
       "<style scoped>\n",
       "    .dataframe tbody tr th:only-of-type {\n",
       "        vertical-align: middle;\n",
       "    }\n",
       "\n",
       "    .dataframe tbody tr th {\n",
       "        vertical-align: top;\n",
       "    }\n",
       "\n",
       "    .dataframe thead th {\n",
       "        text-align: right;\n",
       "    }\n",
       "</style>\n",
       "<table border=\"1\" class=\"dataframe\">\n",
       "  <thead>\n",
       "    <tr style=\"text-align: right;\">\n",
       "      <th></th>\n",
       "      <th>messages_included</th>\n",
       "      <th>mb_per_month_included</th>\n",
       "      <th>minutes_included</th>\n",
       "      <th>usd_monthly_pay</th>\n",
       "      <th>usd_per_gb</th>\n",
       "      <th>usd_per_message</th>\n",
       "      <th>usd_per_minute</th>\n",
       "    </tr>\n",
       "  </thead>\n",
       "  <tbody>\n",
       "    <tr>\n",
       "      <th>count</th>\n",
       "      <td>2.000000</td>\n",
       "      <td>2.000000</td>\n",
       "      <td>2.000000</td>\n",
       "      <td>2.000000</td>\n",
       "      <td>2.00000</td>\n",
       "      <td>2.000000</td>\n",
       "      <td>2.000000</td>\n",
       "    </tr>\n",
       "    <tr>\n",
       "      <th>mean</th>\n",
       "      <td>525.000000</td>\n",
       "      <td>23040.000000</td>\n",
       "      <td>1750.000000</td>\n",
       "      <td>45.000000</td>\n",
       "      <td>8.50000</td>\n",
       "      <td>0.020000</td>\n",
       "      <td>0.020000</td>\n",
       "    </tr>\n",
       "    <tr>\n",
       "      <th>std</th>\n",
       "      <td>671.751442</td>\n",
       "      <td>10861.160159</td>\n",
       "      <td>1767.766953</td>\n",
       "      <td>35.355339</td>\n",
       "      <td>2.12132</td>\n",
       "      <td>0.014142</td>\n",
       "      <td>0.014142</td>\n",
       "    </tr>\n",
       "    <tr>\n",
       "      <th>min</th>\n",
       "      <td>50.000000</td>\n",
       "      <td>15360.000000</td>\n",
       "      <td>500.000000</td>\n",
       "      <td>20.000000</td>\n",
       "      <td>7.00000</td>\n",
       "      <td>0.010000</td>\n",
       "      <td>0.010000</td>\n",
       "    </tr>\n",
       "    <tr>\n",
       "      <th>25%</th>\n",
       "      <td>287.500000</td>\n",
       "      <td>19200.000000</td>\n",
       "      <td>1125.000000</td>\n",
       "      <td>32.500000</td>\n",
       "      <td>7.75000</td>\n",
       "      <td>0.015000</td>\n",
       "      <td>0.015000</td>\n",
       "    </tr>\n",
       "    <tr>\n",
       "      <th>50%</th>\n",
       "      <td>525.000000</td>\n",
       "      <td>23040.000000</td>\n",
       "      <td>1750.000000</td>\n",
       "      <td>45.000000</td>\n",
       "      <td>8.50000</td>\n",
       "      <td>0.020000</td>\n",
       "      <td>0.020000</td>\n",
       "    </tr>\n",
       "    <tr>\n",
       "      <th>75%</th>\n",
       "      <td>762.500000</td>\n",
       "      <td>26880.000000</td>\n",
       "      <td>2375.000000</td>\n",
       "      <td>57.500000</td>\n",
       "      <td>9.25000</td>\n",
       "      <td>0.025000</td>\n",
       "      <td>0.025000</td>\n",
       "    </tr>\n",
       "    <tr>\n",
       "      <th>max</th>\n",
       "      <td>1000.000000</td>\n",
       "      <td>30720.000000</td>\n",
       "      <td>3000.000000</td>\n",
       "      <td>70.000000</td>\n",
       "      <td>10.00000</td>\n",
       "      <td>0.030000</td>\n",
       "      <td>0.030000</td>\n",
       "    </tr>\n",
       "  </tbody>\n",
       "</table>\n",
       "</div>"
      ],
      "text/plain": [
       "       messages_included  mb_per_month_included  minutes_included  \\\n",
       "count           2.000000               2.000000          2.000000   \n",
       "mean          525.000000           23040.000000       1750.000000   \n",
       "std           671.751442           10861.160159       1767.766953   \n",
       "min            50.000000           15360.000000        500.000000   \n",
       "25%           287.500000           19200.000000       1125.000000   \n",
       "50%           525.000000           23040.000000       1750.000000   \n",
       "75%           762.500000           26880.000000       2375.000000   \n",
       "max          1000.000000           30720.000000       3000.000000   \n",
       "\n",
       "       usd_monthly_pay  usd_per_gb  usd_per_message  usd_per_minute  \n",
       "count         2.000000     2.00000         2.000000        2.000000  \n",
       "mean         45.000000     8.50000         0.020000        0.020000  \n",
       "std          35.355339     2.12132         0.014142        0.014142  \n",
       "min          20.000000     7.00000         0.010000        0.010000  \n",
       "25%          32.500000     7.75000         0.015000        0.015000  \n",
       "50%          45.000000     8.50000         0.020000        0.020000  \n",
       "75%          57.500000     9.25000         0.025000        0.025000  \n",
       "max          70.000000    10.00000         0.030000        0.030000  "
      ]
     },
     "execution_count": 17,
     "metadata": {},
     "output_type": "execute_result"
    }
   ],
   "source": [
    "# Imprime una muestra de los datos para las tarifas\n",
    "\n",
    "print(df_plans)\n",
    "df_plans.describe()"
   ]
  },
  {
   "cell_type": "markdown",
   "metadata": {
    "id": "mEc_3_hs0q02"
   },
   "source": [
    "Observaciones:\n",
    "\n",
    "Este data frame cuenta con las características que incluyen dos tipos de planes y los cargos extras al sobrepasar los límites de cada plan. No se encuentra algún problema en los datos, no se ven datos nulos ni duplicados, el tipo de datos de cada columna es correcto, los nombres estan en forma correcta, en conclusion este dataframe no presenta problemas que arreglar o mejorar "
   ]
  },
  {
   "cell_type": "markdown",
   "metadata": {
    "id": "R3C05i1l0q03"
   },
   "source": [
    "## Corregir datos"
   ]
  },
  {
   "cell_type": "markdown",
   "metadata": {
    "id": "Y7SVmjGn0q03"
   },
   "source": [
    "Ya que no se encuentran problemas, no hay correcciones necesarias"
   ]
  },
  {
   "cell_type": "markdown",
   "metadata": {
    "id": "LJir7bml0q03"
   },
   "source": [
    "## Enriquecer los datos"
   ]
  },
  {
   "cell_type": "markdown",
   "metadata": {
    "id": "gfcIEuXV0q04"
   },
   "source": [
    "Tapoco se encuentran factores adicioneales que agregar"
   ]
  },
  {
   "cell_type": "markdown",
   "metadata": {
    "id": "1n2X6WXf0q04"
   },
   "source": [
    "## Usuarios/as"
   ]
  },
  {
   "cell_type": "code",
   "execution_count": 25,
   "metadata": {
    "id": "2NgjWFqx0q05"
   },
   "outputs": [
    {
     "name": "stdout",
     "output_type": "stream",
     "text": [
      "<class 'pandas.core.frame.DataFrame'>\n",
      "RangeIndex: 500 entries, 0 to 499\n",
      "Data columns (total 8 columns):\n",
      " #   Column      Non-Null Count  Dtype \n",
      "---  ------      --------------  ----- \n",
      " 0   user_id     500 non-null    int64 \n",
      " 1   first_name  500 non-null    object\n",
      " 2   last_name   500 non-null    object\n",
      " 3   age         500 non-null    int64 \n",
      " 4   city        500 non-null    object\n",
      " 5   reg_date    500 non-null    object\n",
      " 6   plan        500 non-null    object\n",
      " 7   churn_date  34 non-null     object\n",
      "dtypes: int64(2), object(6)\n",
      "memory usage: 31.4+ KB\n"
     ]
    }
   ],
   "source": [
    "# Imprime la información general/resumida sobre el DataFrame de usuarios\n",
    "\n",
    "df_users.info()"
   ]
  },
  {
   "cell_type": "code",
   "execution_count": 29,
   "metadata": {
    "id": "1IN1L9uh0q05"
   },
   "outputs": [
    {
     "name": "stdout",
     "output_type": "stream",
     "text": [
      "   user_id first_name  last_name  age                                   city  \\\n",
      "0     1000   Anamaria      Bauer   45  Atlanta-Sandy Springs-Roswell, GA MSA   \n",
      "1     1001     Mickey  Wilkerson   28        Seattle-Tacoma-Bellevue, WA MSA   \n",
      "2     1002     Carlee    Hoffman   36   Las Vegas-Henderson-Paradise, NV MSA   \n",
      "3     1003   Reynaldo    Jenkins   52                          Tulsa, OK MSA   \n",
      "4     1004    Leonila   Thompson   40        Seattle-Tacoma-Bellevue, WA MSA   \n",
      "\n",
      "     reg_date      plan churn_date  \n",
      "0  2018-12-24  ultimate        NaN  \n",
      "1  2018-08-13      surf        NaN  \n",
      "2  2018-10-21      surf        NaN  \n",
      "3  2018-01-28      surf        NaN  \n",
      "4  2018-05-23      surf        NaN  \n"
     ]
    },
    {
     "data": {
      "text/html": [
       "<div>\n",
       "<style scoped>\n",
       "    .dataframe tbody tr th:only-of-type {\n",
       "        vertical-align: middle;\n",
       "    }\n",
       "\n",
       "    .dataframe tbody tr th {\n",
       "        vertical-align: top;\n",
       "    }\n",
       "\n",
       "    .dataframe thead th {\n",
       "        text-align: right;\n",
       "    }\n",
       "</style>\n",
       "<table border=\"1\" class=\"dataframe\">\n",
       "  <thead>\n",
       "    <tr style=\"text-align: right;\">\n",
       "      <th></th>\n",
       "      <th>user_id</th>\n",
       "      <th>age</th>\n",
       "    </tr>\n",
       "  </thead>\n",
       "  <tbody>\n",
       "    <tr>\n",
       "      <th>count</th>\n",
       "      <td>500.000000</td>\n",
       "      <td>500.000000</td>\n",
       "    </tr>\n",
       "    <tr>\n",
       "      <th>mean</th>\n",
       "      <td>1249.500000</td>\n",
       "      <td>45.486000</td>\n",
       "    </tr>\n",
       "    <tr>\n",
       "      <th>std</th>\n",
       "      <td>144.481833</td>\n",
       "      <td>16.972269</td>\n",
       "    </tr>\n",
       "    <tr>\n",
       "      <th>min</th>\n",
       "      <td>1000.000000</td>\n",
       "      <td>18.000000</td>\n",
       "    </tr>\n",
       "    <tr>\n",
       "      <th>25%</th>\n",
       "      <td>1124.750000</td>\n",
       "      <td>30.000000</td>\n",
       "    </tr>\n",
       "    <tr>\n",
       "      <th>50%</th>\n",
       "      <td>1249.500000</td>\n",
       "      <td>46.000000</td>\n",
       "    </tr>\n",
       "    <tr>\n",
       "      <th>75%</th>\n",
       "      <td>1374.250000</td>\n",
       "      <td>61.000000</td>\n",
       "    </tr>\n",
       "    <tr>\n",
       "      <th>max</th>\n",
       "      <td>1499.000000</td>\n",
       "      <td>75.000000</td>\n",
       "    </tr>\n",
       "  </tbody>\n",
       "</table>\n",
       "</div>"
      ],
      "text/plain": [
       "           user_id         age\n",
       "count   500.000000  500.000000\n",
       "mean   1249.500000   45.486000\n",
       "std     144.481833   16.972269\n",
       "min    1000.000000   18.000000\n",
       "25%    1124.750000   30.000000\n",
       "50%    1249.500000   46.000000\n",
       "75%    1374.250000   61.000000\n",
       "max    1499.000000   75.000000"
      ]
     },
     "execution_count": 29,
     "metadata": {},
     "output_type": "execute_result"
    }
   ],
   "source": [
    "# Imprime una muestra de datos para usuarios\n",
    "\n",
    "print(df_users.head())\n",
    "df_users.describe()"
   ]
  },
  {
   "cell_type": "markdown",
   "metadata": {
    "id": "dCZoUq4f0q06"
   },
   "source": [
    "Observaciones:\n",
    "\n",
    "1. Tenemos 500 usuarios enrrolados en alguno de los dos tipos de planes (surf o ultimate).\n",
    "2. 'reg_date' debería ser de tipo 'datetime'.\n",
    "3. Hay 466 datos nulos en la columna 'churn_date', son muy pocas personas que no estan enrroladas en algún plan.\n",
    "4. Se debe observar si hay algun dato duplicado, si existe se debe considerar si eliminarlos.\n",
    "5. Cambiaremos las letras mayúsculas por minúsculas con str.lower().\n",
    "6. Cambiaremos los guiones y espacios por guiones bajos con ayuda de replace().\n",
    "7. Cambiaremos los valores ausentes por 'in_use' con fillna() para un mejor entendimiento de esa columna.\n",
    "8. Cambiaremos el tipo de datos en 'reg_date' por el tipo 'datetime' mediante to.datetime()."
   ]
  },
  {
   "cell_type": "markdown",
   "metadata": {
    "id": "BX5FQh_I0q06"
   },
   "source": [
    "### Corregir los datos"
   ]
  },
  {
   "cell_type": "code",
   "execution_count": 33,
   "metadata": {
    "id": "yUqX-K0C0q07"
   },
   "outputs": [
    {
     "name": "stdout",
     "output_type": "stream",
     "text": [
      "Empty DataFrame\n",
      "Columns: [user_id, first_name, last_name, age, city, reg_date, plan, churn_date]\n",
      "Index: []\n"
     ]
    }
   ],
   "source": [
    "# Revisemos si hay renglones duplicados\n",
    "print(df_users[df_users.duplicated()])"
   ]
  },
  {
   "cell_type": "code",
   "execution_count": 35,
   "metadata": {},
   "outputs": [
    {
     "name": "stdout",
     "output_type": "stream",
     "text": [
      "   user_id first_name  last_name  age                                   city  \\\n",
      "0     1000   Anamaria      Bauer   45  Atlanta-Sandy Springs-Roswell, GA MSA   \n",
      "1     1001     Mickey  Wilkerson   28        Seattle-Tacoma-Bellevue, WA MSA   \n",
      "2     1002     Carlee    Hoffman   36   Las Vegas-Henderson-Paradise, NV MSA   \n",
      "3     1003   Reynaldo    Jenkins   52                          Tulsa, OK MSA   \n",
      "4     1004    Leonila   Thompson   40        Seattle-Tacoma-Bellevue, WA MSA   \n",
      "\n",
      "     reg_date      plan churn_date  \n",
      "0  2018-12-24  ultimate     in_use  \n",
      "1  2018-08-13      surf     in_use  \n",
      "2  2018-10-21      surf     in_use  \n",
      "3  2018-01-28      surf     in_use  \n",
      "4  2018-05-23      surf     in_use  \n"
     ]
    }
   ],
   "source": [
    "# Ya que no hay renglones duplicados, reemplazaremos los valores nulos por el valor 'in_use'\n",
    "df_users['churn_date']=df_users['churn_date'].fillna('in_use')\n",
    "\n",
    "# Mostramos los datos\n",
    "print(df_users.head())"
   ]
  },
  {
   "cell_type": "markdown",
   "metadata": {
    "id": "ycwuARJp0q07"
   },
   "source": [
    "### Enriquecer los datos"
   ]
  },
  {
   "cell_type": "code",
   "execution_count": 38,
   "metadata": {
    "id": "iq0AaBS90q08"
   },
   "outputs": [
    {
     "name": "stdout",
     "output_type": "stream",
     "text": [
      "   user_id first_name  last_name  age                                  city  \\\n",
      "0     1000   anamaria      bauer   45  atlanta_sandy_springs_roswell_ga_msa   \n",
      "1     1001     mickey  wilkerson   28        seattle_tacoma_bellevue_wa_msa   \n",
      "2     1002     carlee    hoffman   36   las_vegas_henderson_paradise_nv_msa   \n",
      "3     1003   reynaldo    jenkins   52                          tulsa_ok_msa   \n",
      "4     1004    leonila   thompson   40        seattle_tacoma_bellevue_wa_msa   \n",
      "\n",
      "    reg_date      plan churn_date  \n",
      "0 2018-12-24  ultimate     in_use  \n",
      "1 2018-08-13      surf     in_use  \n",
      "2 2018-10-21      surf     in_use  \n",
      "3 2018-01-28      surf     in_use  \n",
      "4 2018-05-23      surf     in_use  \n"
     ]
    }
   ],
   "source": [
    "# Para facilitar el análisis reemplazaremos a minúsculas todas las letras y los guiones y espacios por guiones bajos\n",
    "# Cambio por minúsculas de la columna 'first_name'\n",
    "df_users['first_name']=df_users['first_name'].str.lower()\n",
    "# Cambio por minúsculas de la columna 'last_name'\n",
    "df_users['last_name']=df_users['last_name'].str.lower()\n",
    "# Cambio por minúsculas de la columna 'city' y reemplazo de '-'por '_' \n",
    "df_users['city']=df_users['city'].str.lower().str.replace('-','_')\n",
    "# Reemplazo de ',' en 'city' por '_'\n",
    "df_users['city']=df_users['city'].str.replace(', ','_')\n",
    "# Reemplazo de ' ' en 'city' por '_'\n",
    "df_users['city']=df_users['city'].str.replace(' ','_')\n",
    "# Cambio de 'reg_date' por un tipo de datos 'datetime'\n",
    "df_users['reg_date'] = pd.to_datetime(df_users['reg_date'], format='%Y-%m-%d')\n",
    "# Mostramos el resultado\n",
    "print(df_users.head())"
   ]
  },
  {
   "cell_type": "markdown",
   "metadata": {
    "id": "o7MeKCid0q08"
   },
   "source": [
    "## Llamadas"
   ]
  },
  {
   "cell_type": "code",
   "execution_count": 41,
   "metadata": {
    "id": "6dDlnoDm0q08"
   },
   "outputs": [
    {
     "name": "stdout",
     "output_type": "stream",
     "text": [
      "<class 'pandas.core.frame.DataFrame'>\n",
      "RangeIndex: 137735 entries, 0 to 137734\n",
      "Data columns (total 4 columns):\n",
      " #   Column     Non-Null Count   Dtype  \n",
      "---  ------     --------------   -----  \n",
      " 0   id         137735 non-null  object \n",
      " 1   user_id    137735 non-null  int64  \n",
      " 2   call_date  137735 non-null  object \n",
      " 3   duration   137735 non-null  float64\n",
      "dtypes: float64(1), int64(1), object(2)\n",
      "memory usage: 4.2+ MB\n"
     ]
    }
   ],
   "source": [
    "# Imprime la información general/resumida sobre el DataFrame de las llamadas\n",
    "\n",
    "df_calls.info()"
   ]
  },
  {
   "cell_type": "code",
   "execution_count": 45,
   "metadata": {
    "id": "kuh1vlNB0q09"
   },
   "outputs": [
    {
     "name": "stdout",
     "output_type": "stream",
     "text": [
      "         id  user_id   call_date  duration\n",
      "0   1000_93     1000  2018-12-27      8.52\n",
      "1  1000_145     1000  2018-12-27     13.66\n",
      "2  1000_247     1000  2018-12-27     14.48\n",
      "3  1000_309     1000  2018-12-28      5.76\n",
      "4  1000_380     1000  2018-12-30      4.22\n"
     ]
    },
    {
     "data": {
      "text/html": [
       "<div>\n",
       "<style scoped>\n",
       "    .dataframe tbody tr th:only-of-type {\n",
       "        vertical-align: middle;\n",
       "    }\n",
       "\n",
       "    .dataframe tbody tr th {\n",
       "        vertical-align: top;\n",
       "    }\n",
       "\n",
       "    .dataframe thead th {\n",
       "        text-align: right;\n",
       "    }\n",
       "</style>\n",
       "<table border=\"1\" class=\"dataframe\">\n",
       "  <thead>\n",
       "    <tr style=\"text-align: right;\">\n",
       "      <th></th>\n",
       "      <th>user_id</th>\n",
       "      <th>duration</th>\n",
       "    </tr>\n",
       "  </thead>\n",
       "  <tbody>\n",
       "    <tr>\n",
       "      <th>count</th>\n",
       "      <td>137735.000000</td>\n",
       "      <td>137735.000000</td>\n",
       "    </tr>\n",
       "    <tr>\n",
       "      <th>mean</th>\n",
       "      <td>1247.658046</td>\n",
       "      <td>6.745927</td>\n",
       "    </tr>\n",
       "    <tr>\n",
       "      <th>std</th>\n",
       "      <td>139.416268</td>\n",
       "      <td>5.839241</td>\n",
       "    </tr>\n",
       "    <tr>\n",
       "      <th>min</th>\n",
       "      <td>1000.000000</td>\n",
       "      <td>0.000000</td>\n",
       "    </tr>\n",
       "    <tr>\n",
       "      <th>25%</th>\n",
       "      <td>1128.000000</td>\n",
       "      <td>1.290000</td>\n",
       "    </tr>\n",
       "    <tr>\n",
       "      <th>50%</th>\n",
       "      <td>1247.000000</td>\n",
       "      <td>5.980000</td>\n",
       "    </tr>\n",
       "    <tr>\n",
       "      <th>75%</th>\n",
       "      <td>1365.000000</td>\n",
       "      <td>10.690000</td>\n",
       "    </tr>\n",
       "    <tr>\n",
       "      <th>max</th>\n",
       "      <td>1499.000000</td>\n",
       "      <td>37.600000</td>\n",
       "    </tr>\n",
       "  </tbody>\n",
       "</table>\n",
       "</div>"
      ],
      "text/plain": [
       "             user_id       duration\n",
       "count  137735.000000  137735.000000\n",
       "mean     1247.658046       6.745927\n",
       "std       139.416268       5.839241\n",
       "min      1000.000000       0.000000\n",
       "25%      1128.000000       1.290000\n",
       "50%      1247.000000       5.980000\n",
       "75%      1365.000000      10.690000\n",
       "max      1499.000000      37.600000"
      ]
     },
     "execution_count": 45,
     "metadata": {},
     "output_type": "execute_result"
    }
   ],
   "source": [
    "# Imprime una muestra de datos para las llamadas\n",
    "\n",
    "print(df_calls.head())\n",
    "df_calls.describe()"
   ]
  },
  {
   "cell_type": "markdown",
   "metadata": {
    "id": "DOAxYJSx0q09"
   },
   "source": [
    "Observaciones:\n",
    "\n",
    "1. Al parecer hay 137735 llamadas de los 500 usuarios.\n",
    "2. En este dataframe se tiene la información de las llamadas por usuario, la fecha en la que se hicieron y su duración. \n",
    "3. 'call_date' debería ser de tipo 'datetime'.\n",
    "4. No hay datos nulos que cambiar o eliminar.\n",
    "5. Se debe observar si hay algun dato duplicado, si existe se debe considerar si eliminarlos.\n",
    "6. Cambiaremos el tipo de datos en 'call_date' por el tipo 'datetime' mediante to.datetime().\n",
    "7. Las llamadas con duración \"0\" podrían ser llamadas realizadas pero que no contestaron o llamadas que contestaron y colgaron muy rápido."
   ]
  },
  {
   "cell_type": "markdown",
   "metadata": {
    "id": "S7hzxmbX0q0-"
   },
   "source": [
    "### Corregir los datos"
   ]
  },
  {
   "cell_type": "code",
   "execution_count": 50,
   "metadata": {
    "id": "S2r8xA4f0q0-"
   },
   "outputs": [
    {
     "name": "stdout",
     "output_type": "stream",
     "text": [
      "user_id\n",
      "1000     116.83\n",
      "1001    1640.46\n",
      "1002     777.13\n",
      "1003    1041.00\n",
      "1004    2618.95\n",
      "         ...   \n",
      "1495    1666.41\n",
      "1496    1376.21\n",
      "1497     276.53\n",
      "1498    3029.97\n",
      "1499    1450.31\n",
      "Name: duration, Length: 481, dtype: float64\n",
      "0\n"
     ]
    }
   ],
   "source": [
    "# Observamos su hay duplicados\n",
    "print(df_calls.groupby('user_id')['duration'].sum())\n",
    "print(df_calls['id'].duplicated().sum())"
   ]
  },
  {
   "cell_type": "markdown",
   "metadata": {
    "id": "KrMgTrlG0q0_"
   },
   "source": [
    "### Enriquecer los datos"
   ]
  },
  {
   "cell_type": "code",
   "execution_count": 53,
   "metadata": {
    "id": "iZ1avpA_0q0_"
   },
   "outputs": [
    {
     "name": "stdout",
     "output_type": "stream",
     "text": [
      "         id  user_id  call_date  duration\n",
      "0   1000_93     1000 2018-12-27      8.52\n",
      "1  1000_145     1000 2018-12-27     13.66\n",
      "2  1000_247     1000 2018-12-27     14.48\n",
      "3  1000_309     1000 2018-12-28      5.76\n",
      "4  1000_380     1000 2018-12-30      4.22\n"
     ]
    }
   ],
   "source": [
    "# Cambiamos 'call_date' al tipo datetime\n",
    "df_calls['call_date'] = pd.to_datetime(df_calls['call_date'], format='%Y-%m-%d')\n",
    "\n",
    "# Mostramos los datos\n",
    "print(df_calls.head())"
   ]
  },
  {
   "cell_type": "markdown",
   "metadata": {
    "id": "mOUZSi180q0_"
   },
   "source": [
    "## Mensajes"
   ]
  },
  {
   "cell_type": "code",
   "execution_count": 55,
   "metadata": {
    "id": "R-bYJpdV0q1A"
   },
   "outputs": [
    {
     "name": "stdout",
     "output_type": "stream",
     "text": [
      "<class 'pandas.core.frame.DataFrame'>\n",
      "RangeIndex: 76051 entries, 0 to 76050\n",
      "Data columns (total 3 columns):\n",
      " #   Column        Non-Null Count  Dtype \n",
      "---  ------        --------------  ----- \n",
      " 0   id            76051 non-null  object\n",
      " 1   user_id       76051 non-null  int64 \n",
      " 2   message_date  76051 non-null  object\n",
      "dtypes: int64(1), object(2)\n",
      "memory usage: 1.7+ MB\n"
     ]
    }
   ],
   "source": [
    "# Imprime la información general/resumida sobre el DataFrame de los mensajes\n",
    "\n",
    "df_messages.info()"
   ]
  },
  {
   "cell_type": "code",
   "execution_count": 57,
   "metadata": {
    "id": "mCEl2iGE0q1A"
   },
   "outputs": [
    {
     "name": "stdout",
     "output_type": "stream",
     "text": [
      "         id  user_id message_date\n",
      "0  1000_125     1000   2018-12-27\n",
      "1  1000_160     1000   2018-12-31\n",
      "2  1000_223     1000   2018-12-31\n",
      "3  1000_251     1000   2018-12-27\n",
      "4  1000_255     1000   2018-12-26\n"
     ]
    }
   ],
   "source": [
    "# Imprime una muestra de datos para los mensajes\n",
    "\n",
    "print(df_messages.head())"
   ]
  },
  {
   "cell_type": "markdown",
   "metadata": {
    "id": "04xDj7KH0q1A"
   },
   "source": [
    "Observaciones:\n",
    "\n",
    "1. Al parecer hay 76051 mensajes de los 500 usuarios.\n",
    "2. En este dataframe se tiene la información de los mensajes por usuario y la fecha en la que se hicieron. \n",
    "3. 'message_date' debería ser de tipo 'datetime'.\n",
    "4. No hay datos nulos que cambiar o eliminar.\n",
    "5. Se debe observar si hay algun dato duplicado, si existe se debe considerar si eliminarlos.\n",
    "6. Cambiaremos el tipo de datos en 'message_date' por el tipo 'datetime' mediante to.datetime()."
   ]
  },
  {
   "cell_type": "markdown",
   "metadata": {
    "id": "Sprfak900q1B"
   },
   "source": [
    "### Corregir los datos"
   ]
  },
  {
   "cell_type": "code",
   "execution_count": 61,
   "metadata": {
    "id": "vsllvkoa0q1B"
   },
   "outputs": [
    {
     "name": "stdout",
     "output_type": "stream",
     "text": [
      "0\n"
     ]
    }
   ],
   "source": [
    "# Calculamos cuantos duplicados hay\n",
    "\n",
    "print(df_calls['id'].duplicated().sum())"
   ]
  },
  {
   "cell_type": "markdown",
   "metadata": {
    "id": "HvLid7iD0q1B"
   },
   "source": [
    "### Enriquecer los datos"
   ]
  },
  {
   "cell_type": "code",
   "execution_count": 64,
   "metadata": {
    "id": "zYEXZac10q1C"
   },
   "outputs": [
    {
     "name": "stdout",
     "output_type": "stream",
     "text": [
      "         id  user_id message_date\n",
      "0  1000_125     1000   2018-12-27\n",
      "1  1000_160     1000   2018-12-31\n",
      "2  1000_223     1000   2018-12-31\n",
      "3  1000_251     1000   2018-12-27\n",
      "4  1000_255     1000   2018-12-26\n"
     ]
    }
   ],
   "source": [
    "# Cambiamos 'message_date' al tipo de dato datatime\n",
    "\n",
    "df_messages['message_date'] = pd.to_datetime(df_messages['message_date'], format='%Y-%m-%d')\n",
    "\n",
    "# Mostramos los datos\n",
    "print(df_messages.head())"
   ]
  },
  {
   "cell_type": "markdown",
   "metadata": {
    "id": "bStkaxn40q1C"
   },
   "source": [
    "## Internet"
   ]
  },
  {
   "cell_type": "code",
   "execution_count": 67,
   "metadata": {
    "id": "e-Uz5qyn0q1C"
   },
   "outputs": [
    {
     "name": "stdout",
     "output_type": "stream",
     "text": [
      "<class 'pandas.core.frame.DataFrame'>\n",
      "RangeIndex: 104825 entries, 0 to 104824\n",
      "Data columns (total 4 columns):\n",
      " #   Column        Non-Null Count   Dtype  \n",
      "---  ------        --------------   -----  \n",
      " 0   id            104825 non-null  object \n",
      " 1   user_id       104825 non-null  int64  \n",
      " 2   session_date  104825 non-null  object \n",
      " 3   mb_used       104825 non-null  float64\n",
      "dtypes: float64(1), int64(1), object(2)\n",
      "memory usage: 3.2+ MB\n"
     ]
    }
   ],
   "source": [
    "# Imprime la información general/resumida sobre el DataFrame de internet\n",
    "\n",
    "df_internet.info()"
   ]
  },
  {
   "cell_type": "code",
   "execution_count": 69,
   "metadata": {
    "id": "9r3x_XLw0q1C"
   },
   "outputs": [
    {
     "name": "stdout",
     "output_type": "stream",
     "text": [
      "         id  user_id session_date  mb_used\n",
      "0   1000_13     1000   2018-12-29    89.86\n",
      "1  1000_204     1000   2018-12-31     0.00\n",
      "2  1000_379     1000   2018-12-28   660.40\n",
      "3  1000_413     1000   2018-12-26   270.99\n",
      "4  1000_442     1000   2018-12-27   880.22\n"
     ]
    }
   ],
   "source": [
    "# Imprime una muestra de datos para el tráfico de internet\n",
    "\n",
    "print(df_internet.head())"
   ]
  },
  {
   "cell_type": "markdown",
   "metadata": {
    "id": "EzOG5ik30q1D"
   },
   "source": [
    "Observaciones:\n",
    "\n",
    "1. Al parecer hay 104825 sesiones de uso de datos de los 500 usuarios.\n",
    "2. En este dataframe se tiene la información de las sesiones en internet por usuario, la fecha en la que se hicieron y las mb que se utilizaron. \n",
    "3. 'session_date' debería ser de tipo 'datetime'.\n",
    "4. No hay datos nulos que cambiar o eliminar.\n",
    "5. Se debe observar si hay algun dato duplicado, si existe se debe considerar si eliminarlos.\n",
    "6. Cambiaremos el tipo de datos en 'session_date' por el tipo 'datetime' mediante to.datetime()."
   ]
  },
  {
   "cell_type": "markdown",
   "metadata": {
    "id": "yA0tkPFg0q1D"
   },
   "source": [
    "### Corregir los datos"
   ]
  },
  {
   "cell_type": "code",
   "execution_count": 73,
   "metadata": {
    "id": "zVeanzdd0q1E"
   },
   "outputs": [
    {
     "name": "stdout",
     "output_type": "stream",
     "text": [
      "0\n"
     ]
    }
   ],
   "source": [
    "# Calculamos cuantos duplicados hay\n",
    "\n",
    "print(df_internet['id'].duplicated().sum())"
   ]
  },
  {
   "cell_type": "markdown",
   "metadata": {
    "id": "e8_mLF4a0q1E"
   },
   "source": [
    "### Enriquecer los datos"
   ]
  },
  {
   "cell_type": "code",
   "execution_count": 76,
   "metadata": {
    "id": "ESiYPIEK0q1E"
   },
   "outputs": [
    {
     "name": "stdout",
     "output_type": "stream",
     "text": [
      "              id  user_id session_date  mb_used\n",
      "0        1000_13     1000   2018-12-29    89.86\n",
      "1       1000_204     1000   2018-12-31     0.00\n",
      "2       1000_379     1000   2018-12-28   660.40\n",
      "3       1000_413     1000   2018-12-26   270.99\n",
      "4       1000_442     1000   2018-12-27   880.22\n",
      "...          ...      ...          ...      ...\n",
      "104820  1499_215     1499   2018-10-20   218.06\n",
      "104821  1499_216     1499   2018-12-30   304.72\n",
      "104822  1499_217     1499   2018-09-22   292.75\n",
      "104823  1499_218     1499   2018-12-07     0.00\n",
      "104824  1499_219     1499   2018-12-24   758.31\n",
      "\n",
      "[104825 rows x 4 columns]\n"
     ]
    }
   ],
   "source": [
    "# Cambiamos 'session_date' al tipo de dato datatime\n",
    "\n",
    "df_internet['session_date'] = pd.to_datetime(df_internet['session_date'], format='%Y-%m-%d')\n",
    "\n",
    "# Mostramos los datos\n",
    "print(df_internet)"
   ]
  },
  {
   "cell_type": "markdown",
   "metadata": {},
   "source": [
    "Nota:\n",
    "\n",
    "Cuando agrupemos los datos vamos a tener que redondear hacia arriba lo valores de la transformación de mbegabyter a gigabyte, para este ejercicio debemos hacer el redondeo superior dado que se cobra el costo extra en cuanto se pasa de los límites.Por lo que es necesario hacer la transformación de mb a gb y después hacer el redondeo.  \n"
   ]
  },
  {
   "cell_type": "markdown",
   "metadata": {
    "id": "3UA2cqIW0q1E"
   },
   "source": [
    "## Estudiar las condiciones de las tarifas"
   ]
  },
  {
   "cell_type": "code",
   "execution_count": 80,
   "metadata": {
    "id": "i409op8p0q1F"
   },
   "outputs": [
    {
     "name": "stdout",
     "output_type": "stream",
     "text": [
      "The features of the SURF plan are:\n",
      "\n",
      "messages_included           50\n",
      "mb_per_month_included    15360\n",
      "minutes_included           500\n",
      "usd_monthly_pay             20\n",
      "Name: 0, dtype: object\n",
      "\n",
      "\n",
      "Prices for SURF limited exceeded:\n",
      "\n",
      "usd_per_gb           10\n",
      "usd_per_message    0.03\n",
      "usd_per_minute     0.03\n",
      "Name: 0, dtype: object\n",
      "\n",
      "\n",
      "The features of the ULTIMATE plan are:\n",
      "\n",
      "messages_included         1000\n",
      "mb_per_month_included    30720\n",
      "minutes_included          3000\n",
      "usd_monthly_pay             70\n",
      "Name: 1, dtype: object\n",
      "\n",
      "\n",
      "Prices for ULTIMATE limited exceeded:\n",
      "\n",
      "usd_per_gb            7\n",
      "usd_per_message    0.01\n",
      "usd_per_minute     0.01\n",
      "Name: 1, dtype: object\n"
     ]
    }
   ],
   "source": [
    "# Imprime las condiciones de la tarifa y asegúrate de que te quedan claras\n",
    "surf_plan=df_plans.iloc[0,0:4]\n",
    "surf_plus=df_plans.iloc[0,4:7]\n",
    "ultimate_plan=df_plans.iloc[1,0:4]\n",
    "ultimate_plus=df_plans.iloc[1,4:7]\n",
    "\n",
    "# Mostramos los datos\n",
    "print('The features of the SURF plan are:\\n')\n",
    "print(surf_plan)\n",
    "print('\\n')\n",
    "print('Prices for SURF limited exceeded:\\n')\n",
    "print(surf_plus)\n",
    "print('\\n')\n",
    "print('The features of the ULTIMATE plan are:\\n')\n",
    "print(ultimate_plan)\n",
    "print('\\n')\n",
    "print('Prices for ULTIMATE limited exceeded:\\n')\n",
    "print(ultimate_plus)"
   ]
  },
  {
   "cell_type": "markdown",
   "metadata": {
    "id": "hMR1tP5d0q1F"
   },
   "source": [
    "## Agregar datos por usuario"
   ]
  },
  {
   "cell_type": "code",
   "execution_count": 83,
   "metadata": {
    "id": "A332cedB0q1G"
   },
   "outputs": [
    {
     "name": "stdout",
     "output_type": "stream",
     "text": [
      "user_id  month\n",
      "1000     12       16\n",
      "1001     10       65\n",
      "         11       64\n",
      "         12       56\n",
      "         9        49\n",
      "                  ..\n",
      "1498     5        35\n",
      "1499     12       65\n",
      "         10       53\n",
      "         11       45\n",
      "         9        41\n",
      "Name: count, Length: 2258, dtype: int64\n",
      "\n",
      "For example: for user \"1001\" we can see the calls per month as follows:\n",
      "\n",
      "user_id  month\n",
      "1001     8        27\n",
      "         9        49\n",
      "         10       65\n",
      "         11       64\n",
      "         12       56\n",
      "Name: count, dtype: int64\n"
     ]
    },
    {
     "data": {
      "image/png": "[encoded data removed]",
      "text/plain": [
       "<Figure size 640x480 with 1 Axes>"
      ]
     },
     "metadata": {},
     "output_type": "display_data"
    }
   ],
   "source": [
    "# Calcula el número de llamadas hechas por cada usuario al mes. Guarda el resultado.\n",
    "df_calls['month'] = df_calls['call_date'].dt.month\n",
    "num_calls_per_month = df_calls.groupby('user_id')['month'].value_counts()\n",
    "\n",
    "# Mostramos los datos\n",
    "print(num_calls_per_month)\n",
    "\n",
    "# Graficamos como ejemplo al usuario 1001\n",
    "example1 = num_calls_per_month.iloc[1:6].sort_index()\n",
    "print('')\n",
    "print('For example: for user \"1001\" we can see the calls per month as follows:\\n')\n",
    "print(example1)\n",
    "ax1 = example1.plot.bar(x=example1, y=example1, rot=45, grid = True)"
   ]
  },
  {
   "cell_type": "code",
   "execution_count": 85,
   "metadata": {
    "id": "aw2cmuql0q1G"
   },
   "outputs": [
    {
     "name": "stdout",
     "output_type": "stream",
     "text": [
      "user_id  month\n",
      "1000     12       116.83\n",
      "1001     8        171.14\n",
      "         9        297.69\n",
      "         10       374.11\n",
      "         11       404.59\n",
      "                   ...  \n",
      "1498     12       324.77\n",
      "1499     9        330.37\n",
      "         10       363.28\n",
      "         11       288.56\n",
      "         12       468.10\n",
      "Name: duration, Length: 2258, dtype: float64\n",
      "\n",
      "For example: for user \"1001\" we can see the minutes of calls per month as follows:\n",
      "\n",
      "user_id  month\n",
      "1001     8        171.14\n",
      "         9        297.69\n",
      "         10       374.11\n",
      "         11       404.59\n",
      "         12       392.93\n",
      "Name: duration, dtype: float64\n"
     ]
    },
    {
     "data": {
      "image/png": "[encoded data removed]",
      "text/plain": [
       "<Figure size 640x480 with 1 Axes>"
      ]
     },
     "metadata": {},
     "output_type": "display_data"
    }
   ],
   "source": [
    "# Calcula la cantidad de minutos usados por cada usuario al mes. Guarda el resultado.\n",
    "\n",
    "minutes_per_month = df_calls.groupby(['user_id', 'month'])['duration'].sum()\n",
    "# También puede usarse: pivot_calls = calls.pivot_table(index=['user_id', 'month'],\n",
    "#                            values=['duration'],\n",
    "#                            aggfunc=['sum','count']).reset_index()\n",
    "\n",
    "# Mostramos los datos\n",
    "print(minutes_per_month)\n",
    "\n",
    "# Graficamos como ejemplo al usuario 1001\n",
    "example2 = minutes_per_month.iloc[1:6].sort_index()\n",
    "print('')\n",
    "print('For example: for user \"1001\" we can see the minutes of calls per month as follows:\\n')\n",
    "print(example2)\n",
    "ax2 = example2.plot.bar(x=example2, y=example2, rot=45, grid = True)"
   ]
  },
  {
   "cell_type": "code",
   "execution_count": 75,
   "metadata": {
    "id": "CcQvNHn60q1G"
   },
   "outputs": [
    {
     "name": "stdout",
     "output_type": "stream",
     "text": [
      "user_id  month\n",
      "1000     12       11\n",
      "1001     10       53\n",
      "         9        44\n",
      "         12       44\n",
      "         11       36\n",
      "                  ..\n",
      "1496     10       18\n",
      "         11       13\n",
      "         12       11\n",
      "         8         2\n",
      "1497     12       50\n",
      "Name: month, Length: 1806, dtype: int64\n",
      "\n",
      "For example: for user \"1001\" we can see the messages per month as follows:\n",
      "\n",
      "user_id  month\n",
      "1001     8        30\n",
      "         9        44\n",
      "         10       53\n",
      "         11       36\n",
      "         12       44\n",
      "Name: month, dtype: int64\n"
     ]
    },
    {
     "data": {
      "image/png": "[encoded data removed]",
      "text/plain": [
       "<Figure size 640x480 with 1 Axes>"
      ]
     },
     "metadata": {},
     "output_type": "display_data"
    }
   ],
   "source": [
    "# Calcula el número de mensajes enviados por cada usuario al mes. Guarda el resultado.\n",
    "\n",
    "df_messages['month'] = df_messages['message_date'].dt.month\n",
    "num_messages_per_month = df_messages.groupby('user_id')['month'].value_counts()\n",
    "\n",
    "# Mostramos los datos\n",
    "print(num_messages_per_month)\n",
    "\n",
    "# Graficamos como ejemplo al usuario 1001\n",
    "example3 = num_messages_per_month.iloc[1:6].sort_index()\n",
    "print('')\n",
    "print('For example: for user \"1001\" we can see the messages per month as follows:\\n')\n",
    "print(example3)\n",
    "ax3 = example3.plot.bar(x=example3, y=example3, rot=45, grid = True)"
   ]
  },
  {
   "cell_type": "code",
   "execution_count": 76,
   "metadata": {
    "id": "H1AqN2eG0q1H"
   },
   "outputs": [
    {
     "name": "stdout",
     "output_type": "stream",
     "text": [
      "user_id  month\n",
      "1000     12        1901.47\n",
      "1001     8         6919.15\n",
      "         9        13314.82\n",
      "         10       22330.49\n",
      "         11       18504.30\n",
      "                    ...   \n",
      "1498     12       23137.69\n",
      "1499     9        12984.76\n",
      "         10       19492.43\n",
      "         11       16813.83\n",
      "         12       22059.21\n",
      "Name: mb_used, Length: 2277, dtype: float64\n",
      "\n",
      "For example: for user \"1001\" we can see the MB per month as follows:\n",
      "\n",
      "user_id  month\n",
      "1001     8         6919.15\n",
      "         9        13314.82\n",
      "         10       22330.49\n",
      "         11       18504.30\n",
      "         12       19369.18\n",
      "Name: mb_used, dtype: float64\n"
     ]
    },
    {
     "data": {
      "image/png": "[encoded data removed]",
      "text/plain": [
       "<Figure size 640x480 with 1 Axes>"
      ]
     },
     "metadata": {},
     "output_type": "display_data"
    }
   ],
   "source": [
    "# Calcula el volumen del tráfico de Internet usado por cada usuario al mes. Guarda el resultado.\n",
    "\n",
    "df_internet['month'] = df_internet['session_date'].dt.month\n",
    "vol_mb_per_month = df_internet.groupby(['user_id', 'month'])['mb_used'].sum()\n",
    "\n",
    "# Mostramos los datos\n",
    "print(vol_mb_per_month)\n",
    "\n",
    "# Graficamos como ejemplo al usuario 1001\n",
    "example4 = vol_mb_per_month.iloc[1:6].sort_index()\n",
    "print('')\n",
    "print('For example: for user \"1001\" we can see the MB per month as follows:\\n')\n",
    "print(example4)\n",
    "ax4 = example4.plot.bar(x=example4, y=example4, rot=45, grid = True)"
   ]
  },
  {
   "cell_type": "code",
   "execution_count": 77,
   "metadata": {
    "id": "FW99ykyf0q1H"
   },
   "outputs": [
    {
     "name": "stdout",
     "output_type": "stream",
     "text": [
      "               num_calls  minutes  num_messages    vol_mb\n",
      "user_id month                                            \n",
      "1000    12          16.0   116.83          11.0   1901.47\n",
      "1001    8           27.0   171.14          30.0   6919.15\n",
      "        9           49.0   297.69          44.0  13314.82\n",
      "        10          65.0   374.11          53.0  22330.49\n",
      "        11          64.0   404.59          36.0  18504.30\n"
     ]
    }
   ],
   "source": [
    "# Fusiona los datos de llamadas, minutos, mensajes e Internet con base en user_id y month\n",
    "\n",
    "df_user_per_month = pd.concat([num_calls_per_month, minutes_per_month, num_messages_per_month, vol_mb_per_month], axis='columns')\n",
    "df_user_per_month.columns=['num_calls', 'minutes', 'num_messages', 'vol_mb']\n",
    "\n",
    "# Mostramos los datos\n",
    "print(df_user_per_month.head())"
   ]
  },
  {
   "cell_type": "code",
   "execution_count": 78,
   "metadata": {},
   "outputs": [
    {
     "name": "stdout",
     "output_type": "stream",
     "text": [
      "<class 'pandas.core.frame.DataFrame'>\n",
      "MultiIndex: 2293 entries, (1000, 12) to (1499, 12)\n",
      "Data columns (total 4 columns):\n",
      " #   Column        Non-Null Count  Dtype  \n",
      "---  ------        --------------  -----  \n",
      " 0   num_calls     2258 non-null   float64\n",
      " 1   minutes       2258 non-null   float64\n",
      " 2   num_messages  1806 non-null   float64\n",
      " 3   vol_mb        2277 non-null   float64\n",
      "dtypes: float64(4)\n",
      "memory usage: 98.9 KB\n",
      "(2293, 4)\n"
     ]
    }
   ],
   "source": [
    "# Mostramos la información en el dataframe y una muestra de los datos\n",
    "df_user_per_month.info()\n",
    "print(df_user_per_month.shape)"
   ]
  },
  {
   "cell_type": "code",
   "execution_count": 79,
   "metadata": {},
   "outputs": [
    {
     "name": "stdout",
     "output_type": "stream",
     "text": [
      "               num_calls  minutes  num_messages    vol_mb\n",
      "user_id month                                            \n",
      "1000    12            16   116.83            11   1901.47\n",
      "1001    8             27   171.14            30   6919.15\n",
      "        9             49   297.69            44  13314.82\n",
      "        10            65   374.11            53  22330.49\n",
      "        11            64   404.59            36  18504.30\n",
      "...                  ...      ...           ...       ...\n",
      "1498    12            39   324.77             0  23137.69\n",
      "1499    9             41   330.37             0  12984.76\n",
      "        10            53   363.28             0  19492.43\n",
      "        11            45   288.56             0  16813.83\n",
      "        12            65   468.10             0  22059.21\n",
      "\n",
      "[2293 rows x 4 columns]\n",
      "<class 'pandas.core.frame.DataFrame'>\n",
      "MultiIndex: 2293 entries, (1000, 12) to (1499, 12)\n",
      "Data columns (total 4 columns):\n",
      " #   Column        Non-Null Count  Dtype  \n",
      "---  ------        --------------  -----  \n",
      " 0   num_calls     2293 non-null   int64  \n",
      " 1   minutes       2293 non-null   float64\n",
      " 2   num_messages  2293 non-null   int64  \n",
      " 3   vol_mb        2293 non-null   float64\n",
      "dtypes: float64(2), int64(2)\n",
      "memory usage: 98.9 KB\n"
     ]
    }
   ],
   "source": [
    "# Ya que hay datos nulos los rellenaremos con '0'\n",
    "df_user_per_month = df_user_per_month.fillna(0)\n",
    "\n",
    "# Por seguir el protocolo se cambian los datos enteros a tipo 'int'\n",
    "df_user_per_month['num_calls'] = df_user_per_month['num_calls'].astype('int')\n",
    "df_user_per_month['num_messages'] = df_user_per_month['num_messages'].astype('int')\n",
    "\n",
    "# Mostramos los datos\n",
    "print(df_user_per_month.head())\n",
    "df_user_per_month.info()"
   ]
  },
  {
   "cell_type": "code",
   "execution_count": 80,
   "metadata": {
    "id": "0dNOXHag0q1H"
   },
   "outputs": [
    {
     "name": "stdout",
     "output_type": "stream",
     "text": [
      "   user_id  month  num_calls  minutes  num_messages    vol_mb      plan\n",
      "0     1000     12         16   116.83            11   1901.47  ultimate\n",
      "1     1001      8         27   171.14            30   6919.15      surf\n",
      "2     1001      9         49   297.69            44  13314.82      surf\n",
      "3     1001     10         65   374.11            53  22330.49      surf\n",
      "4     1001     11         64   404.59            36  18504.30      surf\n"
     ]
    }
   ],
   "source": [
    "# Añade la información de la tarifa \n",
    "\n",
    "# Primero agregamos la información al dataframe 'df_user_per_month'\n",
    "df_user_per_month = df_user_per_month.reset_index()\n",
    "df_user_per_month = df_user_per_month.merge(df_users[['user_id', 'plan']], on='user_id', how='left')\n",
    "\n",
    "# Mostramos los resultados\n",
    "print(df_user_per_month.head())\n",
    "\n",
    "# Ahora agregamos la información de la tarifa a los demás dataframes\n",
    "df_calls = df_calls.merge(df_users[['user_id', 'plan']], on='user_id', how='left')\n",
    "df_messages = df_messages.merge(df_users[['user_id', 'plan']], on='user_id', how='left')\n",
    "df_internet = df_internet.merge(df_users[['user_id', 'plan']], on='user_id', how='left')"
   ]
  },
  {
   "cell_type": "code",
   "execution_count": 81,
   "metadata": {},
   "outputs": [
    {
     "name": "stdout",
     "output_type": "stream",
     "text": [
      "      user_id  month  num_calls  minutes  num_messages    vol_mb      plan  \\\n",
      "0        1000     12         16   116.83            11   1901.47  ultimate   \n",
      "1        1001      8         27   171.14            30   6919.15      surf   \n",
      "2        1001      9         49   297.69            44  13314.82      surf   \n",
      "3        1001     10         65   374.11            53  22330.49      surf   \n",
      "4        1001     11         64   404.59            36  18504.30      surf   \n",
      "...       ...    ...        ...      ...           ...       ...       ...   \n",
      "2288     1498     12         39   324.77             0  23137.69      surf   \n",
      "2289     1499      9         41   330.37             0  12984.76      surf   \n",
      "2290     1499     10         53   363.28             0  19492.43      surf   \n",
      "2291     1499     11         45   288.56             0  16813.83      surf   \n",
      "2292     1499     12         65   468.10             0  22059.21      surf   \n",
      "\n",
      "      revenue  \n",
      "0       70.00  \n",
      "1       20.00  \n",
      "2       20.00  \n",
      "3       90.09  \n",
      "4       60.00  \n",
      "...       ...  \n",
      "2288   100.00  \n",
      "2289    20.00  \n",
      "2290    70.00  \n",
      "2291    40.00  \n",
      "2292    90.00  \n",
      "\n",
      "[2293 rows x 8 columns]\n",
      "   messages_included  mb_per_month_included  minutes_included  \\\n",
      "0                 50                  15360               500   \n",
      "1               1000                  30720              3000   \n",
      "\n",
      "   usd_monthly_pay  usd_per_gb  usd_per_message  usd_per_minute plan_name  \n",
      "0               20          10             0.03            0.03      surf  \n",
      "1               70           7             0.01            0.01  ultimate  \n"
     ]
    }
   ],
   "source": [
    "# Creamos una funsión para calcular los ingresos mensuales\n",
    "def calculate_monthly_revenue(row):\n",
    "    plan=df_plans[df_plans['plan_name']==row['plan']].iloc[0]\n",
    "    \n",
    "    # Ingresos mensuales por llamadas\n",
    "    extra_minutes = max(0, row['minutes'] - plan['minutes_included'])\n",
    "    revenue_calls = extra_minutes * plan['usd_per_minute']\n",
    "    \n",
    "    # Ingresos mensuales por mensajes\n",
    "    extra_messages = max(0, row['num_messages'] - plan['messages_included'])\n",
    "    revenue_messages = extra_messages * plan['usd_per_message']\n",
    "    \n",
    "    # Ingresos mensuales por datos\n",
    "    extra_gb = max(0, np.ceil(row['vol_mb'] / 1024) -np.ceil(plan['mb_per_month_included'] / 1024))\n",
    "    revenue_data = extra_gb * plan['usd_per_gb']\n",
    "    \n",
    "    # Ingreso mensual total\n",
    "    total_revenue = plan['usd_monthly_pay'] + revenue_calls + revenue_messages + revenue_data\n",
    "    \n",
    "    return total_revenue\n",
    "\n",
    "# Aplicar la función a cada fila del DataFrame\n",
    "df_user_per_month['revenue'] = df_user_per_month.apply(calculate_monthly_revenue,axis=1)\n",
    "\n",
    "# Mostramos los resultados\n",
    "print(df_user_per_month.head())\n",
    "# imprimimos los planes para comparar\n",
    "print(df_plans)"
   ]
  },
  {
   "cell_type": "markdown",
   "metadata": {
    "id": "-jtyHzJb0q1I"
   },
   "source": [
    "## Estudia el comportamiento de usuario"
   ]
  },
  {
   "cell_type": "markdown",
   "metadata": {
    "id": "vtW4CJEe0q1J"
   },
   "source": [
    "### Llamadas"
   ]
  },
  {
   "cell_type": "code",
   "execution_count": 82,
   "metadata": {
    "id": "Jf5v5--k0q1J"
   },
   "outputs": [
    {
     "name": "stdout",
     "output_type": "stream",
     "text": [
      "        plan  month  duration\n",
      "0       surf      1  6.428000\n",
      "1       surf      2  6.906175\n",
      "2       surf      3  6.696919\n",
      "3       surf      4  6.799918\n",
      "4       surf      5  6.769200\n",
      "5       surf      6  6.846812\n",
      "6       surf      7  6.721710\n",
      "7       surf      8  6.726164\n",
      "8       surf      9  6.728684\n",
      "9       surf     10  6.722302\n",
      "10      surf     11  6.759115\n",
      "11      surf     12  6.836607\n",
      "12  ultimate      1  6.541518\n",
      "13  ultimate      2  6.517230\n",
      "14  ultimate      3  6.210906\n",
      "15  ultimate      4  6.659990\n",
      "16  ultimate      5  6.662443\n",
      "17  ultimate      6  6.705188\n",
      "18  ultimate      7  6.879085\n",
      "19  ultimate      8  6.613484\n",
      "20  ultimate      9  6.770040\n",
      "21  ultimate     10  6.665850\n",
      "22  ultimate     11  6.742506\n",
      "23  ultimate     12  6.671929\n"
     ]
    },
    {
     "data": {
      "image/png": "[encoded data removed]",
      "text/plain": [
       "<Figure size 1200x600 with 1 Axes>"
      ]
     },
     "metadata": {},
     "output_type": "display_data"
    }
   ],
   "source": [
    "# Compara la duración promedio de llamadas por cada plan y por cada mes. Traza un gráfico de barras para visualizarla.\n",
    "\n",
    "# Calcula la duración promedio de llamadas por plan y por mes\n",
    "average_call_duration = df_calls.groupby(['plan', 'month'])['duration'].mean().reset_index()\n",
    "\n",
    "# Mostramos los 24 resultados\n",
    "print(average_call_duration.head(24))\n",
    "\n",
    "import seaborn as sns\n",
    "# Se configura el estilo\n",
    "sns.set(style=\"whitegrid\")\n",
    "\n",
    "# Se crea el gráfico de barras\n",
    "plt.figure(figsize=(12, 6))\n",
    "sns.barplot(data=average_call_duration, x='month', y='duration', hue='plan')\n",
    "\n",
    "# Personalización\n",
    "plt.title('Average call duration per plan and per month')\n",
    "plt.xlabel('Month')\n",
    "plt.ylabel('Average call duration (minutes)')\n",
    "plt.legend(title='Plan',loc='lower right')\n",
    "\n",
    "# Mostrar el gráfico\n",
    "plt.show()"
   ]
  },
  {
   "cell_type": "code",
   "execution_count": 83,
   "metadata": {
    "id": "QoLqW1S_0q1J"
   },
   "outputs": [
    {
     "name": "stdout",
     "output_type": "stream",
     "text": [
      "   user_id      plan  month  duration\n",
      "0     1000  ultimate     12    116.83\n",
      "1     1001      surf      8    171.14\n",
      "2     1001      surf      9    297.69\n",
      "3     1001      surf     10    374.11\n",
      "4     1001      surf     11    404.59\n"
     ]
    },
    {
     "data": {
      "image/png": "[encoded data removed]",
      "text/plain": [
       "<Figure size 1200x600 with 1 Axes>"
      ]
     },
     "metadata": {},
     "output_type": "display_data"
    }
   ],
   "source": [
    "# Compara el número de minutos mensuales que necesitan los usuarios de cada plan. Traza un histograma.\n",
    "\n",
    "# Calcula el número total de minutos mensuales por usuario y por plan\n",
    "total_minutes_per_month = df_calls.groupby(['user_id', 'plan', 'month'])['duration'].sum().reset_index()\n",
    "\n",
    "# Mostramos los resultados\n",
    "print(total_minutes_per_month.head())\n",
    "\n",
    "# Se crea el histograma\n",
    "plt.figure(figsize=(12, 6))\n",
    "sns.histplot(data=total_minutes_per_month, x='duration', hue='plan', multiple='stack', bins=40, legend=['surf', 'ultimate'])\n",
    "\n",
    "# Personalización del gráfico\n",
    "plt.title('Total number of monthly minutes per user and per plan')\n",
    "plt.xlabel('Total number of minutes')\n",
    "plt.ylabel('Frequency')\n",
    "plt.legend\n",
    "\n",
    "# Mostrar el gráfico\n",
    "plt.show()"
   ]
  },
  {
   "cell_type": "code",
   "execution_count": 84,
   "metadata": {
    "id": "oSndbAnt0q1K"
   },
   "outputs": [
    {
     "name": "stdout",
     "output_type": "stream",
     "text": [
      "Average monthly call duration: 411.49 minutes\n",
      "Variance of monthly call duration: 48088.30 square minutes\n"
     ]
    }
   ],
   "source": [
    "# Calcula la media y la varianza de la duración mensual de llamadas.\n",
    "\n",
    "# Calcula la media de la duración mensual de llamadas\n",
    "mean_duration = total_minutes_per_month['duration'].mean()\n",
    "\n",
    "# Calcula la varianza de la duración mensual de llamadas\n",
    "variance_duration = total_minutes_per_month['duration'].var()\n",
    "\n",
    "# Mostrar los resultados\n",
    "print(f\"Average monthly call duration: {mean_duration:.2f} minutes\")\n",
    "print(f\"Variance of monthly call duration: {variance_duration:.2f} square minutes\")"
   ]
  },
  {
   "cell_type": "code",
   "execution_count": 85,
   "metadata": {
    "id": "nZzoRUKc0q1K"
   },
   "outputs": [
    {
     "data": {
      "image/png": "[encoded data removed]",
      "text/plain": [
       "<Figure size 1200x600 with 1 Axes>"
      ]
     },
     "metadata": {},
     "output_type": "display_data"
    }
   ],
   "source": [
    "# Traza un diagrama de caja para visualizar la distribución de la duración mensual de llamadas\n",
    "\n",
    "# Crea el diagrama de caja\n",
    "plt.figure(figsize=(12, 6))\n",
    "sns.boxplot(x='month', y='duration', data=total_minutes_per_month)\n",
    "\n",
    "# Personalización del gráfico\n",
    "plt.title('Distribution of monthly call duration')\n",
    "plt.xlabel('Month')\n",
    "plt.ylabel('Monthly call duration (minutes)')\n",
    "\n",
    "# Mostrar el gráfico\n",
    "plt.show()"
   ]
  },
  {
   "cell_type": "markdown",
   "metadata": {
    "id": "r627zBO50q1K"
   },
   "source": [
    "Observaciones:\n",
    "\n",
    "1. El promedio de las llamadas por plan y por mes no varía significativamente de mes a mes, las mayores difrencias por plan se ven en febrero y marzo.\n",
    "2. En alrededor de 425 minutos al mes encontramos la mayor frecuencia, por lo que al mes la mayoría de los usuarios consumen aproximadamente 425 minutos en llamadas, así que la mayoria usando el plan 'surf' es suficiente para las llamadas\n",
    "3. La mayor varianza se encuentra en los meses de marzo, noviembre y diciembre debido tal vez a las fiestas que se celebran en estos meses.\n",
    "4. El mes de enero es el de menos varianza y el de menor duracion en llamadas promedio.\n",
    "5. Desde el mes de abril comienzan a haber valores atípicos pero la mayor cantidad de estos se encuentra en diciembre"
   ]
  },
  {
   "cell_type": "markdown",
   "metadata": {
    "id": "8idKy8Wh0q1L"
   },
   "source": [
    "### Mensajes"
   ]
  },
  {
   "cell_type": "code",
   "execution_count": 86,
   "metadata": {
    "id": "NXLxiTit0q1L"
   },
   "outputs": [
    {
     "name": "stdout",
     "output_type": "stream",
     "text": [
      "   user_id      plan  month  num_messages\n",
      "0     1000  ultimate     12            11\n",
      "1     1001      surf      8            30\n",
      "2     1001      surf      9            44\n",
      "3     1001      surf     10            53\n",
      "4     1001      surf     11            36\n"
     ]
    },
    {
     "data": {
      "image/png": "[encoded data removed]",
      "text/plain": [
       "<Figure size 1200x600 with 1 Axes>"
      ]
     },
     "metadata": {},
     "output_type": "display_data"
    }
   ],
   "source": [
    "# Comprara el número de mensajes que tienden a enviar cada mes los usuarios de cada plan\n",
    "\n",
    "# Calcula la duración promedio de llamadas por plan y por mes\n",
    "total_messages_per_month = df_messages.groupby(['user_id', 'plan', 'month'])['id'].count().reset_index()\n",
    "\n",
    "# Renombra la columna 'id' a 'num_messages'\n",
    "total_messages_per_month = total_messages_per_month.rename(columns={'id': 'num_messages'})\n",
    "\n",
    "# Mostramos los resultados\n",
    "print(total_messages_per_month.head())\n",
    "\n",
    "# Se crea el diagrama de caja\n",
    "plt.figure(figsize=(12, 6))\n",
    "sns.boxplot(x='month', y='num_messages', hue='plan', data=total_messages_per_month)\n",
    "\n",
    "# Personalización del gráfico\n",
    "plt.title('Number of messages sent per month depending on the plan')\n",
    "plt.xlabel('Month')\n",
    "plt.ylabel('Number of messages')\n",
    "plt.legend(title='Plan')\n",
    "\n",
    "# Mostrar el gráfico\n",
    "plt.show()"
   ]
  },
  {
   "cell_type": "code",
   "execution_count": 87,
   "metadata": {
    "id": "GRI_R7xF0q1L"
   },
   "outputs": [
    {
     "name": "stdout",
     "output_type": "stream",
     "text": [
      "   plan  month  num_messages\n",
      "0  surf      1     21.000000\n",
      "1  surf      2     21.600000\n",
      "2  surf      3     21.937500\n",
      "3  surf      4     24.166667\n",
      "4  surf      5     33.017857\n"
     ]
    }
   ],
   "source": [
    "# Calcular la cantidad promedio de mensajes por mes para cada plan\n",
    "average_messages_per_month = total_messages_per_month.groupby(['plan', 'month'])['num_messages'].mean().reset_index()\n",
    "\n",
    "# Mostramos los resultados\n",
    "print(average_messages_per_month.head())"
   ]
  },
  {
   "cell_type": "code",
   "execution_count": 88,
   "metadata": {
    "id": "dtFwCGAp0q1M"
   },
   "outputs": [
    {
     "data": {
      "image/png": "[encoded data removed]",
      "text/plain": [
       "<Figure size 1200x600 with 1 Axes>"
      ]
     },
     "metadata": {},
     "output_type": "display_data"
    }
   ],
   "source": [
    "# Crear el gráfico de barras\n",
    "plt.figure(figsize=(12, 6))\n",
    "sns.barplot(x='month', y='num_messages', hue='plan', data=average_messages_per_month)\n",
    "\n",
    "# Personalización del gráfico\n",
    "plt.title('Average number of messages sent per month depending on the plan')\n",
    "plt.xlabel('Month')\n",
    "plt.ylabel('Average number of messages')\n",
    "plt.legend(title='Plan')\n",
    "\n",
    "# Mostrar el gráfico\n",
    "plt.show()"
   ]
  },
  {
   "cell_type": "code",
   "execution_count": 89,
   "metadata": {},
   "outputs": [
    {
     "name": "stdout",
     "output_type": "stream",
     "text": [
      "Average monthly messages: 42.11 messages\n",
      "Variance of monthly messages: 1097.13 square messages\n"
     ]
    }
   ],
   "source": [
    "# Calcular la media de la duración mensual de llamadas\n",
    "mean_messages = total_messages_per_month['num_messages'].mean()\n",
    "\n",
    "# Calcula la varianza de la duración mensual de llamadas\n",
    "variance_messages = total_messages_per_month['num_messages'].var()\n",
    "\n",
    "# Mostrar los resultados\n",
    "print(f\"Average monthly messages: {mean_messages:.2f} messages\")\n",
    "print(f\"Variance of monthly messages: {variance_messages:.2f} square messages\")"
   ]
  },
  {
   "cell_type": "markdown",
   "metadata": {
    "id": "390SSL480q1M"
   },
   "source": [
    "Observaciones:\n",
    "\n",
    "1. El promedio de mensajes por mes aumenta en los meses de mayo, noviembre y diciembre, una vez más, una posibilidad podrían ser las fiestas de esos meses.\n",
    "2. Para el promedio se puede ver una diferencia mayor por plan, en los meses de marzo y mayo, donde los usuarios del plan ultimate hacen más uso de los mensajes en promedio\n",
    "3. El promedio de los mensajes por mes no pasa de los 50 mensajes para la mayoria\n",
    "4. Parece ser que la mayoría de los usuarios del plan surf tienden a excederse de los mensajes incluidos y los usuarios de plan ultimate no alcanzan el número de mensajes incluidos.\n",
    "5. El mes de febrero es el que presenta menos varianza para el plan ultimate y el de enero para surf\n",
    "6. En promedio, en enero se mandan menos mensajess"
   ]
  },
  {
   "cell_type": "markdown",
   "metadata": {
    "id": "42YSypXz0q1M"
   },
   "source": [
    "### Internet"
   ]
  },
  {
   "cell_type": "code",
   "execution_count": 90,
   "metadata": {
    "id": "lSuKPtjh0q1M"
   },
   "outputs": [
    {
     "name": "stdout",
     "output_type": "stream",
     "text": [
      "   user_id      plan  month   mb_used    gb_used\n",
      "0     1000  ultimate     12   1901.47   1.856904\n",
      "1     1001      surf      8   6919.15   6.756982\n",
      "2     1001      surf      9  13314.82  13.002754\n",
      "3     1001      surf     10  22330.49  21.807119\n",
      "4     1001      surf     11  18504.30  18.070605\n"
     ]
    }
   ],
   "source": [
    "# Compara la cantidad de tráfico de Internet consumido por usuarios por plan\n",
    "\n",
    "# Calcula el tráfico total de Internet mensual por usuario y por plan\n",
    "total_internet_per_month = df_internet.groupby(['user_id', 'plan', 'month'])['mb_used'].sum().reset_index()\n",
    "\n",
    "# Convertir los MB a GB\n",
    "total_internet_per_month['gb_used'] = total_internet_per_month['mb_used'] / 1024\n",
    "\n",
    "# Mostramos los resultados\n",
    "print(total_internet_per_month.head())"
   ]
  },
  {
   "cell_type": "code",
   "execution_count": 91,
   "metadata": {
    "id": "wnh8jYXi0q1N"
   },
   "outputs": [
    {
     "data": {
      "image/png": "[encoded data removed]",
      "text/plain": [
       "<Figure size 1200x600 with 1 Axes>"
      ]
     },
     "metadata": {},
     "output_type": "display_data"
    }
   ],
   "source": [
    "# Crear el diagrama de caja\n",
    "plt.figure(figsize=(12, 6))\n",
    "sns.boxplot(x='month', y='gb_used', hue='plan', data=total_internet_per_month)\n",
    "\n",
    "# Personalización del gráfico\n",
    "plt.title('Amount of Internet traffic consumed per month according to the plan')\n",
    "plt.xlabel('Month')\n",
    "plt.ylabel('Internet traffic consumed (GB)')\n",
    "plt.legend(title='Plan')\n",
    "\n",
    "# Mostramos el gráfico\n",
    "plt.show()"
   ]
  },
  {
   "cell_type": "code",
   "execution_count": 92,
   "metadata": {
    "id": "5VlyJ9ry0q1N"
   },
   "outputs": [
    {
     "name": "stdout",
     "output_type": "stream",
     "text": [
      "   plan  month    gb_used\n",
      "0  surf      1   4.760605\n",
      "1  surf      2  11.893402\n",
      "2  surf      3  13.032656\n",
      "3  surf      4  11.942167\n",
      "4  surf      5  13.788797\n"
     ]
    },
    {
     "data": {
      "image/png": "[encoded data removed]",
      "text/plain": [
       "<Figure size 1200x600 with 1 Axes>"
      ]
     },
     "metadata": {},
     "output_type": "display_data"
    }
   ],
   "source": [
    "# Calcular la cantidad promedio de mensajes por mes para cada plan\n",
    "average_gb_per_month = total_internet_per_month.groupby(['plan', 'month'])['gb_used'].mean().reset_index()\n",
    "\n",
    "# Mostramos los resultados\n",
    "print(average_gb_per_month.head())\n",
    "\n",
    "# Crea el gráfico de barras\n",
    "plt.figure(figsize=(12, 6))\n",
    "sns.barplot(x='month', y='gb_used', hue='plan', data=average_gb_per_month)\n",
    "\n",
    "# Personalización del gráfico\n",
    "plt.title('Average number of GB used per month depending on the plan')\n",
    "plt.xlabel('Month')\n",
    "plt.ylabel('Average number of GB')\n",
    "plt.legend(title='Plan')\n",
    "\n",
    "# Mostramos el gráfico\n",
    "plt.show()"
   ]
  },
  {
   "cell_type": "code",
   "execution_count": 93,
   "metadata": {},
   "outputs": [
    {
     "name": "stdout",
     "output_type": "stream",
     "text": [
      "Average monthly messages: 16.49 messages\n",
      "Variance of monthly messages: 59.06 square messages\n"
     ]
    }
   ],
   "source": [
    "# Calcular la media de la duración mensual de llamadas\n",
    "mean_gb = total_internet_per_month['gb_used'].mean()\n",
    "\n",
    "# Calcular la varianza de la duración mensual de llamadas\n",
    "variance_gb = total_internet_per_month['gb_used'].var()\n",
    "\n",
    "# Mostrar los resultados\n",
    "print(f\"Average monthly messages: {mean_gb:.2f} messages\")\n",
    "print(f\"Variance of monthly messages: {variance_gb:.2f} square messages\")"
   ]
  },
  {
   "cell_type": "markdown",
   "metadata": {
    "id": "UN9zwuMP0q1N"
   },
   "source": [
    "Observaciones:\n",
    "\n",
    "1. El promedio de uso de datos por mes alcanza máximos en los meses de marzo y diciembre para el plan ultimate y el diciembre y octubre para el plan surf.\n",
    "2. El menor promedio para ambos planes esta en enero.\n",
    "3. En promedio ninguno de los 2 planes revasa por mucho los 17.5 GB de consumo\n",
    "4. En promedio a partir de junio el plan surf empieza a revazar sus GB incluidos.\n",
    "5. En promedio el plan ultimate no revaza sus GB incluidos.\n",
    "6. Por la gráfica de cajas podemos decir que pocas personas revazan los 30 GB de consumo.\n",
    "7. La mayor varianza para el plan ultimate se encuentra en abril y para el plan surf en mayo"
   ]
  },
  {
   "cell_type": "markdown",
   "metadata": {
    "id": "tCijq3260q1N"
   },
   "source": [
    "## Ingreso"
   ]
  },
  {
   "cell_type": "code",
   "execution_count": 94,
   "metadata": {
    "id": "tz-dq_V00q1O"
   },
   "outputs": [
    {
     "name": "stdout",
     "output_type": "stream",
     "text": [
      "           count       mean        std   min   25%    50%   75%       max\n",
      "plan                                                                     \n",
      "surf      1573.0  60.327346  55.262605  20.0  20.0  40.15  80.0  588.6372\n",
      "ultimate   720.0  72.313889  11.395108  70.0  70.0  70.00  70.0  182.0000\n"
     ]
    }
   ],
   "source": [
    "# Calcular estadísticas descriptivas por plan\n",
    "revenue_stats = df_user_per_month.groupby('plan')['revenue'].describe()\n",
    "\n",
    "# Ver los resultados\n",
    "print(revenue_stats)"
   ]
  },
  {
   "cell_type": "code",
   "execution_count": 99,
   "metadata": {},
   "outputs": [
    {
     "name": "stdout",
     "output_type": "stream",
     "text": [
      "plan\n",
      "surf        94894.9156\n",
      "ultimate    52066.0000\n",
      "Name: revenue, dtype: float64\n"
     ]
    }
   ],
   "source": [
    "income_per_plan = df_user_per_month.groupby('plan')['revenue'].sum()\n",
    "print(income_per_plan)"
   ]
  },
  {
   "cell_type": "code",
   "execution_count": 95,
   "metadata": {
    "id": "0Y1v8ZUz0q1P"
   },
   "outputs": [
    {
     "data": {
      "image/png": "[encoded data removed]",
      "text/plain": [
       "<Figure size 1200x600 with 1 Axes>"
      ]
     },
     "metadata": {},
     "output_type": "display_data"
    },
    {
     "data": {
      "image/png": "[encoded data removed]",
      "text/plain": [
       "<Figure size 1200x600 with 1 Axes>"
      ]
     },
     "metadata": {},
     "output_type": "display_data"
    }
   ],
   "source": [
    "# Crear el diagrama de caja\n",
    "plt.figure(figsize=(12, 6))\n",
    "sns.boxplot(x='plan', y='revenue', data=df_user_per_month)\n",
    "\n",
    "# Personalizar el gráfico\n",
    "plt.title('Distribution of monthly income by plan')\n",
    "plt.xlabel('Plan')\n",
    "plt.ylabel('Monthly income ($)')\n",
    "plt.show()\n",
    "\n",
    "# Crear el gráfico de barras para la media de los ingresos mensuales por plan\n",
    "average_revenue_per_plan = df_user_per_month.groupby('plan')['revenue'].mean().reset_index()\n",
    "\n",
    "plt.figure(figsize=(12, 6))\n",
    "sns.barplot(x='plan', y='revenue', data=average_revenue_per_plan)\n",
    "\n",
    "# Personalizar el gráfico\n",
    "plt.title('Average monthly income per plan')\n",
    "plt.xlabel('Plan')\n",
    "plt.ylabel('Average monthly income ($)')\n",
    "plt.show()"
   ]
  },
  {
   "cell_type": "markdown",
   "metadata": {
    "id": "KAFidcXZ0q1P"
   },
   "source": [
    "Observaciones:\n",
    "\n",
    "1. Aunque la diferencia entre ambos planes comienza con 50 dolares, resulta que en promedio los usuarios terminan pagando sólo 11 o 12 dolares menos contratando el plan surf del plan ultimate.\n",
    "2. En el plan ultimate pocas personas exceden los límites de su plan\n",
    "3. La varianza en el plan ultimate es muy pequeña y esta alrededor de los 70 dolares, por lo que podemos decir que efectivamente pocas personas revasan el límite.\n",
    "4. En cambio, la varianza en el plan surf es más grande con valores atípicos incluso mayores que en el plan ultimate\n",
    "5. En promedio la gente gasta 40 dolares más por el plan surf"
   ]
  },
  {
   "cell_type": "markdown",
   "metadata": {
    "id": "ajJ7VKeI0q1Q"
   },
   "source": [
    "## Prueba las hipótesis estadísticas"
   ]
  },
  {
   "cell_type": "code",
   "execution_count": 96,
   "metadata": {
    "id": "nFoPNlPq0q1R"
   },
   "outputs": [
    {
     "name": "stdout",
     "output_type": "stream",
     "text": [
      "T-statistic: 8.228840784742438\n",
      "P-value: 3.5320199509520717e-16\n",
      "Rechazamos la hipótesis nula: hay una diferencia significativa en los ingresos promedio entre los usuarios de los planes Ultimate y Surf.\n"
     ]
    }
   ],
   "source": [
    "# Prueba la hipótesis de que son diferentes los ingresos promedio procedentes de los usuarios de los planes de llamada Ultimate y Surf.\n",
    "\n",
    "# Extraer los ingresos de los usuarios de cada plan\n",
    "revenue_ultimate = df_user_per_month[df_user_per_month['plan'] == 'ultimate']['revenue']\n",
    "revenue_surf = df_user_per_month[df_user_per_month['plan'] == 'surf']['revenue']\n",
    "\n",
    "# Realizar la prueba t para muestras independientes\n",
    "t_stat, p_value = st.ttest_ind(revenue_ultimate, revenue_surf, equal_var=False)\n",
    "\n",
    "# Imprimir los resultados\n",
    "print(f'T-statistic: {t_stat}')\n",
    "print(f'P-value: {p_value}')\n",
    "\n",
    "# Evaluar la hipótesis\n",
    "alpha = 0.05\n",
    "if p_value < alpha:\n",
    "    print(\"Rechazamos la hipótesis nula: hay una diferencia significativa en los ingresos promedio entre los usuarios de los planes Ultimate y Surf.\")\n",
    "else:\n",
    "    print(\"No podemos rechazar la hipótesis nula: no hay una diferencia significativa en los ingresos promedio entre los usuarios de los planes Ultimate y Surf.\")"
   ]
  },
  {
   "cell_type": "code",
   "execution_count": 97,
   "metadata": {},
   "outputs": [],
   "source": [
    "df_user_per_month = df_user_per_month.merge(df_users[['user_id', 'city']], on='user_id', how='left')"
   ]
  },
  {
   "cell_type": "code",
   "execution_count": 98,
   "metadata": {
    "id": "Cqcj7wrZ0q1S"
   },
   "outputs": [
    {
     "name": "stdout",
     "output_type": "stream",
     "text": [
      "T-statistic: -2.1597353056435127\n",
      "P-value: 0.031214139070912725\n",
      "Rechazamos la hipótesis nula: hay una diferencia significativa en los ingresos promedio entre los usuarios del área NY-NJ y otras regiones.\n"
     ]
    }
   ],
   "source": [
    "# Prueba la hipótesis de que el ingreso promedio de los usuarios del área NY-NJ es diferente al de los usuarios de otras regiones.\n",
    "\n",
    "# Definir área NY-NJ\n",
    "ny_nj_areas = ['new_york_newark_jersey_city_ny_nj_pa_msa']\n",
    "\n",
    "# Extraer los ingresos de los usuarios del área NY-NJ y de otras regiones\n",
    "revenue_ny_nj = df_user_per_month[df_user_per_month['city'].isin(ny_nj_areas)]['revenue']\n",
    "revenue_other_areas = df_user_per_month[~df_user_per_month['city'].isin(ny_nj_areas)]['revenue']\n",
    "\n",
    "# Realizar la prueba t para muestras independientes\n",
    "t_stat, p_value = st.ttest_ind(revenue_ny_nj, revenue_other_areas, equal_var=False)\n",
    "\n",
    "# Imprimir los resultados\n",
    "print(f'T-statistic: {t_stat}')\n",
    "print(f'P-value: {p_value}')\n",
    "\n",
    "# Evaluar la hipótesis\n",
    "alpha = 0.05\n",
    "if p_value < alpha:\n",
    "    print(\"Rechazamos la hipótesis nula: hay una diferencia significativa en los ingresos promedio entre los usuarios del área NY-NJ y otras regiones.\")\n",
    "else:\n",
    "    print(\"No podemos rechazar la hipótesis nula: no hay una diferencia significativa en los ingresos promedio entre los usuarios del área NY-NJ y otras regiones.\")"
   ]
  },
  {
   "cell_type": "markdown",
   "metadata": {
    "id": "bbTR8UQO0q1T"
   },
   "source": [
    "## Conclusión general"
   ]
  },
  {
   "cell_type": "markdown",
   "metadata": {},
   "source": [
    "Varias cosas se fueron concluyendo al rededor del análisis pero lo más importante es lo siguiente:\n",
    "\n",
    "1. En las llamadas, aproximadamente 425 son los minutos por usuario al mes que más se ocupan, al parecer no se exceden los minutos del plan ultimate y son pocos los que exceden los 500 minutos del plan surf comporados con los que gastan menos de 500 minutos.\n",
    "2. En promedio las llamadas duran entre 6 y 7 minutos.\n",
    "3. La mayor varianza de las llamadas se encuentra en los meses de mayo, noviembre y diciembre que supongo es por las fechas y fiestas en familia.\n",
    "4. Para los mensajes nadie excede los minutos del plan ultimate y en cambio varios usuarios del plan surf si exceden esos mensajes y en este plan tambien se encuentra la mayor cantidad de valores atípicos\n",
    "5. En diciembre es cuando más se envían mensajes en promedio\n",
    "6. Para el uso de GB encontramos que sí se exceden los límites de consumo para ambos planes; sin embargo, hay más excedentes en el plan surf por un rango mucho más amplio.\n",
    "7. No hay muchas diferencias en el consmuno de GB por plan, solo en enero que es cuando menos se consume para ambos planes.\n",
    "8. A partir de junio, en promedio, se superan los 15 GB de uso.\n",
    "9. En promedio, se pagan aproximadamente 60 dolares para el plan surf y 72 para el plan ultimate, aproximadamente 12 dolares diferencia entre planes.\n",
    "10. La mayor parte de los usuarios del plan surf sobrepasan el cargo por mes de su plan y son los que tienen valores atípicos más elevados, llegando a casi los 600 dolares de pago y donde más se exceden es en el uso de GB.\n",
    "11. La mayoría de usuarios del plan ultimate no exceden o exceden por muy poco su plan.\n",
    "12. Enero es el mes con menor uso de minutos, mensajes y uso de GB y noviembre y diciembre el de mayor uso en general\n",
    "13. Al parecer hay una diferencia entre los ingresos promedio entre los usuarios de los planes Ultimate y Surf.\n",
    "14. Hay una diferencia significativa en los ingresos promedio entre los usuarios del área NY-NJ y otras regiones.\n",
    "15. Segun el análisis el plan surf es el plan que más genera ingresos con 94894.91 dolares, en cambio el plan ultimate genera 52066 dolares, aunque es un plan más barato, parece que los usuarios generan más ingresos gracias a que exceden en mayor medida y más a menudo los límites. Para decir esto de manera contundente habría que saber cuanto cuesta el proveer cada plan al cliente, el marketing, la distribución, etc. y restarlo del ingreso que genera; sin embargo, es evidente en este análisis que el plan surf genera más dinero por año."
   ]
  }
 ],
 "metadata": {
  "ExecuteTimeLog": [
   {
    "duration": 828,
    "start_time": "2021-11-16T09:21:11.304Z"
   },
   {
    "duration": 893,
    "start_time": "2021-11-16T09:21:17.728Z"
   },
   {
    "duration": 1150,
    "start_time": "2021-11-16T09:21:29.568Z"
   },
   {
    "duration": 3,
    "start_time": "2021-11-16T09:24:14.495Z"
   },
   {
    "duration": 120,
    "start_time": "2021-11-16T09:24:46.630Z"
   },
   {
    "duration": 3,
    "start_time": "2021-11-16T09:28:27.882Z"
   },
   {
    "duration": 4,
    "start_time": "2021-11-16T09:29:54.281Z"
   },
   {
    "duration": 3,
    "start_time": "2021-11-16T09:30:45.936Z"
   },
   {
    "duration": 4,
    "start_time": "2021-11-16T09:31:06.300Z"
   },
   {
    "duration": 113,
    "start_time": "2021-11-16T09:31:37.208Z"
   },
   {
    "duration": 143,
    "start_time": "2021-11-16T09:31:48.656Z"
   },
   {
    "duration": 98,
    "start_time": "2021-11-16T09:31:55.678Z"
   },
   {
    "duration": 3,
    "start_time": "2021-11-16T09:32:08.535Z"
   },
   {
    "duration": 111,
    "start_time": "2021-11-16T09:32:10.120Z"
   },
   {
    "duration": 3,
    "start_time": "2021-11-16T09:32:15.732Z"
   },
   {
    "duration": 4,
    "start_time": "2021-11-16T09:32:29.423Z"
   },
   {
    "duration": 3,
    "start_time": "2021-11-16T10:03:03.074Z"
   },
   {
    "duration": 3,
    "start_time": "2021-11-16T10:10:01.288Z"
   },
   {
    "duration": 3,
    "start_time": "2021-11-16T10:10:46.923Z"
   },
   {
    "duration": 121,
    "start_time": "2021-11-16T10:37:46.494Z"
   },
   {
    "duration": 125,
    "start_time": "2021-11-16T10:38:20.632Z"
   },
   {
    "duration": 112,
    "start_time": "2021-11-16T10:46:53.001Z"
   },
   {
    "duration": 110,
    "start_time": "2021-11-16T10:48:25.775Z"
   },
   {
    "duration": 3,
    "start_time": "2021-11-16T10:50:18.720Z"
   },
   {
    "duration": 4,
    "start_time": "2021-11-16T10:50:37.649Z"
   },
   {
    "duration": 2,
    "start_time": "2021-11-16T10:50:51.884Z"
   },
   {
    "duration": 3,
    "start_time": "2021-11-16T10:51:56.237Z"
   },
   {
    "duration": 101,
    "start_time": "2021-11-16T10:53:13.791Z"
   },
   {
    "duration": 3,
    "start_time": "2021-11-16T10:55:59.186Z"
   },
   {
    "duration": 3,
    "start_time": "2021-11-16T10:56:10.751Z"
   },
   {
    "duration": 3,
    "start_time": "2021-11-16T10:56:49.038Z"
   },
   {
    "duration": 3,
    "start_time": "2021-11-16T10:56:49.174Z"
   },
   {
    "duration": 4,
    "start_time": "2021-11-16T10:56:49.414Z"
   },
   {
    "duration": 3,
    "start_time": "2021-11-16T10:56:49.680Z"
   },
   {
    "duration": 3,
    "start_time": "2021-11-16T10:56:50.370Z"
   },
   {
    "duration": 114,
    "start_time": "2021-11-16T10:59:34.518Z"
   },
   {
    "duration": 3,
    "start_time": "2021-11-16T11:01:41.201Z"
   },
   {
    "duration": 116,
    "start_time": "2021-11-16T11:01:48.754Z"
   },
   {
    "duration": 3,
    "start_time": "2021-11-16T11:02:16.685Z"
   },
   {
    "duration": 3,
    "start_time": "2021-11-16T11:02:19.479Z"
   },
   {
    "duration": 3,
    "start_time": "2021-11-16T11:02:47.067Z"
   },
   {
    "duration": 3,
    "start_time": "2021-11-16T11:02:49.353Z"
   },
   {
    "duration": 3,
    "start_time": "2021-11-16T11:03:07.835Z"
   },
   {
    "duration": 3,
    "start_time": "2021-11-16T11:03:07.953Z"
   },
   {
    "duration": 112,
    "start_time": "2021-11-16T11:07:52.072Z"
   },
   {
    "duration": 187,
    "start_time": "2021-11-16T11:09:23.468Z"
   },
   {
    "duration": 4,
    "start_time": "2021-11-16T11:10:01.455Z"
   },
   {
    "duration": 3,
    "start_time": "2021-11-16T11:10:05.069Z"
   },
   {
    "duration": 4,
    "start_time": "2021-11-16T11:10:13.376Z"
   },
   {
    "duration": 3,
    "start_time": "2021-11-16T11:10:14.434Z"
   },
   {
    "duration": 3,
    "start_time": "2021-11-16T11:10:22.853Z"
   },
   {
    "duration": 4,
    "start_time": "2021-11-16T11:27:29.279Z"
   },
   {
    "duration": 4,
    "start_time": "2021-11-16T11:29:08.919Z"
   },
   {
    "duration": 118,
    "start_time": "2021-11-16T11:29:46.703Z"
   },
   {
    "duration": 437,
    "start_time": "2021-11-16T11:36:02.181Z"
   },
   {
    "duration": 157,
    "start_time": "2021-11-16T11:36:14.388Z"
   },
   {
    "duration": 207,
    "start_time": "2021-11-16T11:47:15.898Z"
   },
   {
    "duration": 3,
    "start_time": "2021-11-16T11:53:52.092Z"
   },
   {
    "duration": 3,
    "start_time": "2021-11-16T11:53:52.236Z"
   },
   {
    "duration": 3,
    "start_time": "2021-11-16T11:59:12.005Z"
   },
   {
    "duration": 112,
    "start_time": "2021-11-16T12:00:33.446Z"
   },
   {
    "duration": 3,
    "start_time": "2021-11-16T12:02:14.453Z"
   },
   {
    "duration": 3,
    "start_time": "2021-11-16T12:02:39.512Z"
   },
   {
    "duration": 106,
    "start_time": "2021-11-16T12:03:03.460Z"
   },
   {
    "duration": 3,
    "start_time": "2021-11-17T20:37:21.139Z"
   },
   {
    "duration": 3,
    "start_time": "2021-11-17T20:37:22.229Z"
   },
   {
    "duration": 3,
    "start_time": "2021-11-17T20:38:38.806Z"
   },
   {
    "duration": 3,
    "start_time": "2021-11-17T20:38:41.958Z"
   },
   {
    "duration": 3,
    "start_time": "2021-11-17T20:43:46.551Z"
   },
   {
    "duration": 4,
    "start_time": "2021-11-17T20:58:21.835Z"
   },
   {
    "duration": 3,
    "start_time": "2021-11-17T20:59:21.872Z"
   },
   {
    "duration": 4,
    "start_time": "2021-11-17T20:59:45.352Z"
   },
   {
    "duration": 4,
    "start_time": "2021-11-17T20:59:49.646Z"
   },
   {
    "duration": 159,
    "start_time": "2021-11-17T21:02:26.949Z"
   },
   {
    "duration": 3,
    "start_time": "2021-11-17T21:03:53.461Z"
   },
   {
    "duration": 3,
    "start_time": "2021-11-17T21:03:53.694Z"
   },
   {
    "duration": 3,
    "start_time": "2021-11-17T21:05:28.145Z"
   },
   {
    "duration": 116,
    "start_time": "2021-11-17T21:05:57.787Z"
   },
   {
    "duration": 3,
    "start_time": "2021-11-17T21:06:37.993Z"
   },
   {
    "duration": 3,
    "start_time": "2021-11-17T21:06:38.261Z"
   },
   {
    "duration": 3,
    "start_time": "2021-11-17T21:11:54.358Z"
   },
   {
    "duration": 3,
    "start_time": "2021-11-17T21:12:43.846Z"
   },
   {
    "duration": 4,
    "start_time": "2021-11-17T21:13:08.773Z"
   },
   {
    "duration": 3,
    "start_time": "2021-11-17T21:14:44.441Z"
   },
   {
    "duration": 3,
    "start_time": "2021-11-17T21:15:42.059Z"
   },
   {
    "duration": 4,
    "start_time": "2021-11-17T21:15:51.995Z"
   },
   {
    "duration": 3,
    "start_time": "2021-11-17T21:15:53.923Z"
   },
   {
    "duration": 3,
    "start_time": "2021-11-17T21:15:55.282Z"
   },
   {
    "duration": 3,
    "start_time": "2021-11-17T21:16:28.492Z"
   },
   {
    "duration": 3,
    "start_time": "2021-11-17T21:16:32.603Z"
   },
   {
    "duration": 3,
    "start_time": "2021-11-17T21:17:06.941Z"
   },
   {
    "duration": 98,
    "start_time": "2021-11-17T21:18:05.733Z"
   },
   {
    "duration": 4,
    "start_time": "2021-11-17T21:21:35.255Z"
   },
   {
    "duration": 3,
    "start_time": "2021-11-17T21:21:37.804Z"
   },
   {
    "duration": 4,
    "start_time": "2021-11-17T21:23:06.071Z"
   },
   {
    "duration": 3,
    "start_time": "2021-11-17T21:23:24.799Z"
   },
   {
    "duration": 3,
    "start_time": "2021-11-17T21:23:32.591Z"
   },
   {
    "duration": 98,
    "start_time": "2021-11-17T21:28:31.559Z"
   },
   {
    "duration": 3,
    "start_time": "2021-11-17T21:28:45.448Z"
   },
   {
    "duration": 3,
    "start_time": "2021-11-17T21:29:17.303Z"
   },
   {
    "duration": 3,
    "start_time": "2021-11-17T21:29:29.617Z"
   },
   {
    "duration": 3,
    "start_time": "2021-11-17T21:29:32.681Z"
   },
   {
    "duration": 3,
    "start_time": "2021-11-17T21:36:11.474Z"
   },
   {
    "duration": 3,
    "start_time": "2021-11-17T21:36:14.791Z"
   },
   {
    "duration": 3,
    "start_time": "2021-11-17T21:36:53.943Z"
   },
   {
    "duration": 3,
    "start_time": "2021-11-17T21:36:56.165Z"
   },
   {
    "duration": 4,
    "start_time": "2021-11-17T21:37:16.590Z"
   },
   {
    "duration": 3,
    "start_time": "2021-11-17T21:37:22.702Z"
   },
   {
    "duration": 4,
    "start_time": "2021-11-17T21:38:03.479Z"
   },
   {
    "duration": 3,
    "start_time": "2021-11-17T21:38:08.601Z"
   },
   {
    "duration": 3,
    "start_time": "2021-11-17T21:38:12.928Z"
   },
   {
    "duration": 3,
    "start_time": "2021-11-17T21:38:48.896Z"
   },
   {
    "duration": 2,
    "start_time": "2021-11-17T21:38:49.171Z"
   },
   {
    "duration": 4,
    "start_time": "2021-11-17T21:39:57.889Z"
   },
   {
    "duration": 3,
    "start_time": "2021-11-17T21:39:58.057Z"
   },
   {
    "duration": 3,
    "start_time": "2021-11-17T21:41:20.108Z"
   },
   {
    "duration": 3,
    "start_time": "2021-11-17T21:41:20.629Z"
   },
   {
    "duration": 3,
    "start_time": "2021-11-17T21:42:49.136Z"
   },
   {
    "duration": 3,
    "start_time": "2021-11-17T21:43:15.137Z"
   },
   {
    "duration": 4,
    "start_time": "2021-11-17T21:43:16.766Z"
   },
   {
    "duration": 4,
    "start_time": "2021-11-17T21:43:31.711Z"
   },
   {
    "duration": 3,
    "start_time": "2021-11-17T21:43:36.312Z"
   },
   {
    "duration": 4,
    "start_time": "2021-11-17T21:45:08.825Z"
   },
   {
    "duration": 4,
    "start_time": "2021-11-17T21:45:10.119Z"
   },
   {
    "duration": 4,
    "start_time": "2021-11-17T21:45:13.748Z"
   },
   {
    "duration": 3,
    "start_time": "2021-11-17T21:45:22.219Z"
   },
   {
    "duration": 3,
    "start_time": "2021-11-17T21:45:33.412Z"
   },
   {
    "duration": 2,
    "start_time": "2021-11-17T21:46:01.885Z"
   },
   {
    "duration": 3,
    "start_time": "2021-11-17T21:46:03.628Z"
   },
   {
    "duration": 107,
    "start_time": "2021-11-17T21:47:32.512Z"
   },
   {
    "duration": 103,
    "start_time": "2021-11-17T21:50:36.243Z"
   },
   {
    "duration": 3,
    "start_time": "2021-11-18T06:28:31.440Z"
   },
   {
    "duration": 3,
    "start_time": "2021-11-18T06:29:00.168Z"
   },
   {
    "duration": 3,
    "start_time": "2021-11-18T06:31:27.008Z"
   },
   {
    "duration": 2,
    "start_time": "2021-11-18T06:35:34.288Z"
   },
   {
    "duration": 2,
    "start_time": "2021-11-18T06:38:04.527Z"
   },
   {
    "duration": 4868,
    "start_time": "2024-06-24T01:02:04.490Z"
   },
   {
    "duration": 383,
    "start_time": "2024-06-24T01:02:09.363Z"
   },
   {
    "duration": 15,
    "start_time": "2024-06-24T01:08:56.202Z"
   },
   {
    "duration": 10,
    "start_time": "2024-06-24T01:13:20.340Z"
   },
   {
    "duration": 7,
    "start_time": "2024-06-24T01:20:15.845Z"
   },
   {
    "duration": 15,
    "start_time": "2024-06-24T03:43:41.369Z"
   },
   {
    "duration": 9,
    "start_time": "2024-06-24T03:44:21.308Z"
   },
   {
    "duration": 396,
    "start_time": "2024-06-24T04:04:09.450Z"
   },
   {
    "duration": 25,
    "start_time": "2024-06-24T04:04:31.752Z"
   },
   {
    "duration": 734,
    "start_time": "2024-06-24T04:04:47.464Z"
   },
   {
    "duration": 25,
    "start_time": "2024-06-24T04:06:56.059Z"
   },
   {
    "duration": 10,
    "start_time": "2024-06-24T04:07:08.814Z"
   },
   {
    "duration": 4943,
    "start_time": "2024-06-30T03:23:53.842Z"
   },
   {
    "duration": 376,
    "start_time": "2024-06-30T03:23:58.790Z"
   },
   {
    "duration": 17,
    "start_time": "2024-06-30T03:23:59.169Z"
   },
   {
    "duration": 10,
    "start_time": "2024-06-30T03:23:59.189Z"
   },
   {
    "duration": 14,
    "start_time": "2024-06-30T03:24:05.446Z"
   },
   {
    "duration": 13,
    "start_time": "2024-06-30T03:24:06.463Z"
   },
   {
    "duration": 8,
    "start_time": "2024-06-30T03:24:10.541Z"
   },
   {
    "duration": 1322,
    "start_time": "2024-06-30T03:29:04.122Z"
   },
   {
    "duration": 441,
    "start_time": "2024-06-30T03:30:34.190Z"
   },
   {
    "duration": 4,
    "start_time": "2024-06-30T03:37:28.017Z"
   },
   {
    "duration": 10,
    "start_time": "2024-06-30T03:38:02.945Z"
   },
   {
    "duration": 131,
    "start_time": "2024-06-30T03:43:18.591Z"
   },
   {
    "duration": 70,
    "start_time": "2024-06-30T03:43:32.583Z"
   },
   {
    "duration": 11,
    "start_time": "2024-06-30T03:44:08.749Z"
   },
   {
    "duration": 10,
    "start_time": "2024-06-30T03:48:47.180Z"
   },
   {
    "duration": 11,
    "start_time": "2024-06-30T03:51:57.529Z"
   },
   {
    "duration": 5,
    "start_time": "2024-06-30T04:00:29.378Z"
   },
   {
    "duration": 11,
    "start_time": "2024-06-30T04:01:25.538Z"
   },
   {
    "duration": 11,
    "start_time": "2024-06-30T04:04:27.219Z"
   },
   {
    "duration": 31,
    "start_time": "2024-06-30T04:06:28.771Z"
   },
   {
    "duration": 13,
    "start_time": "2024-06-30T04:07:17.946Z"
   },
   {
    "duration": 9,
    "start_time": "2024-06-30T04:07:54.492Z"
   },
   {
    "duration": 444,
    "start_time": "2024-06-30T04:12:55.761Z"
   },
   {
    "duration": 33,
    "start_time": "2024-06-30T04:13:05.114Z"
   },
   {
    "duration": 5,
    "start_time": "2024-06-30T04:14:48.730Z"
   },
   {
    "duration": 41,
    "start_time": "2024-06-30T04:21:11.398Z"
   },
   {
    "duration": 10,
    "start_time": "2024-06-30T04:24:52.942Z"
   },
   {
    "duration": 10,
    "start_time": "2024-06-30T04:26:31.849Z"
   },
   {
    "duration": 7,
    "start_time": "2024-06-30T04:26:56.160Z"
   },
   {
    "duration": 9,
    "start_time": "2024-06-30T04:27:00.946Z"
   },
   {
    "duration": 28,
    "start_time": "2024-06-30T04:27:30.483Z"
   },
   {
    "duration": 16,
    "start_time": "2024-06-30T04:27:41.783Z"
   },
   {
    "duration": 11,
    "start_time": "2024-06-30T04:28:37.702Z"
   },
   {
    "duration": 538,
    "start_time": "2024-06-30T04:28:47.065Z"
   },
   {
    "duration": 66,
    "start_time": "2024-06-30T04:28:55.665Z"
   },
   {
    "duration": 64,
    "start_time": "2024-06-30T04:28:58.565Z"
   },
   {
    "duration": 11,
    "start_time": "2024-06-30T04:29:04.432Z"
   },
   {
    "duration": 69,
    "start_time": "2024-06-30T04:29:06.899Z"
   },
   {
    "duration": 4,
    "start_time": "2024-06-30T04:29:15.883Z"
   },
   {
    "duration": 270,
    "start_time": "2024-06-30T04:29:16.872Z"
   },
   {
    "duration": 16,
    "start_time": "2024-06-30T04:29:18.371Z"
   },
   {
    "duration": 7,
    "start_time": "2024-06-30T04:29:18.897Z"
   },
   {
    "duration": 14,
    "start_time": "2024-06-30T04:29:22.774Z"
   },
   {
    "duration": 8,
    "start_time": "2024-06-30T04:29:23.436Z"
   },
   {
    "duration": 8,
    "start_time": "2024-06-30T04:29:25.417Z"
   },
   {
    "duration": 17,
    "start_time": "2024-06-30T04:29:25.974Z"
   },
   {
    "duration": 10,
    "start_time": "2024-06-30T04:29:31.958Z"
   },
   {
    "duration": 14,
    "start_time": "2024-06-30T04:30:08.971Z"
   },
   {
    "duration": 3,
    "start_time": "2024-06-30T04:30:20.606Z"
   },
   {
    "duration": 261,
    "start_time": "2024-06-30T04:30:21.169Z"
   },
   {
    "duration": 15,
    "start_time": "2024-06-30T04:30:21.649Z"
   },
   {
    "duration": 7,
    "start_time": "2024-06-30T04:30:22.157Z"
   },
   {
    "duration": 18,
    "start_time": "2024-06-30T04:30:23.687Z"
   },
   {
    "duration": 11,
    "start_time": "2024-06-30T04:30:23.838Z"
   },
   {
    "duration": 10,
    "start_time": "2024-06-30T04:30:24.940Z"
   },
   {
    "duration": 9,
    "start_time": "2024-06-30T04:30:25.173Z"
   },
   {
    "duration": 18,
    "start_time": "2024-06-30T04:30:26.877Z"
   },
   {
    "duration": 3,
    "start_time": "2024-06-30T04:30:50.764Z"
   },
   {
    "duration": 265,
    "start_time": "2024-06-30T04:30:51.309Z"
   },
   {
    "duration": 14,
    "start_time": "2024-06-30T04:30:51.578Z"
   },
   {
    "duration": 7,
    "start_time": "2024-06-30T04:30:51.596Z"
   },
   {
    "duration": 15,
    "start_time": "2024-06-30T04:30:52.780Z"
   },
   {
    "duration": 9,
    "start_time": "2024-06-30T04:30:53.592Z"
   },
   {
    "duration": 8,
    "start_time": "2024-06-30T04:30:55.059Z"
   },
   {
    "duration": 9,
    "start_time": "2024-06-30T04:30:55.348Z"
   },
   {
    "duration": 15,
    "start_time": "2024-06-30T04:30:56.529Z"
   },
   {
    "duration": 20,
    "start_time": "2024-06-30T04:32:29.484Z"
   },
   {
    "duration": 24,
    "start_time": "2024-06-30T04:33:26.555Z"
   },
   {
    "duration": 7,
    "start_time": "2024-06-30T04:34:16.269Z"
   },
   {
    "duration": 19,
    "start_time": "2024-06-30T04:42:58.633Z"
   },
   {
    "duration": 7,
    "start_time": "2024-06-30T04:43:17.824Z"
   },
   {
    "duration": 9,
    "start_time": "2024-06-30T04:44:19.926Z"
   },
   {
    "duration": 9,
    "start_time": "2024-06-30T04:44:43.352Z"
   },
   {
    "duration": 53,
    "start_time": "2024-06-30T04:57:43.927Z"
   },
   {
    "duration": 60,
    "start_time": "2024-06-30T04:57:56.183Z"
   },
   {
    "duration": 26,
    "start_time": "2024-06-30T04:58:46.944Z"
   },
   {
    "duration": 22,
    "start_time": "2024-06-30T04:59:01.278Z"
   },
   {
    "duration": 22,
    "start_time": "2024-06-30T04:59:42.700Z"
   },
   {
    "duration": 6,
    "start_time": "2024-06-30T05:00:12.640Z"
   },
   {
    "duration": 23,
    "start_time": "2024-06-30T05:01:36.603Z"
   },
   {
    "duration": 7,
    "start_time": "2024-06-30T05:02:00.091Z"
   },
   {
    "duration": 8,
    "start_time": "2024-06-30T05:04:13.443Z"
   },
   {
    "duration": 7,
    "start_time": "2024-06-30T05:04:21.267Z"
   },
   {
    "duration": 4854,
    "start_time": "2024-06-30T17:55:09.780Z"
   },
   {
    "duration": 410,
    "start_time": "2024-06-30T17:55:14.638Z"
   },
   {
    "duration": 26,
    "start_time": "2024-06-30T17:55:16.814Z"
   },
   {
    "duration": 9,
    "start_time": "2024-06-30T17:55:16.847Z"
   },
   {
    "duration": 16,
    "start_time": "2024-06-30T17:55:17.162Z"
   },
   {
    "duration": 13,
    "start_time": "2024-06-30T17:55:17.182Z"
   },
   {
    "duration": 8,
    "start_time": "2024-06-30T17:55:17.313Z"
   },
   {
    "duration": 10,
    "start_time": "2024-06-30T17:55:17.342Z"
   },
   {
    "duration": 21,
    "start_time": "2024-06-30T17:55:17.437Z"
   },
   {
    "duration": 25,
    "start_time": "2024-06-30T17:55:17.514Z"
   },
   {
    "duration": 7,
    "start_time": "2024-06-30T17:55:17.544Z"
   },
   {
    "duration": 28,
    "start_time": "2024-06-30T17:55:17.672Z"
   },
   {
    "duration": 22,
    "start_time": "2024-06-30T17:55:17.842Z"
   },
   {
    "duration": 7,
    "start_time": "2024-06-30T17:55:17.871Z"
   },
   {
    "duration": 23,
    "start_time": "2024-06-30T17:55:22.439Z"
   },
   {
    "duration": 8,
    "start_time": "2024-06-30T17:55:22.663Z"
   },
   {
    "duration": 7,
    "start_time": "2024-06-30T17:55:26.335Z"
   },
   {
    "duration": 9,
    "start_time": "2024-06-30T22:26:33.934Z"
   },
   {
    "duration": 11,
    "start_time": "2024-06-30T22:27:42.731Z"
   },
   {
    "duration": 12,
    "start_time": "2024-06-30T22:28:54.971Z"
   },
   {
    "duration": 8,
    "start_time": "2024-06-30T22:29:30.159Z"
   },
   {
    "duration": 1591,
    "start_time": "2024-06-30T22:29:41.763Z"
   },
   {
    "duration": 452,
    "start_time": "2024-06-30T22:31:39.422Z"
   },
   {
    "duration": 523,
    "start_time": "2024-06-30T22:32:07.825Z"
   },
   {
    "duration": 175,
    "start_time": "2024-06-30T22:32:49.210Z"
   },
   {
    "duration": 172,
    "start_time": "2024-06-30T22:33:03.696Z"
   },
   {
    "duration": 948,
    "start_time": "2024-06-30T22:33:55.710Z"
   },
   {
    "duration": 200,
    "start_time": "2024-06-30T22:34:09.958Z"
   },
   {
    "duration": 198,
    "start_time": "2024-06-30T22:34:25.726Z"
   },
   {
    "duration": 202,
    "start_time": "2024-06-30T22:34:45.364Z"
   },
   {
    "duration": 189,
    "start_time": "2024-06-30T22:34:55.494Z"
   },
   {
    "duration": 196,
    "start_time": "2024-06-30T22:35:23.234Z"
   },
   {
    "duration": 204,
    "start_time": "2024-06-30T22:35:40.146Z"
   },
   {
    "duration": 182,
    "start_time": "2024-06-30T22:35:50.547Z"
   },
   {
    "duration": 191,
    "start_time": "2024-06-30T22:35:59.609Z"
   },
   {
    "duration": 190,
    "start_time": "2024-06-30T22:36:10.812Z"
   },
   {
    "duration": 4,
    "start_time": "2024-06-30T22:44:33.126Z"
   },
   {
    "duration": 7,
    "start_time": "2024-06-30T22:46:21.378Z"
   },
   {
    "duration": 92,
    "start_time": "2024-06-30T22:48:31.748Z"
   },
   {
    "duration": 11,
    "start_time": "2024-06-30T22:51:01.162Z"
   },
   {
    "duration": 7,
    "start_time": "2024-06-30T23:11:19.033Z"
   },
   {
    "duration": 498,
    "start_time": "2024-06-30T23:21:03.205Z"
   },
   {
    "duration": 150,
    "start_time": "2024-06-30T23:22:00.611Z"
   },
   {
    "duration": 10,
    "start_time": "2024-06-30T23:23:06.059Z"
   },
   {
    "duration": 11,
    "start_time": "2024-06-30T23:25:27.468Z"
   },
   {
    "duration": 9,
    "start_time": "2024-06-30T23:26:04.673Z"
   },
   {
    "duration": 11,
    "start_time": "2024-06-30T23:27:03.672Z"
   },
   {
    "duration": 47,
    "start_time": "2024-06-30T23:46:44.448Z"
   },
   {
    "duration": 50,
    "start_time": "2024-06-30T23:46:51.864Z"
   },
   {
    "duration": 701,
    "start_time": "2024-07-01T00:22:38.352Z"
   },
   {
    "duration": 4794,
    "start_time": "2024-07-03T02:11:24.838Z"
   },
   {
    "duration": 378,
    "start_time": "2024-07-03T02:11:29.635Z"
   },
   {
    "duration": 17,
    "start_time": "2024-07-03T02:11:30.015Z"
   },
   {
    "duration": 9,
    "start_time": "2024-07-03T02:11:30.037Z"
   },
   {
    "duration": 19,
    "start_time": "2024-07-03T02:11:30.050Z"
   },
   {
    "duration": 8,
    "start_time": "2024-07-03T02:11:30.072Z"
   },
   {
    "duration": 49,
    "start_time": "2024-07-03T02:11:30.083Z"
   },
   {
    "duration": 10,
    "start_time": "2024-07-03T02:11:30.135Z"
   },
   {
    "duration": 21,
    "start_time": "2024-07-03T02:11:30.148Z"
   },
   {
    "duration": 56,
    "start_time": "2024-07-03T02:11:30.176Z"
   },
   {
    "duration": 8,
    "start_time": "2024-07-03T02:11:30.235Z"
   },
   {
    "duration": 27,
    "start_time": "2024-07-03T02:11:30.245Z"
   },
   {
    "duration": 46,
    "start_time": "2024-07-03T02:11:30.286Z"
   },
   {
    "duration": 6,
    "start_time": "2024-07-03T02:11:30.470Z"
   },
   {
    "duration": 25,
    "start_time": "2024-07-03T02:11:52.427Z"
   },
   {
    "duration": 9,
    "start_time": "2024-07-03T02:11:52.532Z"
   },
   {
    "duration": 7,
    "start_time": "2024-07-03T02:11:55.839Z"
   },
   {
    "duration": 10,
    "start_time": "2024-07-03T02:11:59.118Z"
   },
   {
    "duration": 1028,
    "start_time": "2024-07-03T02:12:01.214Z"
   },
   {
    "duration": 56,
    "start_time": "2024-07-03T02:29:35.611Z"
   },
   {
    "duration": 300,
    "start_time": "2024-07-03T02:31:23.430Z"
   },
   {
    "duration": 50,
    "start_time": "2024-07-03T02:32:35.177Z"
   },
   {
    "duration": 20,
    "start_time": "2024-07-03T02:34:34.486Z"
   },
   {
    "duration": 295,
    "start_time": "2024-07-03T02:38:15.215Z"
   },
   {
    "duration": 8,
    "start_time": "2024-07-03T02:38:30.241Z"
   },
   {
    "duration": 49,
    "start_time": "2024-07-03T02:38:45.949Z"
   },
   {
    "duration": 20,
    "start_time": "2024-07-03T02:39:31.803Z"
   },
   {
    "duration": 133,
    "start_time": "2024-07-03T02:39:44.990Z"
   },
   {
    "duration": 55,
    "start_time": "2024-07-03T02:48:01.765Z"
   },
   {
    "duration": 182,
    "start_time": "2024-07-03T02:49:09.777Z"
   },
   {
    "duration": 16,
    "start_time": "2024-07-03T02:49:19.625Z"
   },
   {
    "duration": 56,
    "start_time": "2024-07-03T02:49:30.300Z"
   },
   {
    "duration": 57,
    "start_time": "2024-07-03T02:49:59.172Z"
   },
   {
    "duration": 46,
    "start_time": "2024-07-03T02:50:09.689Z"
   },
   {
    "duration": 46,
    "start_time": "2024-07-03T02:53:46.825Z"
   },
   {
    "duration": 47,
    "start_time": "2024-07-03T02:54:11.803Z"
   },
   {
    "duration": 51,
    "start_time": "2024-07-03T02:56:12.962Z"
   },
   {
    "duration": 43,
    "start_time": "2024-07-03T02:56:25.710Z"
   },
   {
    "duration": 53,
    "start_time": "2024-07-03T02:57:04.276Z"
   },
   {
    "duration": 47,
    "start_time": "2024-07-03T02:57:12.544Z"
   },
   {
    "duration": 34,
    "start_time": "2024-07-03T03:02:28.772Z"
   },
   {
    "duration": 36,
    "start_time": "2024-07-03T03:02:51.465Z"
   },
   {
    "duration": 39,
    "start_time": "2024-07-03T05:08:02.822Z"
   },
   {
    "duration": 35,
    "start_time": "2024-07-03T05:09:38.228Z"
   },
   {
    "duration": 53,
    "start_time": "2024-07-03T05:10:01.644Z"
   },
   {
    "duration": 7,
    "start_time": "2024-07-03T05:10:25.230Z"
   },
   {
    "duration": 334,
    "start_time": "2024-07-03T05:10:25.786Z"
   },
   {
    "duration": 22,
    "start_time": "2024-07-03T05:10:26.124Z"
   },
   {
    "duration": 8,
    "start_time": "2024-07-03T05:10:26.149Z"
   },
   {
    "duration": 15,
    "start_time": "2024-07-03T05:10:26.222Z"
   },
   {
    "duration": 9,
    "start_time": "2024-07-03T05:10:26.253Z"
   },
   {
    "duration": 9,
    "start_time": "2024-07-03T05:10:26.394Z"
   },
   {
    "duration": 10,
    "start_time": "2024-07-03T05:10:26.421Z"
   },
   {
    "duration": 21,
    "start_time": "2024-07-03T05:10:26.528Z"
   },
   {
    "duration": 26,
    "start_time": "2024-07-03T05:10:26.594Z"
   },
   {
    "duration": 8,
    "start_time": "2024-07-03T05:10:26.628Z"
   },
   {
    "duration": 30,
    "start_time": "2024-07-03T05:10:26.750Z"
   },
   {
    "duration": 46,
    "start_time": "2024-07-03T05:10:26.858Z"
   },
   {
    "duration": 19,
    "start_time": "2024-07-03T05:10:26.919Z"
   },
   {
    "duration": 11,
    "start_time": "2024-07-03T05:10:26.950Z"
   },
   {
    "duration": 24,
    "start_time": "2024-07-03T05:10:30.739Z"
   },
   {
    "duration": 8,
    "start_time": "2024-07-03T05:10:30.771Z"
   },
   {
    "duration": 9,
    "start_time": "2024-07-03T05:10:31.006Z"
   },
   {
    "duration": 11,
    "start_time": "2024-07-03T05:10:31.099Z"
   },
   {
    "duration": 24,
    "start_time": "2024-07-03T05:10:31.161Z"
   },
   {
    "duration": 47,
    "start_time": "2024-07-03T05:10:31.192Z"
   },
   {
    "duration": 56,
    "start_time": "2024-07-03T05:11:13.969Z"
   },
   {
    "duration": 266,
    "start_time": "2024-07-03T05:11:57.287Z"
   },
   {
    "duration": 14,
    "start_time": "2024-07-03T05:11:57.922Z"
   },
   {
    "duration": 8,
    "start_time": "2024-07-03T05:11:57.939Z"
   },
   {
    "duration": 14,
    "start_time": "2024-07-03T05:11:58.550Z"
   },
   {
    "duration": 9,
    "start_time": "2024-07-03T05:11:58.568Z"
   },
   {
    "duration": 9,
    "start_time": "2024-07-03T05:11:58.581Z"
   },
   {
    "duration": 9,
    "start_time": "2024-07-03T05:11:58.594Z"
   },
   {
    "duration": 42,
    "start_time": "2024-07-03T05:11:58.606Z"
   },
   {
    "duration": 27,
    "start_time": "2024-07-03T05:11:58.650Z"
   },
   {
    "duration": 8,
    "start_time": "2024-07-03T05:11:58.679Z"
   },
   {
    "duration": 26,
    "start_time": "2024-07-03T05:11:58.731Z"
   },
   {
    "duration": 33,
    "start_time": "2024-07-03T05:11:58.817Z"
   },
   {
    "duration": 20,
    "start_time": "2024-07-03T05:11:58.863Z"
   },
   {
    "duration": 7,
    "start_time": "2024-07-03T05:11:58.910Z"
   },
   {
    "duration": 24,
    "start_time": "2024-07-03T05:11:59.197Z"
   },
   {
    "duration": 9,
    "start_time": "2024-07-03T05:11:59.406Z"
   },
   {
    "duration": 7,
    "start_time": "2024-07-03T05:11:59.503Z"
   },
   {
    "duration": 10,
    "start_time": "2024-07-03T05:11:59.547Z"
   },
   {
    "duration": 44,
    "start_time": "2024-07-03T05:11:59.638Z"
   },
   {
    "duration": 4,
    "start_time": "2024-07-03T05:11:59.686Z"
   },
   {
    "duration": 3,
    "start_time": "2024-07-03T05:11:59.694Z"
   },
   {
    "duration": 13,
    "start_time": "2024-07-03T05:11:59.717Z"
   },
   {
    "duration": 3,
    "start_time": "2024-07-03T05:11:59.780Z"
   },
   {
    "duration": 52,
    "start_time": "2024-07-03T05:14:19.565Z"
   },
   {
    "duration": 51,
    "start_time": "2024-07-03T06:01:05.117Z"
   },
   {
    "duration": 271,
    "start_time": "2024-07-03T06:01:44.714Z"
   },
   {
    "duration": 14,
    "start_time": "2024-07-03T06:01:45.390Z"
   },
   {
    "duration": 9,
    "start_time": "2024-07-03T06:01:45.407Z"
   },
   {
    "duration": 13,
    "start_time": "2024-07-03T06:01:45.755Z"
   },
   {
    "duration": 9,
    "start_time": "2024-07-03T06:01:45.772Z"
   },
   {
    "duration": 8,
    "start_time": "2024-07-03T06:01:45.819Z"
   },
   {
    "duration": 9,
    "start_time": "2024-07-03T06:01:45.876Z"
   },
   {
    "duration": 19,
    "start_time": "2024-07-03T06:01:45.945Z"
   },
   {
    "duration": 25,
    "start_time": "2024-07-03T06:01:46.041Z"
   },
   {
    "duration": 7,
    "start_time": "2024-07-03T06:01:46.196Z"
   },
   {
    "duration": 26,
    "start_time": "2024-07-03T06:01:46.207Z"
   },
   {
    "duration": 34,
    "start_time": "2024-07-03T06:01:46.484Z"
   },
   {
    "duration": 20,
    "start_time": "2024-07-03T06:01:46.521Z"
   },
   {
    "duration": 6,
    "start_time": "2024-07-03T06:01:46.544Z"
   },
   {
    "duration": 22,
    "start_time": "2024-07-03T06:01:49.270Z"
   },
   {
    "duration": 7,
    "start_time": "2024-07-03T06:01:49.592Z"
   },
   {
    "duration": 7,
    "start_time": "2024-07-03T06:01:52.146Z"
   },
   {
    "duration": 11,
    "start_time": "2024-07-03T06:01:53.937Z"
   },
   {
    "duration": 17,
    "start_time": "2024-07-03T06:01:55.646Z"
   },
   {
    "duration": 276,
    "start_time": "2024-07-03T06:04:11.717Z"
   },
   {
    "duration": 15,
    "start_time": "2024-07-03T06:04:12.307Z"
   },
   {
    "duration": 8,
    "start_time": "2024-07-03T06:04:12.339Z"
   },
   {
    "duration": 15,
    "start_time": "2024-07-03T06:04:12.637Z"
   },
   {
    "duration": 8,
    "start_time": "2024-07-03T06:04:12.712Z"
   },
   {
    "duration": 8,
    "start_time": "2024-07-03T06:04:12.815Z"
   },
   {
    "duration": 10,
    "start_time": "2024-07-03T06:04:12.838Z"
   },
   {
    "duration": 21,
    "start_time": "2024-07-03T06:04:12.930Z"
   },
   {
    "duration": 24,
    "start_time": "2024-07-03T06:04:13.006Z"
   },
   {
    "duration": 7,
    "start_time": "2024-07-03T06:04:13.040Z"
   },
   {
    "duration": 26,
    "start_time": "2024-07-03T06:04:13.165Z"
   },
   {
    "duration": 33,
    "start_time": "2024-07-03T06:04:13.272Z"
   },
   {
    "duration": 19,
    "start_time": "2024-07-03T06:04:13.334Z"
   },
   {
    "duration": 6,
    "start_time": "2024-07-03T06:04:13.366Z"
   },
   {
    "duration": 22,
    "start_time": "2024-07-03T06:04:13.663Z"
   },
   {
    "duration": 7,
    "start_time": "2024-07-03T06:04:13.694Z"
   },
   {
    "duration": 7,
    "start_time": "2024-07-03T06:04:17.724Z"
   },
   {
    "duration": 12,
    "start_time": "2024-07-03T06:04:18.363Z"
   },
   {
    "duration": 37,
    "start_time": "2024-07-03T06:04:19.685Z"
   },
   {
    "duration": 29,
    "start_time": "2024-07-03T06:04:36.754Z"
   },
   {
    "duration": 1923,
    "start_time": "2024-07-03T06:05:20.125Z"
   },
   {
    "duration": 46,
    "start_time": "2024-07-03T06:05:26.596Z"
   },
   {
    "duration": 16740,
    "start_time": "2024-07-03T06:05:52.043Z"
   },
   {
    "duration": 32,
    "start_time": "2024-07-03T06:06:36.026Z"
   },
   {
    "duration": 31,
    "start_time": "2024-07-03T06:08:16.171Z"
   },
   {
    "duration": 4,
    "start_time": "2024-07-03T06:09:25.130Z"
   },
   {
    "duration": 5,
    "start_time": "2024-07-03T06:09:51.905Z"
   },
   {
    "duration": 1657,
    "start_time": "2024-07-03T06:13:25.882Z"
   },
   {
    "duration": 28,
    "start_time": "2024-07-03T06:13:41.580Z"
   },
   {
    "duration": 780,
    "start_time": "2024-07-03T06:20:58.714Z"
   },
   {
    "duration": 120,
    "start_time": "2024-07-03T06:21:18.240Z"
   },
   {
    "duration": 210,
    "start_time": "2024-07-03T06:21:29.168Z"
   },
   {
    "duration": 6,
    "start_time": "2024-07-03T06:21:37.252Z"
   },
   {
    "duration": 60,
    "start_time": "2024-07-03T06:21:47.949Z"
   },
   {
    "duration": 28,
    "start_time": "2024-07-03T06:21:53.845Z"
   },
   {
    "duration": 185,
    "start_time": "2024-07-03T06:24:59.669Z"
   },
   {
    "duration": 27,
    "start_time": "2024-07-03T06:25:12.068Z"
   },
   {
    "duration": 85,
    "start_time": "2024-07-03T06:25:18.957Z"
   },
   {
    "duration": 29,
    "start_time": "2024-07-03T06:25:22.823Z"
   },
   {
    "duration": 218,
    "start_time": "2024-07-03T06:26:53.733Z"
   },
   {
    "duration": 195,
    "start_time": "2024-07-03T06:26:59.503Z"
   },
   {
    "duration": 104,
    "start_time": "2024-07-03T06:27:12.915Z"
   },
   {
    "duration": 83,
    "start_time": "2024-07-03T06:29:09.973Z"
   },
   {
    "duration": 37,
    "start_time": "2024-07-03T06:29:15.231Z"
   },
   {
    "duration": 34,
    "start_time": "2024-07-03T06:29:29.034Z"
   },
   {
    "duration": 33,
    "start_time": "2024-07-03T06:29:37.370Z"
   },
   {
    "duration": 557,
    "start_time": "2024-07-03T07:20:41.513Z"
   },
   {
    "duration": 152,
    "start_time": "2024-07-03T07:21:06.920Z"
   },
   {
    "duration": 35,
    "start_time": "2024-07-03T07:21:22.738Z"
   },
   {
    "duration": 347,
    "start_time": "2024-07-03T07:21:53.288Z"
   },
   {
    "duration": 33,
    "start_time": "2024-07-03T07:22:13.498Z"
   },
   {
    "duration": 39,
    "start_time": "2024-07-03T07:30:50.379Z"
   },
   {
    "duration": 36,
    "start_time": "2024-07-03T07:42:56.432Z"
   },
   {
    "duration": 56,
    "start_time": "2024-07-03T07:43:36.759Z"
   },
   {
    "duration": 32,
    "start_time": "2024-07-03T07:43:52.172Z"
   },
   {
    "duration": 123,
    "start_time": "2024-07-03T07:44:02.865Z"
   },
   {
    "duration": 82,
    "start_time": "2024-07-03T07:44:12.304Z"
   },
   {
    "duration": 35,
    "start_time": "2024-07-03T07:46:22.484Z"
   },
   {
    "duration": 58,
    "start_time": "2024-07-03T07:47:43.837Z"
   },
   {
    "duration": 47,
    "start_time": "2024-07-03T07:47:53.368Z"
   },
   {
    "duration": 45,
    "start_time": "2024-07-03T07:48:18.374Z"
   },
   {
    "duration": 32,
    "start_time": "2024-07-03T07:51:03.100Z"
   },
   {
    "duration": 40253,
    "start_time": "2024-07-03T08:02:04.341Z"
   },
   {
    "duration": 40548,
    "start_time": "2024-07-03T08:03:19.907Z"
   },
   {
    "duration": 40775,
    "start_time": "2024-07-03T08:04:10.384Z"
   },
   {
    "duration": 31,
    "start_time": "2024-07-03T08:08:07.237Z"
   },
   {
    "duration": 31,
    "start_time": "2024-07-03T08:08:42.613Z"
   },
   {
    "duration": 30,
    "start_time": "2024-07-03T08:08:50.464Z"
   },
   {
    "duration": 30,
    "start_time": "2024-07-03T08:08:57.226Z"
   },
   {
    "duration": 31,
    "start_time": "2024-07-03T08:09:03.126Z"
   },
   {
    "duration": 30,
    "start_time": "2024-07-03T08:09:16.989Z"
   },
   {
    "duration": 41173,
    "start_time": "2024-07-03T08:10:01.706Z"
   },
   {
    "duration": 40742,
    "start_time": "2024-07-03T08:11:06.470Z"
   },
   {
    "duration": 41621,
    "start_time": "2024-07-03T08:12:24.099Z"
   },
   {
    "duration": 46780,
    "start_time": "2024-07-03T08:13:15.836Z"
   },
   {
    "duration": 4832,
    "start_time": "2024-07-05T17:55:38.666Z"
   },
   {
    "duration": 358,
    "start_time": "2024-07-05T17:55:43.503Z"
   },
   {
    "duration": 15,
    "start_time": "2024-07-05T17:55:43.864Z"
   },
   {
    "duration": 29,
    "start_time": "2024-07-05T17:55:43.884Z"
   },
   {
    "duration": 16,
    "start_time": "2024-07-05T17:55:43.918Z"
   },
   {
    "duration": 8,
    "start_time": "2024-07-05T17:55:43.938Z"
   },
   {
    "duration": 9,
    "start_time": "2024-07-05T17:55:43.950Z"
   },
   {
    "duration": 50,
    "start_time": "2024-07-05T17:55:43.962Z"
   },
   {
    "duration": 22,
    "start_time": "2024-07-05T17:55:44.015Z"
   },
   {
    "duration": 25,
    "start_time": "2024-07-05T17:55:44.043Z"
   },
   {
    "duration": 7,
    "start_time": "2024-07-05T17:55:44.071Z"
   },
   {
    "duration": 33,
    "start_time": "2024-07-05T17:55:44.116Z"
   },
   {
    "duration": 68,
    "start_time": "2024-07-05T17:55:44.153Z"
   },
   {
    "duration": 20,
    "start_time": "2024-07-05T17:55:44.224Z"
   },
   {
    "duration": 7,
    "start_time": "2024-07-05T17:55:44.247Z"
   },
   {
    "duration": 22,
    "start_time": "2024-07-05T17:55:44.388Z"
   },
   {
    "duration": 7,
    "start_time": "2024-07-05T17:55:44.682Z"
   },
   {
    "duration": 8,
    "start_time": "2024-07-05T17:55:48.138Z"
   },
   {
    "duration": 10,
    "start_time": "2024-07-05T17:55:50.132Z"
   },
   {
    "duration": 4745,
    "start_time": "2024-07-07T22:28:16.068Z"
   },
   {
    "duration": 352,
    "start_time": "2024-07-07T22:28:20.817Z"
   },
   {
    "duration": 15,
    "start_time": "2024-07-07T22:28:21.172Z"
   },
   {
    "duration": 18,
    "start_time": "2024-07-07T22:28:21.191Z"
   },
   {
    "duration": 15,
    "start_time": "2024-07-07T22:28:21.212Z"
   },
   {
    "duration": 9,
    "start_time": "2024-07-07T22:28:21.230Z"
   },
   {
    "duration": 8,
    "start_time": "2024-07-07T22:28:21.242Z"
   },
   {
    "duration": 55,
    "start_time": "2024-07-07T22:28:21.253Z"
   },
   {
    "duration": 24,
    "start_time": "2024-07-07T22:28:21.311Z"
   },
   {
    "duration": 25,
    "start_time": "2024-07-07T22:28:21.339Z"
   },
   {
    "duration": 46,
    "start_time": "2024-07-07T22:28:21.367Z"
   },
   {
    "duration": 27,
    "start_time": "2024-07-07T22:28:21.415Z"
   },
   {
    "duration": 62,
    "start_time": "2024-07-07T22:28:21.445Z"
   },
   {
    "duration": 20,
    "start_time": "2024-07-07T22:28:21.510Z"
   },
   {
    "duration": 7,
    "start_time": "2024-07-07T22:28:21.533Z"
   },
   {
    "duration": 25,
    "start_time": "2024-07-07T22:28:23.429Z"
   },
   {
    "duration": 7,
    "start_time": "2024-07-07T22:28:23.734Z"
   },
   {
    "duration": 9,
    "start_time": "2024-07-07T22:28:26.504Z"
   },
   {
    "duration": 13,
    "start_time": "2024-07-07T22:28:29.373Z"
   },
   {
    "duration": 1221,
    "start_time": "2024-07-07T22:29:30.822Z"
   },
   {
    "duration": 349,
    "start_time": "2024-07-07T22:29:32.047Z"
   },
   {
    "duration": 16,
    "start_time": "2024-07-07T22:29:32.399Z"
   },
   {
    "duration": 9,
    "start_time": "2024-07-07T22:29:32.420Z"
   },
   {
    "duration": 15,
    "start_time": "2024-07-07T22:29:32.432Z"
   },
   {
    "duration": 9,
    "start_time": "2024-07-07T22:29:32.450Z"
   },
   {
    "duration": 49,
    "start_time": "2024-07-07T22:29:32.463Z"
   },
   {
    "duration": 10,
    "start_time": "2024-07-07T22:29:32.515Z"
   },
   {
    "duration": 22,
    "start_time": "2024-07-07T22:29:32.528Z"
   },
   {
    "duration": 62,
    "start_time": "2024-07-07T22:29:32.555Z"
   },
   {
    "duration": 8,
    "start_time": "2024-07-07T22:29:32.619Z"
   },
   {
    "duration": 27,
    "start_time": "2024-07-07T22:29:32.630Z"
   },
   {
    "duration": 72,
    "start_time": "2024-07-07T22:29:32.661Z"
   },
   {
    "duration": 20,
    "start_time": "2024-07-07T22:29:32.736Z"
   },
   {
    "duration": 6,
    "start_time": "2024-07-07T22:29:32.759Z"
   },
   {
    "duration": 56,
    "start_time": "2024-07-07T22:29:32.769Z"
   },
   {
    "duration": 8,
    "start_time": "2024-07-07T22:29:32.828Z"
   },
   {
    "duration": 8,
    "start_time": "2024-07-07T22:29:32.840Z"
   },
   {
    "duration": 10,
    "start_time": "2024-07-07T22:29:33.789Z"
   },
   {
    "duration": 1098,
    "start_time": "2024-07-07T22:30:35.562Z"
   },
   {
    "duration": 357,
    "start_time": "2024-07-07T22:30:36.666Z"
   },
   {
    "duration": 16,
    "start_time": "2024-07-07T22:30:37.025Z"
   },
   {
    "duration": 10,
    "start_time": "2024-07-07T22:30:37.044Z"
   },
   {
    "duration": 14,
    "start_time": "2024-07-07T22:30:37.059Z"
   },
   {
    "duration": 8,
    "start_time": "2024-07-07T22:30:37.105Z"
   },
   {
    "duration": 9,
    "start_time": "2024-07-07T22:30:37.117Z"
   },
   {
    "duration": 10,
    "start_time": "2024-07-07T22:30:37.129Z"
   },
   {
    "duration": 21,
    "start_time": "2024-07-07T22:30:37.142Z"
   },
   {
    "duration": 28,
    "start_time": "2024-07-07T22:30:37.205Z"
   },
   {
    "duration": 8,
    "start_time": "2024-07-07T22:30:37.236Z"
   },
   {
    "duration": 63,
    "start_time": "2024-07-07T22:30:37.249Z"
   },
   {
    "duration": 36,
    "start_time": "2024-07-07T22:30:37.315Z"
   },
   {
    "duration": 19,
    "start_time": "2024-07-07T22:30:37.355Z"
   },
   {
    "duration": 7,
    "start_time": "2024-07-07T22:30:37.405Z"
   },
   {
    "duration": 22,
    "start_time": "2024-07-07T22:30:37.575Z"
   },
   {
    "duration": 8,
    "start_time": "2024-07-07T22:30:37.607Z"
   },
   {
    "duration": 8,
    "start_time": "2024-07-07T22:30:39.409Z"
   },
   {
    "duration": 10,
    "start_time": "2024-07-07T22:30:40.207Z"
   },
   {
    "duration": 39459,
    "start_time": "2024-07-07T22:30:42.312Z"
   },
   {
    "duration": 40208,
    "start_time": "2024-07-07T22:32:45.282Z"
   },
   {
    "duration": 724,
    "start_time": "2024-07-07T22:33:54.090Z"
   },
   {
    "duration": 91,
    "start_time": "2024-07-07T22:34:10.461Z"
   },
   {
    "duration": 3,
    "start_time": "2024-07-07T22:35:47.274Z"
   },
   {
    "duration": 69,
    "start_time": "2024-07-07T22:35:47.281Z"
   },
   {
    "duration": 49,
    "start_time": "2024-07-07T22:35:53.866Z"
   },
   {
    "duration": 53,
    "start_time": "2024-07-07T22:35:57.867Z"
   },
   {
    "duration": 30,
    "start_time": "2024-07-07T22:36:03.134Z"
   },
   {
    "duration": 40052,
    "start_time": "2024-07-07T22:36:55.555Z"
   },
   {
    "duration": 201,
    "start_time": "2024-07-07T22:37:48.333Z"
   },
   {
    "duration": 196,
    "start_time": "2024-07-07T22:38:42.298Z"
   },
   {
    "duration": 208,
    "start_time": "2024-07-07T22:39:06.798Z"
   },
   {
    "duration": 12,
    "start_time": "2024-07-07T22:39:29.174Z"
   },
   {
    "duration": 251,
    "start_time": "2024-07-07T22:39:37.711Z"
   },
   {
    "duration": 214,
    "start_time": "2024-07-07T22:40:37.707Z"
   },
   {
    "duration": 4,
    "start_time": "2024-07-07T22:41:45.648Z"
   },
   {
    "duration": 261,
    "start_time": "2024-07-07T22:41:46.187Z"
   },
   {
    "duration": 14,
    "start_time": "2024-07-07T22:41:46.451Z"
   },
   {
    "duration": 8,
    "start_time": "2024-07-07T22:41:46.469Z"
   },
   {
    "duration": 15,
    "start_time": "2024-07-07T22:41:46.647Z"
   },
   {
    "duration": 8,
    "start_time": "2024-07-07T22:41:46.678Z"
   },
   {
    "duration": 9,
    "start_time": "2024-07-07T22:41:46.819Z"
   },
   {
    "duration": 9,
    "start_time": "2024-07-07T22:41:46.849Z"
   },
   {
    "duration": 22,
    "start_time": "2024-07-07T22:41:46.945Z"
   },
   {
    "duration": 30,
    "start_time": "2024-07-07T22:41:47.004Z"
   },
   {
    "duration": 7,
    "start_time": "2024-07-07T22:41:47.051Z"
   },
   {
    "duration": 30,
    "start_time": "2024-07-07T22:41:47.175Z"
   },
   {
    "duration": 36,
    "start_time": "2024-07-07T22:41:47.268Z"
   },
   {
    "duration": 19,
    "start_time": "2024-07-07T22:41:47.352Z"
   },
   {
    "duration": 6,
    "start_time": "2024-07-07T22:41:47.382Z"
   },
   {
    "duration": 22,
    "start_time": "2024-07-07T22:41:47.676Z"
   },
   {
    "duration": 7,
    "start_time": "2024-07-07T22:41:47.704Z"
   },
   {
    "duration": 8,
    "start_time": "2024-07-07T22:41:47.940Z"
   },
   {
    "duration": 11,
    "start_time": "2024-07-07T22:41:48.031Z"
   },
   {
    "duration": 207,
    "start_time": "2024-07-07T22:41:50.145Z"
   },
   {
    "duration": 637,
    "start_time": "2024-07-07T22:45:06.987Z"
   },
   {
    "duration": 213,
    "start_time": "2024-07-07T22:45:36.912Z"
   },
   {
    "duration": 206,
    "start_time": "2024-07-07T22:45:51.349Z"
   },
   {
    "duration": 9,
    "start_time": "2024-07-07T22:46:24.458Z"
   },
   {
    "duration": 7,
    "start_time": "2024-07-07T22:46:39.919Z"
   },
   {
    "duration": 210,
    "start_time": "2024-07-07T22:46:48.079Z"
   },
   {
    "duration": 214,
    "start_time": "2024-07-07T22:47:53.201Z"
   },
   {
    "duration": 208,
    "start_time": "2024-07-07T22:48:19.459Z"
   },
   {
    "duration": 302,
    "start_time": "2024-07-07T22:48:30.638Z"
   },
   {
    "duration": 21,
    "start_time": "2024-07-08T03:16:34.582Z"
   },
   {
    "duration": 10,
    "start_time": "2024-07-08T03:17:43.789Z"
   },
   {
    "duration": 31,
    "start_time": "2024-07-08T03:19:07.921Z"
   },
   {
    "duration": 16,
    "start_time": "2024-07-08T03:19:38.959Z"
   },
   {
    "duration": 194,
    "start_time": "2024-07-08T03:23:54.271Z"
   },
   {
    "duration": 20,
    "start_time": "2024-07-08T03:41:37.759Z"
   },
   {
    "duration": 21,
    "start_time": "2024-07-08T03:41:47.771Z"
   },
   {
    "duration": 921,
    "start_time": "2024-07-08T03:53:10.074Z"
   },
   {
    "duration": 21,
    "start_time": "2024-07-08T03:54:25.439Z"
   },
   {
    "duration": 190,
    "start_time": "2024-07-08T03:55:57.449Z"
   },
   {
    "duration": 30,
    "start_time": "2024-07-08T04:07:58.390Z"
   },
   {
    "duration": 276,
    "start_time": "2024-07-08T04:21:21.584Z"
   },
   {
    "duration": 190,
    "start_time": "2024-07-08T04:21:31.260Z"
   },
   {
    "duration": 208,
    "start_time": "2024-07-08T04:30:11.779Z"
   },
   {
    "duration": 207,
    "start_time": "2024-07-08T04:30:17.209Z"
   },
   {
    "duration": 189,
    "start_time": "2024-07-08T04:30:25.136Z"
   },
   {
    "duration": 192,
    "start_time": "2024-07-08T04:30:32.614Z"
   },
   {
    "duration": 38,
    "start_time": "2024-07-08T05:12:50.717Z"
   },
   {
    "duration": 21,
    "start_time": "2024-07-08T05:15:45.411Z"
   },
   {
    "duration": 11,
    "start_time": "2024-07-08T05:15:48.762Z"
   },
   {
    "duration": 7,
    "start_time": "2024-07-08T05:16:14.039Z"
   },
   {
    "duration": 190,
    "start_time": "2024-07-08T05:17:57.094Z"
   },
   {
    "duration": 13,
    "start_time": "2024-07-08T05:20:04.954Z"
   },
   {
    "duration": 31,
    "start_time": "2024-07-08T05:24:20.440Z"
   },
   {
    "duration": 32,
    "start_time": "2024-07-08T05:24:29.955Z"
   },
   {
    "duration": 33,
    "start_time": "2024-07-08T05:26:03.864Z"
   },
   {
    "duration": 5,
    "start_time": "2024-07-08T05:26:36.194Z"
   },
   {
    "duration": 14,
    "start_time": "2024-07-08T05:26:40.789Z"
   },
   {
    "duration": 1339,
    "start_time": "2024-07-08T05:40:36.344Z"
   },
   {
    "duration": 104,
    "start_time": "2024-07-08T05:41:10.478Z"
   },
   {
    "duration": 94,
    "start_time": "2024-07-08T05:41:14.242Z"
   },
   {
    "duration": 22,
    "start_time": "2024-07-08T05:41:37.466Z"
   },
   {
    "duration": 22,
    "start_time": "2024-07-08T05:42:48.609Z"
   },
   {
    "duration": 25,
    "start_time": "2024-07-08T05:43:00.026Z"
   },
   {
    "duration": 5,
    "start_time": "2024-07-08T06:03:19.290Z"
   },
   {
    "duration": 5,
    "start_time": "2024-07-08T06:03:24.783Z"
   },
   {
    "duration": 6,
    "start_time": "2024-07-08T06:12:20.647Z"
   },
   {
    "duration": 21,
    "start_time": "2024-07-08T06:12:28.455Z"
   },
   {
    "duration": 23,
    "start_time": "2024-07-08T06:12:56.098Z"
   },
   {
    "duration": 26,
    "start_time": "2024-07-08T06:22:08.218Z"
   },
   {
    "duration": 23,
    "start_time": "2024-07-08T06:23:20.591Z"
   },
   {
    "duration": 21,
    "start_time": "2024-07-08T06:24:37.072Z"
   },
   {
    "duration": 455,
    "start_time": "2024-07-08T06:27:07.120Z"
   },
   {
    "duration": 21,
    "start_time": "2024-07-08T06:27:11.753Z"
   },
   {
    "duration": 14,
    "start_time": "2024-07-08T06:30:33.687Z"
   },
   {
    "duration": 20,
    "start_time": "2024-07-08T06:31:09.759Z"
   },
   {
    "duration": 18,
    "start_time": "2024-07-08T06:32:17.091Z"
   },
   {
    "duration": 339,
    "start_time": "2024-07-08T06:33:15.379Z"
   },
   {
    "duration": 21,
    "start_time": "2024-07-08T06:41:17.493Z"
   },
   {
    "duration": 17,
    "start_time": "2024-07-08T06:41:52.235Z"
   },
   {
    "duration": 18,
    "start_time": "2024-07-08T06:49:19.190Z"
   },
   {
    "duration": 517,
    "start_time": "2024-07-08T06:50:05.583Z"
   },
   {
    "duration": 8,
    "start_time": "2024-07-08T06:50:52.543Z"
   },
   {
    "duration": 152,
    "start_time": "2024-07-08T06:51:00.691Z"
   },
   {
    "duration": 5103,
    "start_time": "2024-07-08T22:37:04.063Z"
   },
   {
    "duration": 471,
    "start_time": "2024-07-08T22:37:09.170Z"
   },
   {
    "duration": 23,
    "start_time": "2024-07-08T22:37:09.644Z"
   },
   {
    "duration": 15,
    "start_time": "2024-07-08T22:37:09.671Z"
   },
   {
    "duration": 38,
    "start_time": "2024-07-08T22:37:09.695Z"
   },
   {
    "duration": 18,
    "start_time": "2024-07-08T22:37:09.737Z"
   },
   {
    "duration": 9,
    "start_time": "2024-07-08T22:37:09.759Z"
   },
   {
    "duration": 10,
    "start_time": "2024-07-08T22:37:09.772Z"
   },
   {
    "duration": 29,
    "start_time": "2024-07-08T22:37:09.825Z"
   },
   {
    "duration": 26,
    "start_time": "2024-07-08T22:37:09.862Z"
   },
   {
    "duration": 40,
    "start_time": "2024-07-08T22:37:09.891Z"
   },
   {
    "duration": 40,
    "start_time": "2024-07-08T22:37:09.937Z"
   },
   {
    "duration": 68,
    "start_time": "2024-07-08T22:37:09.983Z"
   },
   {
    "duration": 22,
    "start_time": "2024-07-08T22:37:10.054Z"
   },
   {
    "duration": 8,
    "start_time": "2024-07-08T22:37:10.080Z"
   },
   {
    "duration": 57,
    "start_time": "2024-07-08T22:37:10.091Z"
   },
   {
    "duration": 23,
    "start_time": "2024-07-08T22:37:10.152Z"
   },
   {
    "duration": 8,
    "start_time": "2024-07-08T22:37:10.178Z"
   },
   {
    "duration": 34,
    "start_time": "2024-07-08T22:37:10.223Z"
   },
   {
    "duration": 13,
    "start_time": "2024-07-08T22:37:10.261Z"
   },
   {
    "duration": 313,
    "start_time": "2024-07-08T22:37:10.278Z"
   },
   {
    "duration": 252,
    "start_time": "2024-07-08T22:37:10.594Z"
   },
   {
    "duration": 232,
    "start_time": "2024-07-08T22:37:10.849Z"
   },
   {
    "duration": 239,
    "start_time": "2024-07-08T22:37:11.084Z"
   },
   {
    "duration": 44,
    "start_time": "2024-07-08T22:37:11.327Z"
   },
   {
    "duration": 15,
    "start_time": "2024-07-08T22:37:11.375Z"
   },
   {
    "duration": 29,
    "start_time": "2024-07-08T22:37:11.424Z"
   },
   {
    "duration": 551,
    "start_time": "2024-07-08T22:37:11.461Z"
   },
   {
    "duration": 0,
    "start_time": "2024-07-08T22:37:12.015Z"
   },
   {
    "duration": 55,
    "start_time": "2024-07-08T22:37:39.747Z"
   },
   {
    "duration": 25,
    "start_time": "2024-07-08T22:40:47.970Z"
   },
   {
    "duration": 199,
    "start_time": "2024-07-08T22:41:26.162Z"
   },
   {
    "duration": 26,
    "start_time": "2024-07-08T22:43:18.059Z"
   },
   {
    "duration": 18,
    "start_time": "2024-07-08T22:43:27.539Z"
   },
   {
    "duration": 134,
    "start_time": "2024-07-08T22:44:54.234Z"
   },
   {
    "duration": 51,
    "start_time": "2024-07-08T22:56:27.577Z"
   },
   {
    "duration": 7,
    "start_time": "2024-07-08T23:02:22.302Z"
   },
   {
    "duration": 23,
    "start_time": "2024-07-08T23:02:39.007Z"
   },
   {
    "duration": 47,
    "start_time": "2024-07-08T23:05:56.138Z"
   },
   {
    "duration": 106,
    "start_time": "2024-07-08T23:06:27.703Z"
   },
   {
    "duration": 25,
    "start_time": "2024-07-08T23:18:53.436Z"
   },
   {
    "duration": 11,
    "start_time": "2024-07-08T23:37:08.170Z"
   },
   {
    "duration": 38,
    "start_time": "2024-07-08T23:38:15.214Z"
   },
   {
    "duration": 34,
    "start_time": "2024-07-08T23:39:42.159Z"
   },
   {
    "duration": 26,
    "start_time": "2024-07-08T23:47:05.997Z"
   },
   {
    "duration": 486,
    "start_time": "2024-07-08T23:47:23.221Z"
   },
   {
    "duration": 8,
    "start_time": "2024-07-08T23:59:15.628Z"
   },
   {
    "duration": 22,
    "start_time": "2024-07-09T00:05:38.473Z"
   },
   {
    "duration": 4,
    "start_time": "2024-07-09T00:14:34.897Z"
   },
   {
    "duration": 318,
    "start_time": "2024-07-09T00:14:35.436Z"
   },
   {
    "duration": 16,
    "start_time": "2024-07-09T00:14:35.760Z"
   },
   {
    "duration": 14,
    "start_time": "2024-07-09T00:14:35.783Z"
   },
   {
    "duration": 20,
    "start_time": "2024-07-09T00:14:35.903Z"
   },
   {
    "duration": 10,
    "start_time": "2024-07-09T00:14:35.934Z"
   },
   {
    "duration": 10,
    "start_time": "2024-07-09T00:14:36.059Z"
   },
   {
    "duration": 11,
    "start_time": "2024-07-09T00:14:36.090Z"
   },
   {
    "duration": 30,
    "start_time": "2024-07-09T00:14:36.202Z"
   },
   {
    "duration": 26,
    "start_time": "2024-07-09T00:14:36.259Z"
   },
   {
    "duration": 8,
    "start_time": "2024-07-09T00:14:36.293Z"
   },
   {
    "duration": 39,
    "start_time": "2024-07-09T00:14:38.364Z"
   },
   {
    "duration": 58,
    "start_time": "2024-07-09T00:14:39.908Z"
   },
   {
    "duration": 29,
    "start_time": "2024-07-09T00:15:03.505Z"
   },
   {
    "duration": 10,
    "start_time": "2024-07-09T00:15:04.016Z"
   },
   {
    "duration": 26,
    "start_time": "2024-07-09T00:15:04.245Z"
   },
   {
    "duration": 31,
    "start_time": "2024-07-09T00:15:04.310Z"
   },
   {
    "duration": 9,
    "start_time": "2024-07-09T00:15:04.345Z"
   },
   {
    "duration": 30,
    "start_time": "2024-07-09T00:15:06.445Z"
   },
   {
    "duration": 15,
    "start_time": "2024-07-09T00:15:07.303Z"
   },
   {
    "duration": 349,
    "start_time": "2024-07-09T00:15:07.640Z"
   },
   {
    "duration": 246,
    "start_time": "2024-07-09T00:15:07.995Z"
   },
   {
    "duration": 234,
    "start_time": "2024-07-09T00:15:08.245Z"
   },
   {
    "duration": 270,
    "start_time": "2024-07-09T00:15:08.483Z"
   },
   {
    "duration": 64,
    "start_time": "2024-07-09T00:15:08.759Z"
   },
   {
    "duration": 17,
    "start_time": "2024-07-09T00:15:08.827Z"
   },
   {
    "duration": 29,
    "start_time": "2024-07-09T00:15:08.926Z"
   },
   {
    "duration": 26,
    "start_time": "2024-07-09T00:15:09.348Z"
   },
   {
    "duration": 38,
    "start_time": "2024-07-09T00:15:09.668Z"
   },
   {
    "duration": 6,
    "start_time": "2024-07-09T00:15:09.996Z"
   },
   {
    "duration": 7,
    "start_time": "2024-07-09T00:15:56.552Z"
   },
   {
    "duration": 26,
    "start_time": "2024-07-09T00:16:10.663Z"
   },
   {
    "duration": 7,
    "start_time": "2024-07-09T00:16:17.438Z"
   },
   {
    "duration": 7,
    "start_time": "2024-07-09T00:16:35.725Z"
   },
   {
    "duration": 327,
    "start_time": "2024-07-09T00:16:36.326Z"
   },
   {
    "duration": 18,
    "start_time": "2024-07-09T00:16:36.658Z"
   },
   {
    "duration": 9,
    "start_time": "2024-07-09T00:16:36.680Z"
   },
   {
    "duration": 15,
    "start_time": "2024-07-09T00:16:36.722Z"
   },
   {
    "duration": 11,
    "start_time": "2024-07-09T00:16:36.865Z"
   },
   {
    "duration": 8,
    "start_time": "2024-07-09T00:16:36.891Z"
   },
   {
    "duration": 12,
    "start_time": "2024-07-09T00:16:37.061Z"
   },
   {
    "duration": 26,
    "start_time": "2024-07-09T00:16:37.078Z"
   },
   {
    "duration": 30,
    "start_time": "2024-07-09T00:16:37.108Z"
   },
   {
    "duration": 9,
    "start_time": "2024-07-09T00:16:37.141Z"
   },
   {
    "duration": 40,
    "start_time": "2024-07-09T00:16:37.264Z"
   },
   {
    "duration": 48,
    "start_time": "2024-07-09T00:16:37.482Z"
   },
   {
    "duration": 26,
    "start_time": "2024-07-09T00:16:37.537Z"
   },
   {
    "duration": 10,
    "start_time": "2024-07-09T00:16:37.567Z"
   },
   {
    "duration": 26,
    "start_time": "2024-07-09T00:16:37.709Z"
   },
   {
    "duration": 26,
    "start_time": "2024-07-09T00:16:37.922Z"
   },
   {
    "duration": 8,
    "start_time": "2024-07-09T00:16:37.952Z"
   },
   {
    "duration": 30,
    "start_time": "2024-07-09T00:16:38.865Z"
   },
   {
    "duration": 15,
    "start_time": "2024-07-09T00:16:39.056Z"
   },
   {
    "duration": 235,
    "start_time": "2024-07-09T00:16:39.076Z"
   },
   {
    "duration": 247,
    "start_time": "2024-07-09T00:16:39.314Z"
   },
   {
    "duration": 277,
    "start_time": "2024-07-09T00:16:39.565Z"
   },
   {
    "duration": 243,
    "start_time": "2024-07-09T00:16:39.846Z"
   },
   {
    "duration": 43,
    "start_time": "2024-07-09T00:16:40.250Z"
   },
   {
    "duration": 15,
    "start_time": "2024-07-09T00:16:40.749Z"
   },
   {
    "duration": 32,
    "start_time": "2024-07-09T00:16:40.795Z"
   },
   {
    "duration": 24,
    "start_time": "2024-07-09T00:16:40.832Z"
   },
   {
    "duration": 4,
    "start_time": "2024-07-09T00:16:40.861Z"
   },
   {
    "duration": 35,
    "start_time": "2024-07-09T00:16:40.887Z"
   },
   {
    "duration": 4,
    "start_time": "2024-07-09T00:16:41.571Z"
   },
   {
    "duration": 5377,
    "start_time": "2024-07-09T04:15:47.700Z"
   },
   {
    "duration": 449,
    "start_time": "2024-07-09T04:15:53.090Z"
   },
   {
    "duration": 16,
    "start_time": "2024-07-09T04:15:53.544Z"
   },
   {
    "duration": 10,
    "start_time": "2024-07-09T04:15:53.564Z"
   },
   {
    "duration": 17,
    "start_time": "2024-07-09T04:15:53.592Z"
   },
   {
    "duration": 9,
    "start_time": "2024-07-09T04:15:53.612Z"
   },
   {
    "duration": 10,
    "start_time": "2024-07-09T04:15:53.626Z"
   },
   {
    "duration": 49,
    "start_time": "2024-07-09T04:15:53.641Z"
   },
   {
    "duration": 32,
    "start_time": "2024-07-09T04:15:53.694Z"
   },
   {
    "duration": 60,
    "start_time": "2024-07-09T04:15:53.731Z"
   },
   {
    "duration": 8,
    "start_time": "2024-07-09T04:15:53.797Z"
   },
   {
    "duration": 34,
    "start_time": "2024-07-09T04:15:53.809Z"
   },
   {
    "duration": 68,
    "start_time": "2024-07-09T04:15:53.846Z"
   },
   {
    "duration": 26,
    "start_time": "2024-07-09T04:15:53.917Z"
   },
   {
    "duration": 7,
    "start_time": "2024-07-09T04:15:53.946Z"
   },
   {
    "duration": 50,
    "start_time": "2024-07-09T04:15:53.957Z"
   },
   {
    "duration": 30,
    "start_time": "2024-07-09T04:15:54.010Z"
   },
   {
    "duration": 10,
    "start_time": "2024-07-09T04:15:54.042Z"
   },
   {
    "duration": 74,
    "start_time": "2024-07-09T04:15:54.055Z"
   },
   {
    "duration": 12,
    "start_time": "2024-07-09T04:15:54.132Z"
   },
   {
    "duration": 346,
    "start_time": "2024-07-09T04:15:54.148Z"
   },
   {
    "duration": 238,
    "start_time": "2024-07-09T04:15:54.497Z"
   },
   {
    "duration": 236,
    "start_time": "2024-07-09T04:15:54.739Z"
   },
   {
    "duration": 218,
    "start_time": "2024-07-09T04:15:54.990Z"
   },
   {
    "duration": 45,
    "start_time": "2024-07-09T04:15:55.527Z"
   },
   {
    "duration": 17,
    "start_time": "2024-07-09T04:15:56.935Z"
   },
   {
    "duration": 24,
    "start_time": "2024-07-09T04:15:58.540Z"
   },
   {
    "duration": 22,
    "start_time": "2024-07-09T04:16:00.867Z"
   },
   {
    "duration": 29,
    "start_time": "2024-07-09T04:26:37.763Z"
   },
   {
    "duration": 1091,
    "start_time": "2024-07-09T04:27:23.209Z"
   },
   {
    "duration": 22,
    "start_time": "2024-07-09T04:27:51.851Z"
   },
   {
    "duration": 46,
    "start_time": "2024-07-09T04:38:36.124Z"
   },
   {
    "duration": 72,
    "start_time": "2024-07-09T04:40:19.351Z"
   },
   {
    "duration": 4,
    "start_time": "2024-07-09T04:41:31.705Z"
   },
   {
    "duration": 281,
    "start_time": "2024-07-09T04:41:32.237Z"
   },
   {
    "duration": 18,
    "start_time": "2024-07-09T04:41:32.522Z"
   },
   {
    "duration": 8,
    "start_time": "2024-07-09T04:41:32.542Z"
   },
   {
    "duration": 17,
    "start_time": "2024-07-09T04:41:32.701Z"
   },
   {
    "duration": 8,
    "start_time": "2024-07-09T04:41:32.733Z"
   },
   {
    "duration": 8,
    "start_time": "2024-07-09T04:41:32.874Z"
   },
   {
    "duration": 9,
    "start_time": "2024-07-09T04:41:32.903Z"
   },
   {
    "duration": 27,
    "start_time": "2024-07-09T04:41:32.996Z"
   },
   {
    "duration": 27,
    "start_time": "2024-07-09T04:41:33.075Z"
   },
   {
    "duration": 7,
    "start_time": "2024-07-09T04:41:33.109Z"
   },
   {
    "duration": 35,
    "start_time": "2024-07-09T04:41:33.231Z"
   },
   {
    "duration": 35,
    "start_time": "2024-07-09T04:41:33.324Z"
   },
   {
    "duration": 19,
    "start_time": "2024-07-09T04:41:33.402Z"
   },
   {
    "duration": 6,
    "start_time": "2024-07-09T04:41:33.434Z"
   },
   {
    "duration": 25,
    "start_time": "2024-07-09T04:41:34.356Z"
   },
   {
    "duration": 21,
    "start_time": "2024-07-09T04:41:34.888Z"
   },
   {
    "duration": 8,
    "start_time": "2024-07-09T04:41:34.919Z"
   },
   {
    "duration": 29,
    "start_time": "2024-07-09T04:41:35.151Z"
   },
   {
    "duration": 11,
    "start_time": "2024-07-09T04:41:35.260Z"
   },
   {
    "duration": 232,
    "start_time": "2024-07-09T04:41:35.320Z"
   },
   {
    "duration": 212,
    "start_time": "2024-07-09T04:41:36.605Z"
   },
   {
    "duration": 205,
    "start_time": "2024-07-09T04:41:36.871Z"
   },
   {
    "duration": 217,
    "start_time": "2024-07-09T04:41:37.079Z"
   },
   {
    "duration": 40,
    "start_time": "2024-07-09T04:41:38.019Z"
   },
   {
    "duration": 14,
    "start_time": "2024-07-09T04:41:39.926Z"
   },
   {
    "duration": 26,
    "start_time": "2024-07-09T04:41:43.181Z"
   },
   {
    "duration": 51,
    "start_time": "2024-07-09T04:41:45.580Z"
   },
   {
    "duration": 71,
    "start_time": "2024-07-09T04:44:24.428Z"
   },
   {
    "duration": 108,
    "start_time": "2024-07-09T04:45:58.145Z"
   },
   {
    "duration": 5,
    "start_time": "2024-07-09T04:49:10.991Z"
   },
   {
    "duration": 284,
    "start_time": "2024-07-09T04:49:11.521Z"
   },
   {
    "duration": 17,
    "start_time": "2024-07-09T04:49:11.809Z"
   },
   {
    "duration": 8,
    "start_time": "2024-07-09T04:49:11.829Z"
   },
   {
    "duration": 18,
    "start_time": "2024-07-09T04:49:11.993Z"
   },
   {
    "duration": 10,
    "start_time": "2024-07-09T04:49:12.020Z"
   },
   {
    "duration": 8,
    "start_time": "2024-07-09T04:49:12.160Z"
   },
   {
    "duration": 12,
    "start_time": "2024-07-09T04:49:12.195Z"
   },
   {
    "duration": 33,
    "start_time": "2024-07-09T04:49:12.286Z"
   },
   {
    "duration": 25,
    "start_time": "2024-07-09T04:49:12.347Z"
   },
   {
    "duration": 7,
    "start_time": "2024-07-09T04:49:12.378Z"
   },
   {
    "duration": 41,
    "start_time": "2024-07-09T04:49:12.519Z"
   },
   {
    "duration": 45,
    "start_time": "2024-07-09T04:49:12.611Z"
   },
   {
    "duration": 27,
    "start_time": "2024-07-09T04:49:12.692Z"
   },
   {
    "duration": 12,
    "start_time": "2024-07-09T04:49:12.724Z"
   },
   {
    "duration": 23,
    "start_time": "2024-07-09T04:49:12.951Z"
   },
   {
    "duration": 26,
    "start_time": "2024-07-09T04:49:13.013Z"
   },
   {
    "duration": 10,
    "start_time": "2024-07-09T04:49:13.048Z"
   },
   {
    "duration": 45,
    "start_time": "2024-07-09T04:49:13.283Z"
   },
   {
    "duration": 11,
    "start_time": "2024-07-09T04:49:14.321Z"
   },
   {
    "duration": 238,
    "start_time": "2024-07-09T04:49:14.977Z"
   },
   {
    "duration": 323,
    "start_time": "2024-07-09T04:49:15.219Z"
   },
   {
    "duration": 238,
    "start_time": "2024-07-09T04:49:15.547Z"
   },
   {
    "duration": 214,
    "start_time": "2024-07-09T04:49:15.788Z"
   },
   {
    "duration": 52,
    "start_time": "2024-07-09T04:49:16.007Z"
   },
   {
    "duration": 53,
    "start_time": "2024-07-09T04:49:16.065Z"
   },
   {
    "duration": 32,
    "start_time": "2024-07-09T04:49:16.223Z"
   },
   {
    "duration": 111,
    "start_time": "2024-07-09T04:49:16.428Z"
   },
   {
    "duration": 3,
    "start_time": "2024-07-09T04:49:17.269Z"
   },
   {
    "duration": 3,
    "start_time": "2024-07-09T04:49:18.582Z"
   },
   {
    "duration": 4,
    "start_time": "2024-07-09T04:56:11.249Z"
   },
   {
    "duration": 329,
    "start_time": "2024-07-09T04:56:11.787Z"
   },
   {
    "duration": 16,
    "start_time": "2024-07-09T04:56:12.119Z"
   },
   {
    "duration": 9,
    "start_time": "2024-07-09T04:56:12.138Z"
   },
   {
    "duration": 14,
    "start_time": "2024-07-09T04:56:12.266Z"
   },
   {
    "duration": 7,
    "start_time": "2024-07-09T04:56:12.292Z"
   },
   {
    "duration": 9,
    "start_time": "2024-07-09T04:56:12.411Z"
   },
   {
    "duration": 10,
    "start_time": "2024-07-09T04:56:12.443Z"
   },
   {
    "duration": 23,
    "start_time": "2024-07-09T04:56:12.556Z"
   },
   {
    "duration": 29,
    "start_time": "2024-07-09T04:56:12.613Z"
   },
   {
    "duration": 7,
    "start_time": "2024-07-09T04:56:12.649Z"
   },
   {
    "duration": 48,
    "start_time": "2024-07-09T04:56:12.782Z"
   },
   {
    "duration": 37,
    "start_time": "2024-07-09T04:56:12.874Z"
   },
   {
    "duration": 26,
    "start_time": "2024-07-09T04:56:12.937Z"
   },
   {
    "duration": 6,
    "start_time": "2024-07-09T04:56:12.971Z"
   },
   {
    "duration": 23,
    "start_time": "2024-07-09T04:56:13.218Z"
   },
   {
    "duration": 23,
    "start_time": "2024-07-09T04:56:13.269Z"
   },
   {
    "duration": 7,
    "start_time": "2024-07-09T04:56:13.314Z"
   },
   {
    "duration": 38,
    "start_time": "2024-07-09T04:56:13.532Z"
   },
   {
    "duration": 12,
    "start_time": "2024-07-09T04:56:13.643Z"
   },
   {
    "duration": 266,
    "start_time": "2024-07-09T04:56:13.706Z"
   },
   {
    "duration": 275,
    "start_time": "2024-07-09T04:56:13.976Z"
   },
   {
    "duration": 242,
    "start_time": "2024-07-09T04:56:14.255Z"
   },
   {
    "duration": 237,
    "start_time": "2024-07-09T04:56:14.503Z"
   },
   {
    "duration": 72,
    "start_time": "2024-07-09T04:56:14.746Z"
   },
   {
    "duration": 18,
    "start_time": "2024-07-09T04:56:14.823Z"
   },
   {
    "duration": 51,
    "start_time": "2024-07-09T04:56:14.847Z"
   },
   {
    "duration": 115,
    "start_time": "2024-07-09T04:56:14.901Z"
   },
   {
    "duration": 40,
    "start_time": "2024-07-09T04:59:07.307Z"
   },
   {
    "duration": 24,
    "start_time": "2024-07-09T05:23:45.408Z"
   },
   {
    "duration": 320,
    "start_time": "2024-07-09T05:24:05.801Z"
   },
   {
    "duration": 55,
    "start_time": "2024-07-09T05:24:11.993Z"
   },
   {
    "duration": 5,
    "start_time": "2024-07-09T05:25:38.751Z"
   },
   {
    "duration": 24,
    "start_time": "2024-07-09T05:26:18.987Z"
   },
   {
    "duration": 7,
    "start_time": "2024-07-09T05:26:31.174Z"
   },
   {
    "duration": 8,
    "start_time": "2024-07-09T05:38:34.877Z"
   },
   {
    "duration": 9,
    "start_time": "2024-07-09T05:38:52.974Z"
   },
   {
    "duration": 10,
    "start_time": "2024-07-09T05:39:14.351Z"
   },
   {
    "duration": 918,
    "start_time": "2024-07-09T05:49:50.016Z"
   },
   {
    "duration": 14,
    "start_time": "2024-07-09T05:50:46.930Z"
   },
   {
    "duration": 6,
    "start_time": "2024-07-09T06:35:32.454Z"
   },
   {
    "duration": 4,
    "start_time": "2024-07-09T06:57:43.330Z"
   },
   {
    "duration": 5,
    "start_time": "2024-07-09T06:58:01.481Z"
   },
   {
    "duration": 236,
    "start_time": "2024-07-09T07:10:39.944Z"
   },
   {
    "duration": 147,
    "start_time": "2024-07-09T07:12:10.083Z"
   },
   {
    "duration": 4888,
    "start_time": "2024-07-09T17:11:56.432Z"
   },
   {
    "duration": 392,
    "start_time": "2024-07-09T17:12:03.126Z"
   },
   {
    "duration": 18,
    "start_time": "2024-07-09T17:12:03.522Z"
   },
   {
    "duration": 9,
    "start_time": "2024-07-09T17:12:03.543Z"
   },
   {
    "duration": 14,
    "start_time": "2024-07-09T17:12:03.591Z"
   },
   {
    "duration": 10,
    "start_time": "2024-07-09T17:12:03.614Z"
   },
   {
    "duration": 8,
    "start_time": "2024-07-09T17:12:03.751Z"
   },
   {
    "duration": 9,
    "start_time": "2024-07-09T17:12:03.778Z"
   },
   {
    "duration": 24,
    "start_time": "2024-07-09T17:12:03.874Z"
   },
   {
    "duration": 25,
    "start_time": "2024-07-09T17:12:03.935Z"
   },
   {
    "duration": 6,
    "start_time": "2024-07-09T17:12:03.975Z"
   },
   {
    "duration": 30,
    "start_time": "2024-07-09T17:12:04.108Z"
   },
   {
    "duration": 34,
    "start_time": "2024-07-09T17:12:04.199Z"
   },
   {
    "duration": 19,
    "start_time": "2024-07-09T17:12:04.276Z"
   },
   {
    "duration": 7,
    "start_time": "2024-07-09T17:12:04.307Z"
   },
   {
    "duration": 21,
    "start_time": "2024-07-09T17:12:04.540Z"
   },
   {
    "duration": 25,
    "start_time": "2024-07-09T17:12:04.600Z"
   },
   {
    "duration": 7,
    "start_time": "2024-07-09T17:12:04.631Z"
   },
   {
    "duration": 29,
    "start_time": "2024-07-09T17:12:04.865Z"
   },
   {
    "duration": 11,
    "start_time": "2024-07-09T17:12:04.970Z"
   },
   {
    "duration": 252,
    "start_time": "2024-07-09T17:12:05.034Z"
   },
   {
    "duration": 216,
    "start_time": "2024-07-09T17:12:05.682Z"
   },
   {
    "duration": 193,
    "start_time": "2024-07-09T17:12:05.969Z"
   },
   {
    "duration": 198,
    "start_time": "2024-07-09T17:12:06.479Z"
   },
   {
    "duration": 58,
    "start_time": "2024-07-09T17:12:06.681Z"
   },
   {
    "duration": 14,
    "start_time": "2024-07-09T17:12:06.742Z"
   },
   {
    "duration": 55,
    "start_time": "2024-07-09T17:12:06.760Z"
   },
   {
    "duration": 97,
    "start_time": "2024-07-09T17:12:07.409Z"
   },
   {
    "duration": 22,
    "start_time": "2024-07-09T17:12:07.721Z"
   },
   {
    "duration": 5,
    "start_time": "2024-07-09T17:12:08.095Z"
   },
   {
    "duration": 1165,
    "start_time": "2024-07-09T17:12:08.599Z"
   },
   {
    "duration": 74,
    "start_time": "2024-07-09T19:26:53.920Z"
   },
   {
    "duration": 4,
    "start_time": "2024-07-09T19:44:01.998Z"
   },
   {
    "duration": 808,
    "start_time": "2024-07-09T19:44:14.689Z"
   },
   {
    "duration": 1202,
    "start_time": "2024-07-09T19:45:54.741Z"
   },
   {
    "duration": 2150,
    "start_time": "2024-07-09T19:47:23.548Z"
   },
   {
    "duration": 4,
    "start_time": "2024-07-09T19:54:02.103Z"
   },
   {
    "duration": 272,
    "start_time": "2024-07-09T19:54:02.636Z"
   },
   {
    "duration": 17,
    "start_time": "2024-07-09T19:54:02.911Z"
   },
   {
    "duration": 7,
    "start_time": "2024-07-09T19:54:02.932Z"
   },
   {
    "duration": 16,
    "start_time": "2024-07-09T19:54:03.108Z"
   },
   {
    "duration": 8,
    "start_time": "2024-07-09T19:54:03.136Z"
   },
   {
    "duration": 8,
    "start_time": "2024-07-09T19:54:03.287Z"
   },
   {
    "duration": 9,
    "start_time": "2024-07-09T19:54:03.303Z"
   },
   {
    "duration": 26,
    "start_time": "2024-07-09T19:54:03.398Z"
   },
   {
    "duration": 25,
    "start_time": "2024-07-09T19:54:03.459Z"
   },
   {
    "duration": 9,
    "start_time": "2024-07-09T19:54:03.496Z"
   },
   {
    "duration": 30,
    "start_time": "2024-07-09T19:54:03.633Z"
   },
   {
    "duration": 42,
    "start_time": "2024-07-09T19:54:03.725Z"
   },
   {
    "duration": 23,
    "start_time": "2024-07-09T19:54:03.802Z"
   },
   {
    "duration": 7,
    "start_time": "2024-07-09T19:54:03.839Z"
   },
   {
    "duration": 22,
    "start_time": "2024-07-09T19:54:04.070Z"
   },
   {
    "duration": 22,
    "start_time": "2024-07-09T19:54:04.132Z"
   },
   {
    "duration": 7,
    "start_time": "2024-07-09T19:54:04.161Z"
   },
   {
    "duration": 28,
    "start_time": "2024-07-09T19:54:04.398Z"
   },
   {
    "duration": 13,
    "start_time": "2024-07-09T19:54:04.488Z"
   },
   {
    "duration": 223,
    "start_time": "2024-07-09T19:54:04.556Z"
   },
   {
    "duration": 243,
    "start_time": "2024-07-09T19:54:04.782Z"
   },
   {
    "duration": 211,
    "start_time": "2024-07-09T19:54:05.028Z"
   },
   {
    "duration": 220,
    "start_time": "2024-07-09T19:54:05.243Z"
   },
   {
    "duration": 53,
    "start_time": "2024-07-09T19:54:05.466Z"
   },
   {
    "duration": 17,
    "start_time": "2024-07-09T19:54:05.522Z"
   },
   {
    "duration": 26,
    "start_time": "2024-07-09T19:54:05.542Z"
   },
   {
    "duration": 116,
    "start_time": "2024-07-09T19:54:05.571Z"
   },
   {
    "duration": 42,
    "start_time": "2024-07-09T19:54:05.690Z"
   },
   {
    "duration": 6,
    "start_time": "2024-07-09T19:54:05.928Z"
   },
   {
    "duration": 93,
    "start_time": "2024-07-09T19:54:06.638Z"
   },
   {
    "duration": 140,
    "start_time": "2024-07-09T20:03:30.396Z"
   },
   {
    "duration": 4,
    "start_time": "2024-07-09T20:11:02.149Z"
   },
   {
    "duration": 292,
    "start_time": "2024-07-09T20:11:02.677Z"
   },
   {
    "duration": 19,
    "start_time": "2024-07-09T20:11:02.973Z"
   },
   {
    "duration": 21,
    "start_time": "2024-07-09T20:11:02.996Z"
   },
   {
    "duration": 15,
    "start_time": "2024-07-09T20:11:03.141Z"
   },
   {
    "duration": 8,
    "start_time": "2024-07-09T20:11:03.183Z"
   },
   {
    "duration": 9,
    "start_time": "2024-07-09T20:11:03.314Z"
   },
   {
    "duration": 10,
    "start_time": "2024-07-09T20:11:03.347Z"
   },
   {
    "duration": 23,
    "start_time": "2024-07-09T20:11:03.442Z"
   },
   {
    "duration": 29,
    "start_time": "2024-07-09T20:11:03.510Z"
   },
   {
    "duration": 7,
    "start_time": "2024-07-09T20:11:03.543Z"
   },
   {
    "duration": 32,
    "start_time": "2024-07-09T20:11:03.675Z"
   },
   {
    "duration": 36,
    "start_time": "2024-07-09T20:11:03.768Z"
   },
   {
    "duration": 20,
    "start_time": "2024-07-09T20:11:03.832Z"
   },
   {
    "duration": 7,
    "start_time": "2024-07-09T20:11:03.876Z"
   },
   {
    "duration": 26,
    "start_time": "2024-07-09T20:11:04.128Z"
   },
   {
    "duration": 23,
    "start_time": "2024-07-09T20:11:04.166Z"
   },
   {
    "duration": 7,
    "start_time": "2024-07-09T20:11:04.207Z"
   },
   {
    "duration": 32,
    "start_time": "2024-07-09T20:11:04.425Z"
   },
   {
    "duration": 11,
    "start_time": "2024-07-09T20:11:04.993Z"
   },
   {
    "duration": 210,
    "start_time": "2024-07-09T20:11:05.492Z"
   },
   {
    "duration": 225,
    "start_time": "2024-07-09T20:11:06.216Z"
   },
   {
    "duration": 199,
    "start_time": "2024-07-09T20:11:06.789Z"
   },
   {
    "duration": 213,
    "start_time": "2024-07-09T20:11:07.240Z"
   },
   {
    "duration": 180,
    "start_time": "2024-07-09T20:11:08.056Z"
   },
   {
    "duration": 13,
    "start_time": "2024-07-09T20:11:08.244Z"
   },
   {
    "duration": 23,
    "start_time": "2024-07-09T20:11:09.079Z"
   },
   {
    "duration": 87,
    "start_time": "2024-07-09T20:11:09.541Z"
   },
   {
    "duration": 21,
    "start_time": "2024-07-09T20:11:09.978Z"
   },
   {
    "duration": 5,
    "start_time": "2024-07-09T20:11:11.301Z"
   },
   {
    "duration": 146,
    "start_time": "2024-07-09T20:13:45.392Z"
   },
   {
    "duration": 12,
    "start_time": "2024-07-09T20:35:18.929Z"
   },
   {
    "duration": 123,
    "start_time": "2024-07-09T20:35:37.042Z"
   },
   {
    "duration": 4,
    "start_time": "2024-07-09T22:08:55.339Z"
   },
   {
    "duration": 346,
    "start_time": "2024-07-09T22:08:55.861Z"
   },
   {
    "duration": 20,
    "start_time": "2024-07-09T22:08:56.211Z"
   },
   {
    "duration": 10,
    "start_time": "2024-07-09T22:08:56.235Z"
   },
   {
    "duration": 23,
    "start_time": "2024-07-09T22:08:56.331Z"
   },
   {
    "duration": 14,
    "start_time": "2024-07-09T22:08:56.363Z"
   },
   {
    "duration": 10,
    "start_time": "2024-07-09T22:08:56.490Z"
   },
   {
    "duration": 12,
    "start_time": "2024-07-09T22:08:56.532Z"
   },
   {
    "duration": 29,
    "start_time": "2024-07-09T22:08:56.629Z"
   },
   {
    "duration": 30,
    "start_time": "2024-07-09T22:08:56.690Z"
   },
   {
    "duration": 9,
    "start_time": "2024-07-09T22:08:56.728Z"
   },
   {
    "duration": 37,
    "start_time": "2024-07-09T22:08:56.857Z"
   },
   {
    "duration": 42,
    "start_time": "2024-07-09T22:08:56.952Z"
   },
   {
    "duration": 24,
    "start_time": "2024-07-09T22:08:57.028Z"
   },
   {
    "duration": 7,
    "start_time": "2024-07-09T22:08:57.067Z"
   },
   {
    "duration": 25,
    "start_time": "2024-07-09T22:08:57.293Z"
   },
   {
    "duration": 25,
    "start_time": "2024-07-09T22:08:57.353Z"
   },
   {
    "duration": 8,
    "start_time": "2024-07-09T22:08:57.385Z"
   },
   {
    "duration": 38,
    "start_time": "2024-07-09T22:08:57.617Z"
   },
   {
    "duration": 14,
    "start_time": "2024-07-09T22:08:57.711Z"
   },
   {
    "duration": 245,
    "start_time": "2024-07-09T22:08:57.775Z"
   },
   {
    "duration": 228,
    "start_time": "2024-07-09T22:08:58.869Z"
   },
   {
    "duration": 228,
    "start_time": "2024-07-09T22:08:59.206Z"
   },
   {
    "duration": 208,
    "start_time": "2024-07-09T22:08:59.531Z"
   },
   {
    "duration": 49,
    "start_time": "2024-07-09T22:09:00.494Z"
   },
   {
    "duration": 16,
    "start_time": "2024-07-09T22:09:00.876Z"
   },
   {
    "duration": 26,
    "start_time": "2024-07-09T22:09:03.660Z"
   },
   {
    "duration": 15,
    "start_time": "2024-07-09T22:09:05.434Z"
   },
   {
    "duration": 27,
    "start_time": "2024-07-09T22:09:19.629Z"
   },
   {
    "duration": 4,
    "start_time": "2024-07-09T22:10:46.034Z"
   },
   {
    "duration": 284,
    "start_time": "2024-07-09T22:10:46.588Z"
   },
   {
    "duration": 13,
    "start_time": "2024-07-09T22:10:46.876Z"
   },
   {
    "duration": 23,
    "start_time": "2024-07-09T22:10:46.892Z"
   },
   {
    "duration": 16,
    "start_time": "2024-07-09T22:10:47.042Z"
   },
   {
    "duration": 9,
    "start_time": "2024-07-09T22:10:47.073Z"
   },
   {
    "duration": 9,
    "start_time": "2024-07-09T22:10:47.196Z"
   },
   {
    "duration": 10,
    "start_time": "2024-07-09T22:10:47.227Z"
   },
   {
    "duration": 23,
    "start_time": "2024-07-09T22:10:47.337Z"
   },
   {
    "duration": 34,
    "start_time": "2024-07-09T22:10:47.402Z"
   },
   {
    "duration": 10,
    "start_time": "2024-07-09T22:10:47.439Z"
   },
   {
    "duration": 35,
    "start_time": "2024-07-09T22:10:47.582Z"
   },
   {
    "duration": 34,
    "start_time": "2024-07-09T22:10:47.666Z"
   },
   {
    "duration": 22,
    "start_time": "2024-07-09T22:10:47.730Z"
   },
   {
    "duration": 6,
    "start_time": "2024-07-09T22:10:47.761Z"
   },
   {
    "duration": 24,
    "start_time": "2024-07-09T22:10:47.994Z"
   },
   {
    "duration": 22,
    "start_time": "2024-07-09T22:10:48.057Z"
   },
   {
    "duration": 7,
    "start_time": "2024-07-09T22:10:48.095Z"
   },
   {
    "duration": 35,
    "start_time": "2024-07-09T22:10:48.320Z"
   },
   {
    "duration": 15,
    "start_time": "2024-07-09T22:10:48.416Z"
   },
   {
    "duration": 228,
    "start_time": "2024-07-09T22:10:48.497Z"
   },
   {
    "duration": 234,
    "start_time": "2024-07-09T22:10:48.730Z"
   },
   {
    "duration": 222,
    "start_time": "2024-07-09T22:10:48.968Z"
   },
   {
    "duration": 220,
    "start_time": "2024-07-09T22:10:49.195Z"
   },
   {
    "duration": 59,
    "start_time": "2024-07-09T22:10:49.420Z"
   },
   {
    "duration": 51,
    "start_time": "2024-07-09T22:10:49.484Z"
   },
   {
    "duration": 32,
    "start_time": "2024-07-09T22:10:49.539Z"
   },
   {
    "duration": 57,
    "start_time": "2024-07-09T22:10:49.573Z"
   },
   {
    "duration": 24,
    "start_time": "2024-07-09T22:11:00.672Z"
   },
   {
    "duration": 6,
    "start_time": "2024-07-09T22:11:01.212Z"
   },
   {
    "duration": 120,
    "start_time": "2024-07-09T22:11:01.245Z"
   },
   {
    "duration": 43,
    "start_time": "2024-07-09T22:13:40.447Z"
   },
   {
    "duration": 18,
    "start_time": "2024-07-09T22:13:56.000Z"
   },
   {
    "duration": 4,
    "start_time": "2024-07-09T22:14:06.475Z"
   },
   {
    "duration": 269,
    "start_time": "2024-07-09T22:14:07.008Z"
   },
   {
    "duration": 16,
    "start_time": "2024-07-09T22:14:07.281Z"
   },
   {
    "duration": 8,
    "start_time": "2024-07-09T22:14:07.314Z"
   },
   {
    "duration": 15,
    "start_time": "2024-07-09T22:14:07.474Z"
   },
   {
    "duration": 9,
    "start_time": "2024-07-09T22:14:07.504Z"
   },
   {
    "duration": 10,
    "start_time": "2024-07-09T22:14:07.646Z"
   },
   {
    "duration": 11,
    "start_time": "2024-07-09T22:14:07.680Z"
   },
   {
    "duration": 22,
    "start_time": "2024-07-09T22:14:07.770Z"
   },
   {
    "duration": 24,
    "start_time": "2024-07-09T22:14:07.833Z"
   },
   {
    "duration": 6,
    "start_time": "2024-07-09T22:14:07.875Z"
   },
   {
    "duration": 30,
    "start_time": "2024-07-09T22:14:08.004Z"
   },
   {
    "duration": 34,
    "start_time": "2024-07-09T22:14:08.100Z"
   },
   {
    "duration": 20,
    "start_time": "2024-07-09T22:14:08.160Z"
   },
   {
    "duration": 8,
    "start_time": "2024-07-09T22:14:08.192Z"
   },
   {
    "duration": 23,
    "start_time": "2024-07-09T22:14:08.436Z"
   },
   {
    "duration": 22,
    "start_time": "2024-07-09T22:14:08.493Z"
   },
   {
    "duration": 7,
    "start_time": "2024-07-09T22:14:08.536Z"
   },
   {
    "duration": 32,
    "start_time": "2024-07-09T22:14:08.769Z"
   },
   {
    "duration": 12,
    "start_time": "2024-07-09T22:14:08.859Z"
   },
   {
    "duration": 218,
    "start_time": "2024-07-09T22:14:08.927Z"
   },
   {
    "duration": 224,
    "start_time": "2024-07-09T22:14:09.149Z"
   },
   {
    "duration": 217,
    "start_time": "2024-07-09T22:14:09.376Z"
   },
   {
    "duration": 223,
    "start_time": "2024-07-09T22:14:09.597Z"
   },
   {
    "duration": 44,
    "start_time": "2024-07-09T22:14:09.824Z"
   },
   {
    "duration": 42,
    "start_time": "2024-07-09T22:14:09.871Z"
   },
   {
    "duration": 25,
    "start_time": "2024-07-09T22:14:11.305Z"
   },
   {
    "duration": 16,
    "start_time": "2024-07-09T22:14:11.973Z"
   },
   {
    "duration": 6,
    "start_time": "2024-07-09T22:28:56.110Z"
   },
   {
    "duration": 10,
    "start_time": "2024-07-09T22:42:55.817Z"
   },
   {
    "duration": 11,
    "start_time": "2024-07-09T22:43:30.118Z"
   },
   {
    "duration": 10,
    "start_time": "2024-07-09T22:43:46.132Z"
   },
   {
    "duration": 38,
    "start_time": "2024-07-09T22:44:17.251Z"
   },
   {
    "duration": 12,
    "start_time": "2024-07-09T22:45:23.351Z"
   },
   {
    "duration": 6,
    "start_time": "2024-07-09T22:49:31.383Z"
   },
   {
    "duration": 6,
    "start_time": "2024-07-09T22:49:41.630Z"
   },
   {
    "duration": 9,
    "start_time": "2024-07-09T22:49:48.006Z"
   },
   {
    "duration": 10,
    "start_time": "2024-07-09T22:50:42.515Z"
   },
   {
    "duration": 83,
    "start_time": "2024-07-09T22:51:01.073Z"
   },
   {
    "duration": 135,
    "start_time": "2024-07-09T22:51:17.524Z"
   },
   {
    "duration": 33,
    "start_time": "2024-07-10T02:00:08.066Z"
   },
   {
    "duration": 82,
    "start_time": "2024-07-10T02:00:23.056Z"
   },
   {
    "duration": 74,
    "start_time": "2024-07-10T02:00:29.256Z"
   },
   {
    "duration": 86,
    "start_time": "2024-07-10T02:00:53.203Z"
   },
   {
    "duration": 10,
    "start_time": "2024-07-10T02:11:43.283Z"
   },
   {
    "duration": 129,
    "start_time": "2024-07-10T02:11:54.941Z"
   },
   {
    "duration": 89,
    "start_time": "2024-07-10T02:16:03.153Z"
   },
   {
    "duration": 115,
    "start_time": "2024-07-10T02:16:23.064Z"
   },
   {
    "duration": 11,
    "start_time": "2024-07-10T02:19:05.549Z"
   },
   {
    "duration": 10,
    "start_time": "2024-07-10T02:19:56.871Z"
   },
   {
    "duration": 107,
    "start_time": "2024-07-10T02:22:20.850Z"
   },
   {
    "duration": 158,
    "start_time": "2024-07-10T02:34:01.305Z"
   },
   {
    "duration": 151,
    "start_time": "2024-07-10T02:46:07.276Z"
   },
   {
    "duration": 1924,
    "start_time": "2024-07-10T02:46:55.998Z"
   },
   {
    "duration": 2010,
    "start_time": "2024-07-10T02:47:32.913Z"
   },
   {
    "duration": 12,
    "start_time": "2024-07-10T02:47:44.645Z"
   },
   {
    "duration": 1920,
    "start_time": "2024-07-10T02:47:51.645Z"
   },
   {
    "duration": 12,
    "start_time": "2024-07-10T03:26:15.058Z"
   },
   {
    "duration": 49,
    "start_time": "2024-07-10T03:29:46.974Z"
   },
   {
    "duration": 398,
    "start_time": "2024-07-10T03:30:01.425Z"
   },
   {
    "duration": 4,
    "start_time": "2024-07-10T03:30:13.975Z"
   },
   {
    "duration": 290,
    "start_time": "2024-07-10T03:30:14.510Z"
   },
   {
    "duration": 15,
    "start_time": "2024-07-10T03:30:14.804Z"
   },
   {
    "duration": 8,
    "start_time": "2024-07-10T03:30:14.822Z"
   },
   {
    "duration": 15,
    "start_time": "2024-07-10T03:30:14.973Z"
   },
   {
    "duration": 8,
    "start_time": "2024-07-10T03:30:15.007Z"
   },
   {
    "duration": 9,
    "start_time": "2024-07-10T03:30:15.143Z"
   },
   {
    "duration": 14,
    "start_time": "2024-07-10T03:30:15.181Z"
   },
   {
    "duration": 24,
    "start_time": "2024-07-10T03:30:15.270Z"
   },
   {
    "duration": 29,
    "start_time": "2024-07-10T03:30:15.331Z"
   },
   {
    "duration": 8,
    "start_time": "2024-07-10T03:30:15.364Z"
   },
   {
    "duration": 36,
    "start_time": "2024-07-10T03:30:15.499Z"
   },
   {
    "duration": 37,
    "start_time": "2024-07-10T03:30:15.605Z"
   },
   {
    "duration": 18,
    "start_time": "2024-07-10T03:30:15.670Z"
   },
   {
    "duration": 7,
    "start_time": "2024-07-10T03:30:15.701Z"
   },
   {
    "duration": 26,
    "start_time": "2024-07-10T03:30:15.931Z"
   },
   {
    "duration": 22,
    "start_time": "2024-07-10T03:30:15.995Z"
   },
   {
    "duration": 6,
    "start_time": "2024-07-10T03:30:16.027Z"
   },
   {
    "duration": 35,
    "start_time": "2024-07-10T03:30:16.263Z"
   },
   {
    "duration": 11,
    "start_time": "2024-07-10T03:30:16.363Z"
   },
   {
    "duration": 219,
    "start_time": "2024-07-10T03:30:16.755Z"
   },
   {
    "duration": 212,
    "start_time": "2024-07-10T03:30:17.061Z"
   },
   {
    "duration": 202,
    "start_time": "2024-07-10T03:30:17.373Z"
   },
   {
    "duration": 241,
    "start_time": "2024-07-10T03:30:17.587Z"
   },
   {
    "duration": 46,
    "start_time": "2024-07-10T03:30:18.409Z"
   },
   {
    "duration": 14,
    "start_time": "2024-07-10T03:30:18.602Z"
   },
   {
    "duration": 24,
    "start_time": "2024-07-10T03:30:19.361Z"
   },
   {
    "duration": 21,
    "start_time": "2024-07-10T03:30:19.876Z"
   },
   {
    "duration": 2006,
    "start_time": "2024-07-10T03:30:21.161Z"
   },
   {
    "duration": 55,
    "start_time": "2024-07-10T03:30:24.326Z"
   },
   {
    "duration": 120,
    "start_time": "2024-07-10T03:32:19.394Z"
   },
   {
    "duration": 4,
    "start_time": "2024-07-10T03:32:28.453Z"
   },
   {
    "duration": 293,
    "start_time": "2024-07-10T03:32:28.989Z"
   },
   {
    "duration": 16,
    "start_time": "2024-07-10T03:32:29.286Z"
   },
   {
    "duration": 9,
    "start_time": "2024-07-10T03:32:29.313Z"
   },
   {
    "duration": 18,
    "start_time": "2024-07-10T03:32:29.456Z"
   },
   {
    "duration": 10,
    "start_time": "2024-07-10T03:32:29.491Z"
   },
   {
    "duration": 13,
    "start_time": "2024-07-10T03:32:29.614Z"
   },
   {
    "duration": 10,
    "start_time": "2024-07-10T03:32:29.659Z"
   },
   {
    "duration": 28,
    "start_time": "2024-07-10T03:32:29.753Z"
   },
   {
    "duration": 25,
    "start_time": "2024-07-10T03:32:29.812Z"
   },
   {
    "duration": 7,
    "start_time": "2024-07-10T03:32:29.844Z"
   },
   {
    "duration": 30,
    "start_time": "2024-07-10T03:32:29.984Z"
   },
   {
    "duration": 34,
    "start_time": "2024-07-10T03:32:30.078Z"
   },
   {
    "duration": 22,
    "start_time": "2024-07-10T03:32:30.145Z"
   },
   {
    "duration": 8,
    "start_time": "2024-07-10T03:32:30.186Z"
   },
   {
    "duration": 23,
    "start_time": "2024-07-10T03:32:30.404Z"
   },
   {
    "duration": 27,
    "start_time": "2024-07-10T03:32:30.501Z"
   },
   {
    "duration": 12,
    "start_time": "2024-07-10T03:32:30.533Z"
   },
   {
    "duration": 28,
    "start_time": "2024-07-10T03:32:30.748Z"
   },
   {
    "duration": 12,
    "start_time": "2024-07-10T03:32:30.840Z"
   },
   {
    "duration": 241,
    "start_time": "2024-07-10T03:32:30.903Z"
   },
   {
    "duration": 226,
    "start_time": "2024-07-10T03:32:31.149Z"
   },
   {
    "duration": 238,
    "start_time": "2024-07-10T03:32:31.379Z"
   },
   {
    "duration": 234,
    "start_time": "2024-07-10T03:32:31.622Z"
   },
   {
    "duration": 242,
    "start_time": "2024-07-10T03:32:31.860Z"
   },
   {
    "duration": 15,
    "start_time": "2024-07-10T03:32:32.114Z"
   },
   {
    "duration": 26,
    "start_time": "2024-07-10T03:32:32.132Z"
   },
   {
    "duration": 17,
    "start_time": "2024-07-10T03:32:32.301Z"
   },
   {
    "duration": 1885,
    "start_time": "2024-07-10T03:32:34.827Z"
   },
   {
    "duration": 56,
    "start_time": "2024-07-10T03:32:39.179Z"
   },
   {
    "duration": 4,
    "start_time": "2024-07-10T03:39:13.641Z"
   },
   {
    "duration": 276,
    "start_time": "2024-07-10T03:39:13.700Z"
   },
   {
    "duration": 15,
    "start_time": "2024-07-10T03:39:13.980Z"
   },
   {
    "duration": 19,
    "start_time": "2024-07-10T03:39:13.999Z"
   },
   {
    "duration": 17,
    "start_time": "2024-07-10T03:39:14.147Z"
   },
   {
    "duration": 9,
    "start_time": "2024-07-10T03:39:14.193Z"
   },
   {
    "duration": 9,
    "start_time": "2024-07-10T03:39:14.317Z"
   },
   {
    "duration": 12,
    "start_time": "2024-07-10T03:39:14.348Z"
   },
   {
    "duration": 27,
    "start_time": "2024-07-10T03:39:14.463Z"
   },
   {
    "duration": 34,
    "start_time": "2024-07-10T03:39:14.520Z"
   },
   {
    "duration": 12,
    "start_time": "2024-07-10T03:39:14.559Z"
   },
   {
    "duration": 36,
    "start_time": "2024-07-10T03:39:14.690Z"
   },
   {
    "duration": 42,
    "start_time": "2024-07-10T03:39:14.782Z"
   },
   {
    "duration": 19,
    "start_time": "2024-07-10T03:39:14.847Z"
   },
   {
    "duration": 7,
    "start_time": "2024-07-10T03:39:14.874Z"
   },
   {
    "duration": 23,
    "start_time": "2024-07-10T03:39:15.106Z"
   },
   {
    "duration": 24,
    "start_time": "2024-07-10T03:39:15.186Z"
   },
   {
    "duration": 8,
    "start_time": "2024-07-10T03:39:15.217Z"
   },
   {
    "duration": 28,
    "start_time": "2024-07-10T03:39:17.322Z"
   },
   {
    "duration": 13,
    "start_time": "2024-07-10T03:39:17.847Z"
   },
   {
    "duration": 246,
    "start_time": "2024-07-10T03:39:18.821Z"
   },
   {
    "duration": 212,
    "start_time": "2024-07-10T03:39:19.324Z"
   },
   {
    "duration": 222,
    "start_time": "2024-07-10T03:39:19.540Z"
   },
   {
    "duration": 206,
    "start_time": "2024-07-10T03:39:19.765Z"
   },
   {
    "duration": 68,
    "start_time": "2024-07-10T03:39:19.975Z"
   },
   {
    "duration": 15,
    "start_time": "2024-07-10T03:39:20.046Z"
   },
   {
    "duration": 49,
    "start_time": "2024-07-10T03:39:20.065Z"
   },
   {
    "duration": 17,
    "start_time": "2024-07-10T03:39:20.429Z"
   },
   {
    "duration": 1970,
    "start_time": "2024-07-10T03:39:22.064Z"
   },
   {
    "duration": 66,
    "start_time": "2024-07-10T03:42:01.769Z"
   },
   {
    "duration": 29,
    "start_time": "2024-07-10T03:57:16.676Z"
   },
   {
    "duration": 766,
    "start_time": "2024-07-10T03:57:39.278Z"
   },
   {
    "duration": 594,
    "start_time": "2024-07-10T03:57:55.234Z"
   },
   {
    "duration": 1496,
    "start_time": "2024-07-10T03:58:54.662Z"
   },
   {
    "duration": 658,
    "start_time": "2024-07-10T03:59:08.011Z"
   },
   {
    "duration": 793,
    "start_time": "2024-07-10T04:00:34.956Z"
   },
   {
    "duration": 777,
    "start_time": "2024-07-10T04:00:47.599Z"
   },
   {
    "duration": 482,
    "start_time": "2024-07-10T04:01:17.447Z"
   },
   {
    "duration": 481,
    "start_time": "2024-07-10T04:01:25.824Z"
   },
   {
    "duration": 489,
    "start_time": "2024-07-10T04:03:41.000Z"
   },
   {
    "duration": 147,
    "start_time": "2024-07-10T04:05:25.750Z"
   },
   {
    "duration": 14,
    "start_time": "2024-07-10T04:05:32.662Z"
   },
   {
    "duration": 8,
    "start_time": "2024-07-10T04:05:32.699Z"
   },
   {
    "duration": 16,
    "start_time": "2024-07-10T04:05:32.999Z"
   },
   {
    "duration": 19,
    "start_time": "2024-07-10T04:05:33.033Z"
   },
   {
    "duration": 9,
    "start_time": "2024-07-10T04:05:33.156Z"
   },
   {
    "duration": 10,
    "start_time": "2024-07-10T04:05:33.183Z"
   },
   {
    "duration": 23,
    "start_time": "2024-07-10T04:05:33.293Z"
   },
   {
    "duration": 35,
    "start_time": "2024-07-10T04:05:33.361Z"
   },
   {
    "duration": 9,
    "start_time": "2024-07-10T04:05:33.399Z"
   },
   {
    "duration": 33,
    "start_time": "2024-07-10T04:05:33.511Z"
   },
   {
    "duration": 34,
    "start_time": "2024-07-10T04:05:33.629Z"
   },
   {
    "duration": 20,
    "start_time": "2024-07-10T04:05:33.683Z"
   },
   {
    "duration": 10,
    "start_time": "2024-07-10T04:05:33.716Z"
   },
   {
    "duration": 22,
    "start_time": "2024-07-10T04:05:33.953Z"
   },
   {
    "duration": 22,
    "start_time": "2024-07-10T04:05:34.013Z"
   },
   {
    "duration": 8,
    "start_time": "2024-07-10T04:05:34.047Z"
   },
   {
    "duration": 25,
    "start_time": "2024-07-10T04:05:34.272Z"
   },
   {
    "duration": 11,
    "start_time": "2024-07-10T04:05:34.382Z"
   },
   {
    "duration": 266,
    "start_time": "2024-07-10T04:05:34.448Z"
   },
   {
    "duration": 314,
    "start_time": "2024-07-10T04:05:34.718Z"
   },
   {
    "duration": 241,
    "start_time": "2024-07-10T04:05:35.038Z"
   },
   {
    "duration": 263,
    "start_time": "2024-07-10T04:05:35.284Z"
   },
   {
    "duration": 38,
    "start_time": "2024-07-10T04:05:35.551Z"
   },
   {
    "duration": 23,
    "start_time": "2024-07-10T04:05:35.592Z"
   },
   {
    "duration": 37,
    "start_time": "2024-07-10T04:05:35.617Z"
   },
   {
    "duration": 17,
    "start_time": "2024-07-10T04:05:35.657Z"
   },
   {
    "duration": 2050,
    "start_time": "2024-07-10T04:05:35.676Z"
   },
   {
    "duration": 4,
    "start_time": "2024-07-10T04:05:41.967Z"
   },
   {
    "duration": 354,
    "start_time": "2024-07-10T04:05:42.499Z"
   },
   {
    "duration": 16,
    "start_time": "2024-07-10T04:05:42.857Z"
   },
   {
    "duration": 7,
    "start_time": "2024-07-10T04:05:42.876Z"
   },
   {
    "duration": 15,
    "start_time": "2024-07-10T04:05:42.969Z"
   },
   {
    "duration": 9,
    "start_time": "2024-07-10T04:05:42.998Z"
   },
   {
    "duration": 19,
    "start_time": "2024-07-10T04:05:43.124Z"
   },
   {
    "duration": 10,
    "start_time": "2024-07-10T04:05:43.167Z"
   },
   {
    "duration": 22,
    "start_time": "2024-07-10T04:05:43.262Z"
   },
   {
    "duration": 33,
    "start_time": "2024-07-10T04:05:43.325Z"
   },
   {
    "duration": 10,
    "start_time": "2024-07-10T04:05:43.361Z"
   },
   {
    "duration": 44,
    "start_time": "2024-07-10T04:05:43.498Z"
   },
   {
    "duration": 38,
    "start_time": "2024-07-10T04:05:43.590Z"
   },
   {
    "duration": 23,
    "start_time": "2024-07-10T04:05:43.655Z"
   },
   {
    "duration": 7,
    "start_time": "2024-07-10T04:05:43.686Z"
   },
   {
    "duration": 36,
    "start_time": "2024-07-10T04:05:43.917Z"
   },
   {
    "duration": 32,
    "start_time": "2024-07-10T04:05:43.979Z"
   },
   {
    "duration": 10,
    "start_time": "2024-07-10T04:05:44.015Z"
   },
   {
    "duration": 41,
    "start_time": "2024-07-10T04:05:44.248Z"
   },
   {
    "duration": 11,
    "start_time": "2024-07-10T04:05:44.351Z"
   },
   {
    "duration": 350,
    "start_time": "2024-07-10T04:05:44.418Z"
   },
   {
    "duration": 319,
    "start_time": "2024-07-10T04:05:44.773Z"
   },
   {
    "duration": 284,
    "start_time": "2024-07-10T04:05:45.095Z"
   },
   {
    "duration": 287,
    "start_time": "2024-07-10T04:05:45.383Z"
   },
   {
    "duration": 62,
    "start_time": "2024-07-10T04:05:45.674Z"
   },
   {
    "duration": 16,
    "start_time": "2024-07-10T04:05:45.740Z"
   },
   {
    "duration": 52,
    "start_time": "2024-07-10T04:05:45.760Z"
   },
   {
    "duration": 26,
    "start_time": "2024-07-10T04:05:45.819Z"
   },
   {
    "duration": 2046,
    "start_time": "2024-07-10T04:05:45.848Z"
   },
   {
    "duration": 553,
    "start_time": "2024-07-10T04:05:47.898Z"
   },
   {
    "duration": 5,
    "start_time": "2024-07-10T04:05:48.460Z"
   },
   {
    "duration": 10,
    "start_time": "2024-07-10T04:05:48.468Z"
   },
   {
    "duration": 3,
    "start_time": "2024-07-10T04:05:48.481Z"
   },
   {
    "duration": 4,
    "start_time": "2024-07-10T04:10:39.587Z"
   },
   {
    "duration": 319,
    "start_time": "2024-07-10T04:10:40.126Z"
   },
   {
    "duration": 16,
    "start_time": "2024-07-10T04:10:40.448Z"
   },
   {
    "duration": 8,
    "start_time": "2024-07-10T04:10:40.467Z"
   },
   {
    "duration": 16,
    "start_time": "2024-07-10T04:10:40.591Z"
   },
   {
    "duration": 19,
    "start_time": "2024-07-10T04:10:40.624Z"
   },
   {
    "duration": 9,
    "start_time": "2024-07-10T04:10:41.556Z"
   },
   {
    "duration": 9,
    "start_time": "2024-07-10T04:10:42.063Z"
   },
   {
    "duration": 25,
    "start_time": "2024-07-10T04:10:42.171Z"
   },
   {
    "duration": 25,
    "start_time": "2024-07-10T04:10:42.240Z"
   },
   {
    "duration": 8,
    "start_time": "2024-07-10T04:10:42.272Z"
   },
   {
    "duration": 46,
    "start_time": "2024-07-10T04:10:42.994Z"
   },
   {
    "duration": 35,
    "start_time": "2024-07-10T04:10:44.157Z"
   },
   {
    "duration": 20,
    "start_time": "2024-07-10T04:10:44.971Z"
   },
   {
    "duration": 7,
    "start_time": "2024-07-10T04:10:45.381Z"
   },
   {
    "duration": 25,
    "start_time": "2024-07-10T04:10:47.316Z"
   },
   {
    "duration": 23,
    "start_time": "2024-07-10T04:10:47.378Z"
   },
   {
    "duration": 7,
    "start_time": "2024-07-10T04:10:47.412Z"
   },
   {
    "duration": 28,
    "start_time": "2024-07-10T04:10:47.647Z"
   },
   {
    "duration": 21,
    "start_time": "2024-07-10T04:10:47.740Z"
   },
   {
    "duration": 265,
    "start_time": "2024-07-10T04:10:48.530Z"
   },
   {
    "duration": 258,
    "start_time": "2024-07-10T04:10:49.021Z"
   },
   {
    "duration": 236,
    "start_time": "2024-07-10T04:10:50.050Z"
   },
   {
    "duration": 505,
    "start_time": "2024-07-10T04:10:50.366Z"
   },
   {
    "duration": 51,
    "start_time": "2024-07-10T04:10:51.535Z"
   },
   {
    "duration": 14,
    "start_time": "2024-07-10T04:10:52.000Z"
   },
   {
    "duration": 39,
    "start_time": "2024-07-10T04:10:53.421Z"
   },
   {
    "duration": 82,
    "start_time": "2024-07-10T04:10:54.147Z"
   },
   {
    "duration": 2058,
    "start_time": "2024-07-10T04:10:57.407Z"
   },
   {
    "duration": 496,
    "start_time": "2024-07-10T04:11:06.319Z"
   },
   {
    "duration": 29,
    "start_time": "2024-07-10T04:14:11.405Z"
   },
   {
    "duration": 31,
    "start_time": "2024-07-10T04:14:25.363Z"
   },
   {
    "duration": 28,
    "start_time": "2024-07-10T04:15:31.780Z"
   },
   {
    "duration": 540,
    "start_time": "2024-07-10T04:16:04.599Z"
   },
   {
    "duration": 441,
    "start_time": "2024-07-10T04:16:51.244Z"
   },
   {
    "duration": 508,
    "start_time": "2024-07-10T04:17:00.477Z"
   },
   {
    "duration": 494,
    "start_time": "2024-07-10T04:18:18.055Z"
   },
   {
    "duration": 513,
    "start_time": "2024-07-10T04:18:50.778Z"
   },
   {
    "duration": 539,
    "start_time": "2024-07-10T04:19:30.990Z"
   },
   {
    "duration": 498,
    "start_time": "2024-07-10T04:19:46.478Z"
   },
   {
    "duration": 508,
    "start_time": "2024-07-10T04:20:47.404Z"
   },
   {
    "duration": 518,
    "start_time": "2024-07-10T04:21:46.826Z"
   },
   {
    "duration": 565,
    "start_time": "2024-07-10T04:22:44.206Z"
   },
   {
    "duration": 546,
    "start_time": "2024-07-10T04:22:48.127Z"
   },
   {
    "duration": 542,
    "start_time": "2024-07-10T04:23:08.463Z"
   },
   {
    "duration": 799,
    "start_time": "2024-07-10T04:23:36.628Z"
   },
   {
    "duration": 4,
    "start_time": "2024-07-10T04:24:02.189Z"
   },
   {
    "duration": 303,
    "start_time": "2024-07-10T04:24:02.737Z"
   },
   {
    "duration": 15,
    "start_time": "2024-07-10T04:24:03.048Z"
   },
   {
    "duration": 8,
    "start_time": "2024-07-10T04:24:03.066Z"
   },
   {
    "duration": 15,
    "start_time": "2024-07-10T04:24:03.205Z"
   },
   {
    "duration": 8,
    "start_time": "2024-07-10T04:24:03.229Z"
   },
   {
    "duration": 8,
    "start_time": "2024-07-10T04:24:03.362Z"
   },
   {
    "duration": 10,
    "start_time": "2024-07-10T04:24:03.382Z"
   },
   {
    "duration": 23,
    "start_time": "2024-07-10T04:24:03.490Z"
   },
   {
    "duration": 28,
    "start_time": "2024-07-10T04:24:03.555Z"
   },
   {
    "duration": 8,
    "start_time": "2024-07-10T04:24:03.586Z"
   },
   {
    "duration": 35,
    "start_time": "2024-07-10T04:24:03.724Z"
   },
   {
    "duration": 34,
    "start_time": "2024-07-10T04:24:03.817Z"
   },
   {
    "duration": 21,
    "start_time": "2024-07-10T04:24:03.882Z"
   },
   {
    "duration": 8,
    "start_time": "2024-07-10T04:24:03.920Z"
   },
   {
    "duration": 27,
    "start_time": "2024-07-10T04:24:04.145Z"
   },
   {
    "duration": 21,
    "start_time": "2024-07-10T04:24:04.209Z"
   },
   {
    "duration": 8,
    "start_time": "2024-07-10T04:24:04.238Z"
   },
   {
    "duration": 28,
    "start_time": "2024-07-10T04:24:04.472Z"
   },
   {
    "duration": 11,
    "start_time": "2024-07-10T04:24:04.581Z"
   },
   {
    "duration": 244,
    "start_time": "2024-07-10T04:24:04.648Z"
   },
   {
    "duration": 252,
    "start_time": "2024-07-10T04:24:04.895Z"
   },
   {
    "duration": 233,
    "start_time": "2024-07-10T04:24:05.150Z"
   },
   {
    "duration": 237,
    "start_time": "2024-07-10T04:24:05.387Z"
   },
   {
    "duration": 37,
    "start_time": "2024-07-10T04:24:05.627Z"
   },
   {
    "duration": 14,
    "start_time": "2024-07-10T04:24:05.667Z"
   },
   {
    "duration": 28,
    "start_time": "2024-07-10T04:24:05.713Z"
   },
   {
    "duration": 102,
    "start_time": "2024-07-10T04:24:05.744Z"
   },
   {
    "duration": 1921,
    "start_time": "2024-07-10T04:24:05.849Z"
   },
   {
    "duration": 468,
    "start_time": "2024-07-10T04:24:12.289Z"
   },
   {
    "duration": 577,
    "start_time": "2024-07-10T04:24:18.061Z"
   },
   {
    "duration": 400,
    "start_time": "2024-07-10T04:40:58.799Z"
   },
   {
    "duration": 532,
    "start_time": "2024-07-10T04:41:36.169Z"
   },
   {
    "duration": 527,
    "start_time": "2024-07-10T04:42:08.729Z"
   },
   {
    "duration": 498,
    "start_time": "2024-07-10T04:42:56.758Z"
   },
   {
    "duration": 600,
    "start_time": "2024-07-10T04:43:23.413Z"
   },
   {
    "duration": 567,
    "start_time": "2024-07-10T04:43:44.233Z"
   },
   {
    "duration": 629,
    "start_time": "2024-07-10T04:43:54.389Z"
   },
   {
    "duration": 627,
    "start_time": "2024-07-10T04:44:30.557Z"
   },
   {
    "duration": 642,
    "start_time": "2024-07-10T04:45:53.006Z"
   },
   {
    "duration": 19,
    "start_time": "2024-07-10T04:50:08.192Z"
   },
   {
    "duration": 6,
    "start_time": "2024-07-10T04:51:29.096Z"
   },
   {
    "duration": 740,
    "start_time": "2024-07-10T04:53:12.031Z"
   },
   {
    "duration": 476,
    "start_time": "2024-07-10T04:54:27.568Z"
   },
   {
    "duration": 512,
    "start_time": "2024-07-10T04:55:43.953Z"
   },
   {
    "duration": 625,
    "start_time": "2024-07-10T04:56:06.962Z"
   },
   {
    "duration": 705,
    "start_time": "2024-07-10T04:59:16.671Z"
   },
   {
    "duration": 444,
    "start_time": "2024-07-10T04:59:25.616Z"
   },
   {
    "duration": 579,
    "start_time": "2024-07-10T04:59:36.172Z"
   },
   {
    "duration": 17,
    "start_time": "2024-07-10T05:10:38.823Z"
   },
   {
    "duration": 23,
    "start_time": "2024-07-10T05:11:05.887Z"
   },
   {
    "duration": 25,
    "start_time": "2024-07-10T05:13:54.496Z"
   },
   {
    "duration": 30,
    "start_time": "2024-07-10T05:14:50.945Z"
   },
   {
    "duration": 24,
    "start_time": "2024-07-10T05:15:13.459Z"
   },
   {
    "duration": 26,
    "start_time": "2024-07-10T05:15:46.460Z"
   },
   {
    "duration": 1228,
    "start_time": "2024-07-10T05:18:24.643Z"
   },
   {
    "duration": 1686,
    "start_time": "2024-07-10T05:19:48.389Z"
   },
   {
    "duration": 2011,
    "start_time": "2024-07-10T05:20:55.441Z"
   },
   {
    "duration": 1037,
    "start_time": "2024-07-10T05:21:24.605Z"
   },
   {
    "duration": 792,
    "start_time": "2024-07-10T05:22:19.941Z"
   },
   {
    "duration": 26,
    "start_time": "2024-07-10T05:27:41.725Z"
   },
   {
    "duration": 788,
    "start_time": "2024-07-10T05:28:18.865Z"
   },
   {
    "duration": 776,
    "start_time": "2024-07-10T05:29:12.144Z"
   },
   {
    "duration": 13,
    "start_time": "2024-07-10T05:36:46.654Z"
   },
   {
    "duration": 13,
    "start_time": "2024-07-10T05:36:56.153Z"
   },
   {
    "duration": 12,
    "start_time": "2024-07-10T05:36:59.574Z"
   },
   {
    "duration": 464,
    "start_time": "2024-07-10T05:37:02.324Z"
   },
   {
    "duration": 6,
    "start_time": "2024-07-10T05:44:28.073Z"
   },
   {
    "duration": 25,
    "start_time": "2024-07-10T05:45:00.229Z"
   },
   {
    "duration": 26,
    "start_time": "2024-07-10T05:45:02.639Z"
   },
   {
    "duration": 791,
    "start_time": "2024-07-10T05:45:03.164Z"
   },
   {
    "duration": 387,
    "start_time": "2024-07-10T05:50:34.945Z"
   },
   {
    "duration": 565,
    "start_time": "2024-07-10T05:50:54.750Z"
   },
   {
    "duration": 474,
    "start_time": "2024-07-10T05:53:33.129Z"
   },
   {
    "duration": 559,
    "start_time": "2024-07-10T05:54:57.080Z"
   },
   {
    "duration": 579,
    "start_time": "2024-07-10T05:55:02.075Z"
   },
   {
    "duration": 6,
    "start_time": "2024-07-10T05:55:03.297Z"
   },
   {
    "duration": 4868,
    "start_time": "2024-07-10T06:58:56.171Z"
   },
   {
    "duration": 415,
    "start_time": "2024-07-10T06:59:01.044Z"
   },
   {
    "duration": 17,
    "start_time": "2024-07-10T06:59:01.462Z"
   },
   {
    "duration": 19,
    "start_time": "2024-07-10T06:59:01.483Z"
   },
   {
    "duration": 16,
    "start_time": "2024-07-10T06:59:01.505Z"
   },
   {
    "duration": 10,
    "start_time": "2024-07-10T06:59:01.524Z"
   },
   {
    "duration": 10,
    "start_time": "2024-07-10T06:59:01.538Z"
   },
   {
    "duration": 56,
    "start_time": "2024-07-10T06:59:01.551Z"
   },
   {
    "duration": 24,
    "start_time": "2024-07-10T06:59:01.610Z"
   },
   {
    "duration": 58,
    "start_time": "2024-07-10T06:59:01.642Z"
   },
   {
    "duration": 8,
    "start_time": "2024-07-10T06:59:01.703Z"
   },
   {
    "duration": 28,
    "start_time": "2024-07-10T06:59:01.715Z"
   },
   {
    "duration": 72,
    "start_time": "2024-07-10T06:59:01.746Z"
   },
   {
    "duration": 20,
    "start_time": "2024-07-10T06:59:01.821Z"
   },
   {
    "duration": 6,
    "start_time": "2024-07-10T06:59:01.844Z"
   },
   {
    "duration": 56,
    "start_time": "2024-07-10T06:59:01.853Z"
   },
   {
    "duration": 22,
    "start_time": "2024-07-10T06:59:01.912Z"
   },
   {
    "duration": 7,
    "start_time": "2024-07-10T06:59:01.938Z"
   },
   {
    "duration": 62,
    "start_time": "2024-07-10T06:59:01.948Z"
   },
   {
    "duration": 11,
    "start_time": "2024-07-10T06:59:02.013Z"
   },
   {
    "duration": 265,
    "start_time": "2024-07-10T06:59:02.029Z"
   },
   {
    "duration": 232,
    "start_time": "2024-07-10T06:59:02.301Z"
   },
   {
    "duration": 248,
    "start_time": "2024-07-10T06:59:02.536Z"
   },
   {
    "duration": 227,
    "start_time": "2024-07-10T06:59:02.787Z"
   },
   {
    "duration": 37,
    "start_time": "2024-07-10T06:59:03.017Z"
   },
   {
    "duration": 46,
    "start_time": "2024-07-10T06:59:03.058Z"
   },
   {
    "duration": 25,
    "start_time": "2024-07-10T06:59:03.107Z"
   },
   {
    "duration": 104,
    "start_time": "2024-07-10T06:59:03.140Z"
   },
   {
    "duration": 1848,
    "start_time": "2024-07-10T06:59:03.248Z"
   },
   {
    "duration": 654,
    "start_time": "2024-07-10T06:59:05.099Z"
   },
   {
    "duration": 640,
    "start_time": "2024-07-10T06:59:05.755Z"
   },
   {
    "duration": 6,
    "start_time": "2024-07-10T06:59:06.399Z"
   },
   {
    "duration": 507,
    "start_time": "2024-07-10T06:59:06.408Z"
   },
   {
    "duration": 855,
    "start_time": "2024-07-10T06:59:06.919Z"
   },
   {
    "duration": 29,
    "start_time": "2024-07-10T06:59:07.778Z"
   },
   {
    "duration": 514,
    "start_time": "2024-07-10T06:59:07.810Z"
   },
   {
    "duration": 6,
    "start_time": "2024-07-10T06:59:08.329Z"
   },
   {
    "duration": 26,
    "start_time": "2024-07-10T06:59:08.339Z"
   },
   {
    "duration": 895,
    "start_time": "2024-07-10T06:59:08.368Z"
   },
   {
    "duration": 595,
    "start_time": "2024-07-10T06:59:09.266Z"
   },
   {
    "duration": 7,
    "start_time": "2024-07-10T06:59:09.866Z"
   },
   {
    "duration": 37,
    "start_time": "2024-07-10T07:10:31.857Z"
   },
   {
    "duration": 483,
    "start_time": "2024-07-10T07:12:48.606Z"
   },
   {
    "duration": 430,
    "start_time": "2024-07-10T07:30:10.340Z"
   },
   {
    "duration": 4,
    "start_time": "2024-07-10T07:30:47.899Z"
   },
   {
    "duration": 11,
    "start_time": "2024-07-10T07:34:02.970Z"
   },
   {
    "duration": 924,
    "start_time": "2024-07-10T07:53:23.489Z"
   },
   {
    "duration": 52,
    "start_time": "2024-07-10T08:05:36.075Z"
   },
   {
    "duration": 217,
    "start_time": "2024-07-10T08:06:10.039Z"
   },
   {
    "duration": 4,
    "start_time": "2024-07-10T08:08:52.512Z"
   },
   {
    "duration": 271,
    "start_time": "2024-07-10T08:08:53.063Z"
   },
   {
    "duration": 15,
    "start_time": "2024-07-10T08:08:53.337Z"
   },
   {
    "duration": 9,
    "start_time": "2024-07-10T08:08:53.357Z"
   },
   {
    "duration": 16,
    "start_time": "2024-07-10T08:08:53.619Z"
   },
   {
    "duration": 10,
    "start_time": "2024-07-10T08:08:53.639Z"
   },
   {
    "duration": 9,
    "start_time": "2024-07-10T08:08:53.828Z"
   },
   {
    "duration": 15,
    "start_time": "2024-07-10T08:08:53.841Z"
   },
   {
    "duration": 41,
    "start_time": "2024-07-10T08:08:53.860Z"
   },
   {
    "duration": 25,
    "start_time": "2024-07-10T08:08:53.905Z"
   },
   {
    "duration": 7,
    "start_time": "2024-07-10T08:08:54.070Z"
   },
   {
    "duration": 33,
    "start_time": "2024-07-10T08:08:54.080Z"
   },
   {
    "duration": 34,
    "start_time": "2024-07-10T08:08:54.249Z"
   },
   {
    "duration": 19,
    "start_time": "2024-07-10T08:08:54.289Z"
   },
   {
    "duration": 7,
    "start_time": "2024-07-10T08:08:54.311Z"
   },
   {
    "duration": 22,
    "start_time": "2024-07-10T08:08:54.463Z"
   },
   {
    "duration": 22,
    "start_time": "2024-07-10T08:08:54.647Z"
   },
   {
    "duration": 7,
    "start_time": "2024-07-10T08:08:54.673Z"
   },
   {
    "duration": 27,
    "start_time": "2024-07-10T08:08:54.870Z"
   },
   {
    "duration": 11,
    "start_time": "2024-07-10T08:08:54.901Z"
   },
   {
    "duration": 256,
    "start_time": "2024-07-10T08:08:55.051Z"
   },
   {
    "duration": 249,
    "start_time": "2024-07-10T08:08:55.311Z"
   },
   {
    "duration": 232,
    "start_time": "2024-07-10T08:08:55.563Z"
   },
   {
    "duration": 245,
    "start_time": "2024-07-10T08:08:55.797Z"
   },
   {
    "duration": 60,
    "start_time": "2024-07-10T08:08:56.049Z"
   },
   {
    "duration": 15,
    "start_time": "2024-07-10T08:08:56.112Z"
   },
   {
    "duration": 24,
    "start_time": "2024-07-10T08:08:56.129Z"
   },
   {
    "duration": 108,
    "start_time": "2024-07-10T08:08:56.156Z"
   },
   {
    "duration": 1894,
    "start_time": "2024-07-10T08:08:56.267Z"
   },
   {
    "duration": 487,
    "start_time": "2024-07-10T08:08:58.164Z"
   },
   {
    "duration": 613,
    "start_time": "2024-07-10T08:08:58.654Z"
   },
   {
    "duration": 8,
    "start_time": "2024-07-10T08:08:59.270Z"
   },
   {
    "duration": 480,
    "start_time": "2024-07-10T08:08:59.282Z"
   },
   {
    "duration": 835,
    "start_time": "2024-07-10T08:08:59.768Z"
   },
   {
    "duration": 14,
    "start_time": "2024-07-10T08:09:00.607Z"
   },
   {
    "duration": 663,
    "start_time": "2024-07-10T08:09:00.624Z"
   },
   {
    "duration": 15,
    "start_time": "2024-07-10T08:09:01.290Z"
   },
   {
    "duration": 27,
    "start_time": "2024-07-10T08:09:01.308Z"
   },
   {
    "duration": 971,
    "start_time": "2024-07-10T08:09:01.338Z"
   },
   {
    "duration": 592,
    "start_time": "2024-07-10T08:09:02.312Z"
   },
   {
    "duration": 6,
    "start_time": "2024-07-10T08:09:02.907Z"
   },
   {
    "duration": 19,
    "start_time": "2024-07-10T08:09:02.916Z"
   },
   {
    "duration": 525,
    "start_time": "2024-07-10T08:09:02.938Z"
   },
   {
    "duration": 13,
    "start_time": "2024-07-10T08:09:03.466Z"
   },
   {
    "duration": 400,
    "start_time": "2024-07-10T08:09:03.481Z"
   },
   {
    "duration": 12,
    "start_time": "2024-07-10T08:15:21.958Z"
   },
   {
    "duration": 4916,
    "start_time": "2024-07-10T17:04:17.003Z"
   },
   {
    "duration": 369,
    "start_time": "2024-07-10T17:04:21.924Z"
   },
   {
    "duration": 22,
    "start_time": "2024-07-10T17:04:22.295Z"
   },
   {
    "duration": 11,
    "start_time": "2024-07-10T17:04:22.321Z"
   },
   {
    "duration": 14,
    "start_time": "2024-07-10T17:04:22.335Z"
   },
   {
    "duration": 8,
    "start_time": "2024-07-10T17:04:22.353Z"
   },
   {
    "duration": 49,
    "start_time": "2024-07-10T17:04:22.365Z"
   },
   {
    "duration": 10,
    "start_time": "2024-07-10T17:04:22.417Z"
   },
   {
    "duration": 25,
    "start_time": "2024-07-10T17:04:22.431Z"
   },
   {
    "duration": 61,
    "start_time": "2024-07-10T17:04:22.462Z"
   },
   {
    "duration": 8,
    "start_time": "2024-07-10T17:04:22.527Z"
   },
   {
    "duration": 28,
    "start_time": "2024-07-10T17:04:22.538Z"
   },
   {
    "duration": 73,
    "start_time": "2024-07-10T17:04:22.569Z"
   },
   {
    "duration": 19,
    "start_time": "2024-07-10T17:04:22.645Z"
   },
   {
    "duration": 7,
    "start_time": "2024-07-10T17:04:22.667Z"
   },
   {
    "duration": 56,
    "start_time": "2024-07-10T17:04:22.677Z"
   },
   {
    "duration": 22,
    "start_time": "2024-07-10T17:04:22.736Z"
   },
   {
    "duration": 7,
    "start_time": "2024-07-10T17:04:22.763Z"
   },
   {
    "duration": 61,
    "start_time": "2024-07-10T17:04:22.773Z"
   },
   {
    "duration": 11,
    "start_time": "2024-07-10T17:04:22.837Z"
   },
   {
    "duration": 311,
    "start_time": "2024-07-10T17:04:22.851Z"
   },
   {
    "duration": 238,
    "start_time": "2024-07-10T17:04:23.165Z"
   },
   {
    "duration": 210,
    "start_time": "2024-07-10T17:04:23.417Z"
   },
   {
    "duration": 213,
    "start_time": "2024-07-10T17:04:23.631Z"
   },
   {
    "duration": 112,
    "start_time": "2024-07-10T17:04:23.848Z"
   },
   {
    "duration": 13,
    "start_time": "2024-07-10T17:04:23.963Z"
   },
   {
    "duration": 50,
    "start_time": "2024-07-10T17:04:23.980Z"
   },
   {
    "duration": 103,
    "start_time": "2024-07-10T17:04:24.040Z"
   },
   {
    "duration": 1941,
    "start_time": "2024-07-10T17:04:24.147Z"
   },
   {
    "duration": 595,
    "start_time": "2024-07-10T17:04:26.092Z"
   },
   {
    "duration": 611,
    "start_time": "2024-07-10T17:04:26.690Z"
   },
   {
    "duration": 10,
    "start_time": "2024-07-10T17:04:27.304Z"
   },
   {
    "duration": 499,
    "start_time": "2024-07-10T17:04:27.318Z"
   },
   {
    "duration": 822,
    "start_time": "2024-07-10T17:04:27.821Z"
   },
   {
    "duration": 14,
    "start_time": "2024-07-10T17:04:28.646Z"
   },
   {
    "duration": 588,
    "start_time": "2024-07-10T17:04:28.662Z"
   },
   {
    "duration": 6,
    "start_time": "2024-07-10T17:04:29.254Z"
   },
   {
    "duration": 49,
    "start_time": "2024-07-10T17:04:29.263Z"
   },
   {
    "duration": 819,
    "start_time": "2024-07-10T17:04:29.315Z"
   },
   {
    "duration": 571,
    "start_time": "2024-07-10T17:04:30.137Z"
   },
   {
    "duration": 13,
    "start_time": "2024-07-10T17:04:30.714Z"
   },
   {
    "duration": 19,
    "start_time": "2024-07-10T17:04:41.196Z"
   },
   {
    "duration": 489,
    "start_time": "2024-07-10T17:04:41.243Z"
   },
   {
    "duration": 12,
    "start_time": "2024-07-10T17:04:41.737Z"
   },
   {
    "duration": 13,
    "start_time": "2024-07-10T17:04:41.752Z"
   },
   {
    "duration": 48,
    "start_time": "2024-07-10T17:04:41.769Z"
   },
   {
    "duration": 17,
    "start_time": "2024-07-10T18:41:35.390Z"
   },
   {
    "duration": 39,
    "start_time": "2024-07-10T18:42:00.948Z"
   },
   {
    "duration": 236,
    "start_time": "2024-07-10T18:50:10.376Z"
   },
   {
    "duration": 88,
    "start_time": "2024-07-10T18:55:45.326Z"
   },
   {
    "duration": 4,
    "start_time": "2024-07-10T21:56:35.977Z"
   },
   {
    "duration": 290,
    "start_time": "2024-07-10T21:56:35.986Z"
   },
   {
    "duration": 16,
    "start_time": "2024-07-10T21:56:36.279Z"
   },
   {
    "duration": 8,
    "start_time": "2024-07-10T21:56:36.312Z"
   },
   {
    "duration": 15,
    "start_time": "2024-07-10T21:56:36.361Z"
   },
   {
    "duration": 9,
    "start_time": "2024-07-10T21:56:36.379Z"
   },
   {
    "duration": 10,
    "start_time": "2024-07-10T21:56:36.549Z"
   },
   {
    "duration": 10,
    "start_time": "2024-07-10T21:56:36.562Z"
   },
   {
    "duration": 21,
    "start_time": "2024-07-10T21:56:36.575Z"
   },
   {
    "duration": 30,
    "start_time": "2024-07-10T21:56:36.600Z"
   },
   {
    "duration": 7,
    "start_time": "2024-07-10T21:56:36.735Z"
   },
   {
    "duration": 38,
    "start_time": "2024-07-10T21:56:36.746Z"
   },
   {
    "duration": 41,
    "start_time": "2024-07-10T21:56:36.788Z"
   },
   {
    "duration": 20,
    "start_time": "2024-07-10T21:56:36.948Z"
   },
   {
    "duration": 7,
    "start_time": "2024-07-10T21:56:36.971Z"
   },
   {
    "duration": 19,
    "start_time": "2024-07-10T21:56:36.984Z"
   },
   {
    "duration": 22,
    "start_time": "2024-07-10T21:56:37.142Z"
   },
   {
    "duration": 24,
    "start_time": "2024-07-10T21:56:37.167Z"
   },
   {
    "duration": 8,
    "start_time": "2024-07-10T21:56:37.194Z"
   },
   {
    "duration": 36,
    "start_time": "2024-07-10T21:56:37.314Z"
   },
   {
    "duration": 31,
    "start_time": "2024-07-10T21:56:37.354Z"
   },
   {
    "duration": 32,
    "start_time": "2024-07-10T21:56:37.388Z"
   },
   {
    "duration": 255,
    "start_time": "2024-07-10T21:56:37.433Z"
   },
   {
    "duration": 287,
    "start_time": "2024-07-10T21:56:37.692Z"
   },
   {
    "duration": 342,
    "start_time": "2024-07-10T21:56:37.982Z"
   },
   {
    "duration": 313,
    "start_time": "2024-07-10T21:56:38.330Z"
   },
   {
    "duration": 41,
    "start_time": "2024-07-10T21:56:38.647Z"
   },
   {
    "duration": 16,
    "start_time": "2024-07-10T21:56:38.711Z"
   },
   {
    "duration": 32,
    "start_time": "2024-07-10T21:56:38.731Z"
   },
   {
    "duration": 137,
    "start_time": "2024-07-10T21:56:38.767Z"
   },
   {
    "duration": 2090,
    "start_time": "2024-07-10T21:56:38.916Z"
   },
   {
    "duration": 478,
    "start_time": "2024-07-10T21:56:41.016Z"
   },
   {
    "duration": 683,
    "start_time": "2024-07-10T21:56:41.499Z"
   },
   {
    "duration": 7,
    "start_time": "2024-07-10T21:56:42.187Z"
   },
   {
    "duration": 559,
    "start_time": "2024-07-10T21:56:42.198Z"
   },
   {
    "duration": 971,
    "start_time": "2024-07-10T21:56:42.760Z"
   },
   {
    "duration": 13,
    "start_time": "2024-07-10T21:56:43.736Z"
   },
   {
    "duration": 509,
    "start_time": "2024-07-10T21:56:43.753Z"
   },
   {
    "duration": 6,
    "start_time": "2024-07-10T21:56:44.268Z"
   },
   {
    "duration": 50,
    "start_time": "2024-07-10T21:56:44.276Z"
   },
   {
    "duration": 848,
    "start_time": "2024-07-10T21:56:44.329Z"
   },
   {
    "duration": 573,
    "start_time": "2024-07-10T21:56:45.181Z"
   },
   {
    "duration": 8,
    "start_time": "2024-07-10T21:56:45.757Z"
   },
   {
    "duration": 46,
    "start_time": "2024-07-10T21:56:45.769Z"
   },
   {
    "duration": 528,
    "start_time": "2024-07-10T21:56:45.818Z"
   },
   {
    "duration": 11,
    "start_time": "2024-07-10T21:56:46.350Z"
   },
   {
    "duration": 12,
    "start_time": "2024-07-10T21:56:46.364Z"
   },
   {
    "duration": 43,
    "start_time": "2024-07-10T21:56:46.379Z"
   },
   {
    "duration": 7,
    "start_time": "2024-07-10T21:59:41.195Z"
   },
   {
    "duration": 4896,
    "start_time": "2024-07-13T04:32:59.780Z"
   }
  ],
  "colab": {
   "provenance": []
  },
  "kernelspec": {
   "display_name": "Python [conda env:base] *",
   "language": "python",
   "name": "conda-base-py"
  },
  "language_info": {
   "codemirror_mode": {
    "name": "ipython",
    "version": 3
   },
   "file_extension": ".py",
   "mimetype": "text/x-python",
   "name": "python",
   "nbconvert_exporter": "python",
   "pygments_lexer": "ipython3",
   "version": "3.12.7"
  },
  "toc": {
   "base_numbering": 1,
   "nav_menu": {},
   "number_sections": true,
   "sideBar": true,
   "skip_h1_title": false,
   "title_cell": "Table of Contents",
   "title_sidebar": "Contents",
   "toc_cell": false,
   "toc_position": {
    "height": "calc(100% - 180px)",
    "left": "10px",
    "top": "150px",
    "width": "313px"
   },
   "toc_section_display": true,
   "toc_window_display": true
  }
 },
 "nbformat": 4,
 "nbformat_minor": 4
}
